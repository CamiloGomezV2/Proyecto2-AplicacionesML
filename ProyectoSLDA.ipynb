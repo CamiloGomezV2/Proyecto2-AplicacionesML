{
  "nbformat": 4,
  "nbformat_minor": 0,
  "metadata": {
    "colab": {
      "provenance": []
    },
    "kernelspec": {
      "name": "python3",
      "display_name": "Python 3"
    },
    "language_info": {
      "name": "python"
    }
  },
  "cells": [
    {
      "cell_type": "markdown",
      "source": [
        "# Proyecto Módulo 2\n",
        "## Aplicaciones del Machine Learning\n",
        "### Camilo Andres Gomez Vargas\n",
        "### Santiago Ortiz Pérez"
      ],
      "metadata": {
        "id": "1weUuUaT7OoD"
      }
    },
    {
      "cell_type": "markdown",
      "source": [
        "### Cargamos las librerías ..."
      ],
      "metadata": {
        "id": "JUi7vXRg81U_"
      }
    },
    {
      "cell_type": "code",
      "execution_count": 11,
      "metadata": {
        "colab": {
          "base_uri": "https://localhost:8080/",
          "height": 0
        },
        "collapsed": true,
        "id": "3qHdoo4Dq1EZ",
        "outputId": "96b8644f-0fc7-4936-d2fc-63f488a86a37"
      },
      "outputs": [
        {
          "output_type": "stream",
          "name": "stdout",
          "text": [
            "Collecting aiohappyeyeballs==2.5.0 (from -r requirements.txt (line 1))\n",
            "  Downloading aiohappyeyeballs-2.5.0-py3-none-any.whl.metadata (5.9 kB)\n",
            "Collecting aiohttp==3.11.13 (from -r requirements.txt (line 2))\n",
            "  Downloading aiohttp-3.11.13-cp311-cp311-manylinux_2_17_x86_64.manylinux2014_x86_64.whl.metadata (7.7 kB)\n",
            "Requirement already satisfied: aiosignal==1.3.2 in /usr/local/lib/python3.11/dist-packages (from -r requirements.txt (line 3)) (1.3.2)\n",
            "Requirement already satisfied: annotated-types==0.7.0 in /usr/local/lib/python3.11/dist-packages (from -r requirements.txt (line 4)) (0.7.0)\n",
            "Collecting anyio==4.8.0 (from -r requirements.txt (line 5))\n",
            "  Downloading anyio-4.8.0-py3-none-any.whl.metadata (4.6 kB)\n",
            "Collecting attrs==25.1.0 (from -r requirements.txt (line 6))\n",
            "  Downloading attrs-25.1.0-py3-none-any.whl.metadata (10 kB)\n",
            "Collecting blis==1.2.0 (from -r requirements.txt (line 7))\n",
            "  Downloading blis-1.2.0-cp311-cp311-manylinux_2_17_x86_64.manylinux2014_x86_64.whl.metadata (7.7 kB)\n",
            "Requirement already satisfied: catalogue==2.0.10 in /usr/local/lib/python3.11/dist-packages (from -r requirements.txt (line 8)) (2.0.10)\n",
            "Collecting certifi==2025.1.31 (from -r requirements.txt (line 9))\n",
            "  Downloading certifi-2025.1.31-py3-none-any.whl.metadata (2.5 kB)\n",
            "Collecting charset-normalizer==3.4.1 (from -r requirements.txt (line 10))\n",
            "  Downloading charset_normalizer-3.4.1-cp311-cp311-manylinux_2_17_x86_64.manylinux2014_x86_64.whl.metadata (35 kB)\n",
            "Collecting click==8.1.8 (from -r requirements.txt (line 11))\n",
            "  Downloading click-8.1.8-py3-none-any.whl.metadata (2.3 kB)\n",
            "Collecting cloudpathlib==0.21.0 (from -r requirements.txt (line 12))\n",
            "  Downloading cloudpathlib-0.21.0-py3-none-any.whl.metadata (14 kB)\n",
            "Requirement already satisfied: confection==0.1.5 in /usr/local/lib/python3.11/dist-packages (from -r requirements.txt (line 13)) (0.1.5)\n",
            "Collecting contourpy==1.3.1 (from -r requirements.txt (line 14))\n",
            "  Downloading contourpy-1.3.1-cp311-cp311-manylinux_2_17_x86_64.manylinux2014_x86_64.whl.metadata (5.4 kB)\n",
            "Requirement already satisfied: cycler==0.12.1 in /usr/local/lib/python3.11/dist-packages (from -r requirements.txt (line 15)) (0.12.1)\n",
            "Requirement already satisfied: cymem==2.0.11 in /usr/local/lib/python3.11/dist-packages (from -r requirements.txt (line 16)) (2.0.11)\n",
            "Collecting dataclasses-json==0.6.7 (from -r requirements.txt (line 17))\n",
            "  Downloading dataclasses_json-0.6.7-py3-none-any.whl.metadata (25 kB)\n",
            "Collecting filelock==3.17.0 (from -r requirements.txt (line 18))\n",
            "  Downloading filelock-3.17.0-py3-none-any.whl.metadata (2.9 kB)\n",
            "Collecting fonttools==4.56.0 (from -r requirements.txt (line 19))\n",
            "  Downloading fonttools-4.56.0-cp311-cp311-manylinux_2_17_x86_64.manylinux2014_x86_64.whl.metadata (101 kB)\n",
            "\u001b[2K     \u001b[90m━━━━━━━━━━━━━━━━━━━━━━━━━━━━━━━━━━━━━━━\u001b[0m \u001b[32m101.9/101.9 kB\u001b[0m \u001b[31m5.0 MB/s\u001b[0m eta \u001b[36m0:00:00\u001b[0m\n",
            "\u001b[?25hCollecting frozenlist==1.5.0 (from -r requirements.txt (line 20))\n",
            "  Downloading frozenlist-1.5.0-cp311-cp311-manylinux_2_5_x86_64.manylinux1_x86_64.manylinux_2_17_x86_64.manylinux2014_x86_64.whl.metadata (13 kB)\n",
            "Collecting fsspec==2025.3.0 (from -r requirements.txt (line 21))\n",
            "  Downloading fsspec-2025.3.0-py3-none-any.whl.metadata (11 kB)\n",
            "Collecting greenlet==3.1.1 (from -r requirements.txt (line 22))\n",
            "  Downloading greenlet-3.1.1-cp311-cp311-manylinux_2_24_x86_64.manylinux_2_28_x86_64.whl.metadata (3.8 kB)\n",
            "Collecting h11==0.14.0 (from -r requirements.txt (line 23))\n",
            "  Downloading h11-0.14.0-py3-none-any.whl.metadata (8.2 kB)\n",
            "Collecting httpcore==1.0.7 (from -r requirements.txt (line 24))\n",
            "  Downloading httpcore-1.0.7-py3-none-any.whl.metadata (21 kB)\n",
            "Requirement already satisfied: httpx==0.28.1 in /usr/local/lib/python3.11/dist-packages (from -r requirements.txt (line 25)) (0.28.1)\n",
            "Collecting httpx-sse==0.4.0 (from -r requirements.txt (line 26))\n",
            "  Downloading httpx_sse-0.4.0-py3-none-any.whl.metadata (9.0 kB)\n",
            "Collecting huggingface-hub==0.29.2 (from -r requirements.txt (line 27))\n",
            "  Downloading huggingface_hub-0.29.2-py3-none-any.whl.metadata (13 kB)\n",
            "Requirement already satisfied: idna==3.10 in /usr/local/lib/python3.11/dist-packages (from -r requirements.txt (line 28)) (3.10)\n",
            "Collecting ipywidgets==8.1.5 (from -r requirements.txt (line 29))\n",
            "  Downloading ipywidgets-8.1.5-py3-none-any.whl.metadata (2.3 kB)\n",
            "Requirement already satisfied: jinja2==3.1.6 in /usr/local/lib/python3.11/dist-packages (from -r requirements.txt (line 30)) (3.1.6)\n",
            "Collecting joblib==1.4.2 (from -r requirements.txt (line 31))\n",
            "  Downloading joblib-1.4.2-py3-none-any.whl.metadata (5.4 kB)\n",
            "Requirement already satisfied: jsonpatch==1.33 in /usr/local/lib/python3.11/dist-packages (from -r requirements.txt (line 32)) (1.33)\n",
            "Requirement already satisfied: jsonpointer==3.0.0 in /usr/local/lib/python3.11/dist-packages (from -r requirements.txt (line 33)) (3.0.0)\n",
            "Collecting jupyterlab-widgets==3.0.13 (from -r requirements.txt (line 34))\n",
            "  Downloading jupyterlab_widgets-3.0.13-py3-none-any.whl.metadata (4.1 kB)\n",
            "Requirement already satisfied: kiwisolver==1.4.8 in /usr/local/lib/python3.11/dist-packages (from -r requirements.txt (line 35)) (1.4.8)\n",
            "Collecting langchain==0.3.20 (from -r requirements.txt (line 36))\n",
            "  Downloading langchain-0.3.20-py3-none-any.whl.metadata (7.7 kB)\n",
            "Collecting langchain-community==0.3.19 (from -r requirements.txt (line 37))\n",
            "  Downloading langchain_community-0.3.19-py3-none-any.whl.metadata (2.4 kB)\n",
            "Collecting langchain-core==0.3.43 (from -r requirements.txt (line 38))\n",
            "  Downloading langchain_core-0.3.43-py3-none-any.whl.metadata (5.9 kB)\n",
            "Collecting langchain-text-splitters==0.3.6 (from -r requirements.txt (line 39))\n",
            "  Downloading langchain_text_splitters-0.3.6-py3-none-any.whl.metadata (1.9 kB)\n",
            "Requirement already satisfied: langcodes==3.5.0 in /usr/local/lib/python3.11/dist-packages (from -r requirements.txt (line 40)) (3.5.0)\n",
            "Collecting langsmith==0.3.13 (from -r requirements.txt (line 41))\n",
            "  Downloading langsmith-0.3.13-py3-none-any.whl.metadata (14 kB)\n",
            "Requirement already satisfied: language-data==1.3.0 in /usr/local/lib/python3.11/dist-packages (from -r requirements.txt (line 42)) (1.3.0)\n",
            "Requirement already satisfied: marisa-trie==1.2.1 in /usr/local/lib/python3.11/dist-packages (from -r requirements.txt (line 43)) (1.2.1)\n",
            "Requirement already satisfied: markdown-it-py==3.0.0 in /usr/local/lib/python3.11/dist-packages (from -r requirements.txt (line 44)) (3.0.0)\n",
            "Requirement already satisfied: markupsafe==3.0.2 in /usr/local/lib/python3.11/dist-packages (from -r requirements.txt (line 45)) (3.0.2)\n",
            "Collecting marshmallow==3.26.1 (from -r requirements.txt (line 46))\n",
            "  Downloading marshmallow-3.26.1-py3-none-any.whl.metadata (7.3 kB)\n",
            "Requirement already satisfied: mdurl==0.1.2 in /usr/local/lib/python3.11/dist-packages (from -r requirements.txt (line 47)) (0.1.2)\n",
            "Requirement already satisfied: mpmath==1.3.0 in /usr/local/lib/python3.11/dist-packages (from -r requirements.txt (line 48)) (1.3.0)\n",
            "Collecting multidict==6.1.0 (from -r requirements.txt (line 49))\n",
            "  Downloading multidict-6.1.0-cp311-cp311-manylinux_2_17_x86_64.manylinux2014_x86_64.whl.metadata (5.0 kB)\n",
            "Collecting murmurhash==1.0.12 (from -r requirements.txt (line 50))\n",
            "  Downloading murmurhash-1.0.12-cp311-cp311-manylinux_2_5_x86_64.manylinux1_x86_64.manylinux_2_17_x86_64.manylinux2014_x86_64.whl.metadata (2.1 kB)\n",
            "Collecting mypy-extensions==1.0.0 (from -r requirements.txt (line 51))\n",
            "  Downloading mypy_extensions-1.0.0-py3-none-any.whl.metadata (1.1 kB)\n",
            "Collecting networkx==3.4.2 (from -r requirements.txt (line 52))\n",
            "  Downloading networkx-3.4.2-py3-none-any.whl.metadata (6.3 kB)\n",
            "Requirement already satisfied: numpy==1.26.4 in /usr/local/lib/python3.11/dist-packages (from -r requirements.txt (line 53)) (1.26.4)\n",
            "Collecting orjson==3.10.15 (from -r requirements.txt (line 54))\n",
            "  Downloading orjson-3.10.15-cp311-cp311-manylinux_2_17_x86_64.manylinux2014_x86_64.whl.metadata (41 kB)\n",
            "\u001b[2K     \u001b[90m━━━━━━━━━━━━━━━━━━━━━━━━━━━━━━━━━━━━━━━━\u001b[0m \u001b[32m41.8/41.8 kB\u001b[0m \u001b[31m2.5 MB/s\u001b[0m eta \u001b[36m0:00:00\u001b[0m\n",
            "\u001b[?25hCollecting pandas==2.2.0 (from -r requirements.txt (line 55))\n",
            "  Downloading pandas-2.2.0-cp311-cp311-manylinux_2_17_x86_64.manylinux2014_x86_64.whl.metadata (19 kB)\n",
            "Collecting pillow==11.1.0 (from -r requirements.txt (line 56))\n",
            "  Downloading pillow-11.1.0-cp311-cp311-manylinux_2_28_x86_64.whl.metadata (9.1 kB)\n",
            "Collecting preshed==3.0.9 (from -r requirements.txt (line 57))\n",
            "  Downloading preshed-3.0.9-cp311-cp311-manylinux_2_5_x86_64.manylinux1_x86_64.manylinux_2_17_x86_64.manylinux2014_x86_64.whl.metadata (2.2 kB)\n",
            "Collecting prettytable==3.15.1 (from -r requirements.txt (line 58))\n",
            "  Downloading prettytable-3.15.1-py3-none-any.whl.metadata (33 kB)\n",
            "Collecting propcache==0.3.0 (from -r requirements.txt (line 59))\n",
            "  Downloading propcache-0.3.0-cp311-cp311-manylinux_2_17_x86_64.manylinux2014_x86_64.whl.metadata (10 kB)\n",
            "Collecting pydantic==2.10.6 (from -r requirements.txt (line 60))\n",
            "  Downloading pydantic-2.10.6-py3-none-any.whl.metadata (30 kB)\n",
            "Collecting pydantic-core==2.27.2 (from -r requirements.txt (line 61))\n",
            "  Downloading pydantic_core-2.27.2-cp311-cp311-manylinux_2_17_x86_64.manylinux2014_x86_64.whl.metadata (6.6 kB)\n",
            "Collecting pydantic-settings==2.8.1 (from -r requirements.txt (line 62))\n",
            "  Downloading pydantic_settings-2.8.1-py3-none-any.whl.metadata (3.5 kB)\n",
            "Collecting pyparsing==3.2.1 (from -r requirements.txt (line 63))\n",
            "  Downloading pyparsing-3.2.1-py3-none-any.whl.metadata (5.0 kB)\n",
            "Collecting python-dotenv==1.0.1 (from -r requirements.txt (line 64))\n",
            "  Downloading python_dotenv-1.0.1-py3-none-any.whl.metadata (23 kB)\n",
            "Collecting pytz==2025.1 (from -r requirements.txt (line 65))\n",
            "  Downloading pytz-2025.1-py2.py3-none-any.whl.metadata (22 kB)\n",
            "Requirement already satisfied: pyyaml==6.0.2 in /usr/local/lib/python3.11/dist-packages (from -r requirements.txt (line 66)) (6.0.2)\n",
            "Requirement already satisfied: regex==2024.11.6 in /usr/local/lib/python3.11/dist-packages (from -r requirements.txt (line 67)) (2024.11.6)\n",
            "Requirement already satisfied: requests==2.32.3 in /usr/local/lib/python3.11/dist-packages (from -r requirements.txt (line 68)) (2.32.3)\n",
            "Requirement already satisfied: requests-toolbelt==1.0.0 in /usr/local/lib/python3.11/dist-packages (from -r requirements.txt (line 69)) (1.0.0)\n",
            "Requirement already satisfied: rich==13.9.4 in /usr/local/lib/python3.11/dist-packages (from -r requirements.txt (line 70)) (13.9.4)\n",
            "Requirement already satisfied: safetensors==0.5.3 in /usr/local/lib/python3.11/dist-packages (from -r requirements.txt (line 71)) (0.5.3)\n",
            "Requirement already satisfied: scikit-learn==1.6.1 in /usr/local/lib/python3.11/dist-packages (from -r requirements.txt (line 72)) (1.6.1)\n",
            "Collecting scipy==1.15.2 (from -r requirements.txt (line 73))\n",
            "  Downloading scipy-1.15.2-cp311-cp311-manylinux_2_17_x86_64.manylinux2014_x86_64.whl.metadata (61 kB)\n",
            "\u001b[2K     \u001b[90m━━━━━━━━━━━━━━━━━━━━━━━━━━━━━━━━━━━━━━━━\u001b[0m \u001b[32m62.0/62.0 kB\u001b[0m \u001b[31m3.8 MB/s\u001b[0m eta \u001b[36m0:00:00\u001b[0m\n",
            "\u001b[?25hRequirement already satisfied: seaborn==0.13.2 in /usr/local/lib/python3.11/dist-packages (from -r requirements.txt (line 74)) (0.13.2)\n",
            "Collecting sentence-transformers==3.4.1 (from -r requirements.txt (line 75))\n",
            "  Downloading sentence_transformers-3.4.1-py3-none-any.whl.metadata (10 kB)\n",
            "Requirement already satisfied: shellingham==1.5.4 in /usr/local/lib/python3.11/dist-packages (from -r requirements.txt (line 76)) (1.5.4)\n",
            "Requirement already satisfied: smart-open==7.1.0 in /usr/local/lib/python3.11/dist-packages (from -r requirements.txt (line 77)) (7.1.0)\n",
            "Requirement already satisfied: sniffio==1.3.1 in /usr/local/lib/python3.11/dist-packages (from -r requirements.txt (line 78)) (1.3.1)\n",
            "Collecting spacy==3.8.4 (from -r requirements.txt (line 79))\n",
            "  Downloading spacy-3.8.4-cp311-cp311-manylinux_2_17_x86_64.manylinux2014_x86_64.whl.metadata (27 kB)\n",
            "Requirement already satisfied: spacy-legacy==3.0.12 in /usr/local/lib/python3.11/dist-packages (from -r requirements.txt (line 80)) (3.0.12)\n",
            "Requirement already satisfied: spacy-loggers==1.0.5 in /usr/local/lib/python3.11/dist-packages (from -r requirements.txt (line 81)) (1.0.5)\n",
            "Collecting sqlalchemy==2.0.39 (from -r requirements.txt (line 82))\n",
            "  Downloading sqlalchemy-2.0.39-cp311-cp311-manylinux_2_17_x86_64.manylinux2014_x86_64.whl.metadata (9.6 kB)\n",
            "Requirement already satisfied: srsly==2.5.1 in /usr/local/lib/python3.11/dist-packages (from -r requirements.txt (line 83)) (2.5.1)\n",
            "Collecting sympy==1.13.3 (from -r requirements.txt (line 84))\n",
            "  Downloading sympy-1.13.3-py3-none-any.whl.metadata (12 kB)\n",
            "Collecting tenacity==9.0.0 (from -r requirements.txt (line 85))\n",
            "  Downloading tenacity-9.0.0-py3-none-any.whl.metadata (1.2 kB)\n",
            "Collecting thinc==8.3.4 (from -r requirements.txt (line 86))\n",
            "  Downloading thinc-8.3.4-cp311-cp311-manylinux_2_17_x86_64.manylinux2014_x86_64.whl.metadata (15 kB)\n",
            "Collecting threadpoolctl==3.5.0 (from -r requirements.txt (line 87))\n",
            "  Downloading threadpoolctl-3.5.0-py3-none-any.whl.metadata (13 kB)\n",
            "Collecting tokenizers==0.21.0 (from -r requirements.txt (line 88))\n",
            "  Downloading tokenizers-0.21.0-cp39-abi3-manylinux_2_17_x86_64.manylinux2014_x86_64.whl.metadata (6.7 kB)\n",
            "Collecting torch==2.2.2 (from -r requirements.txt (line 89))\n",
            "  Downloading torch-2.2.2-cp311-cp311-manylinux1_x86_64.whl.metadata (25 kB)\n",
            "Requirement already satisfied: tqdm==4.67.1 in /usr/local/lib/python3.11/dist-packages (from -r requirements.txt (line 90)) (4.67.1)\n",
            "Collecting transformers==4.49.0 (from -r requirements.txt (line 91))\n",
            "  Downloading transformers-4.49.0-py3-none-any.whl.metadata (44 kB)\n",
            "\u001b[2K     \u001b[90m━━━━━━━━━━━━━━━━━━━━━━━━━━━━━━━━━━━━━━━━\u001b[0m \u001b[32m44.0/44.0 kB\u001b[0m \u001b[31m2.3 MB/s\u001b[0m eta \u001b[36m0:00:00\u001b[0m\n",
            "\u001b[?25hCollecting typer==0.15.2 (from -r requirements.txt (line 92))\n",
            "  Downloading typer-0.15.2-py3-none-any.whl.metadata (15 kB)\n",
            "Collecting typing-inspect==0.9.0 (from -r requirements.txt (line 93))\n",
            "  Downloading typing_inspect-0.9.0-py3-none-any.whl.metadata (1.5 kB)\n",
            "Collecting tzdata==2025.1 (from -r requirements.txt (line 94))\n",
            "  Downloading tzdata-2025.1-py2.py3-none-any.whl.metadata (1.4 kB)\n",
            "Collecting urllib3==2.3.0 (from -r requirements.txt (line 95))\n",
            "  Downloading urllib3-2.3.0-py3-none-any.whl.metadata (6.5 kB)\n",
            "Requirement already satisfied: wasabi==1.1.3 in /usr/local/lib/python3.11/dist-packages (from -r requirements.txt (line 96)) (1.1.3)\n",
            "Requirement already satisfied: weasel==0.4.1 in /usr/local/lib/python3.11/dist-packages (from -r requirements.txt (line 97)) (0.4.1)\n",
            "Collecting widgetsnbextension==4.0.13 (from -r requirements.txt (line 98))\n",
            "  Downloading widgetsnbextension-4.0.13-py3-none-any.whl.metadata (1.6 kB)\n",
            "Collecting wikipedia-api==0.8.1 (from -r requirements.txt (line 99))\n",
            "  Downloading wikipedia_api-0.8.1.tar.gz (19 kB)\n",
            "  Preparing metadata (setup.py) ... \u001b[?25l\u001b[?25hdone\n",
            "Requirement already satisfied: wrapt==1.17.2 in /usr/local/lib/python3.11/dist-packages (from -r requirements.txt (line 100)) (1.17.2)\n",
            "Collecting yarl==1.18.3 (from -r requirements.txt (line 101))\n",
            "  Downloading yarl-1.18.3-cp311-cp311-manylinux_2_17_x86_64.manylinux2014_x86_64.whl.metadata (69 kB)\n",
            "\u001b[2K     \u001b[90m━━━━━━━━━━━━━━━━━━━━━━━━━━━━━━━━━━━━━━━━\u001b[0m \u001b[32m69.2/69.2 kB\u001b[0m \u001b[31m4.2 MB/s\u001b[0m eta \u001b[36m0:00:00\u001b[0m\n",
            "\u001b[?25hRequirement already satisfied: zstandard==0.23.0 in /usr/local/lib/python3.11/dist-packages (from -r requirements.txt (line 102)) (0.23.0)\n",
            "Requirement already satisfied: typing_extensions>=4.5 in /usr/local/lib/python3.11/dist-packages (from anyio==4.8.0->-r requirements.txt (line 5)) (4.14.0)\n",
            "Requirement already satisfied: packaging>=20.9 in /usr/local/lib/python3.11/dist-packages (from huggingface-hub==0.29.2->-r requirements.txt (line 27)) (24.2)\n",
            "Collecting comm>=0.1.3 (from ipywidgets==8.1.5->-r requirements.txt (line 29))\n",
            "  Downloading comm-0.2.2-py3-none-any.whl.metadata (3.7 kB)\n",
            "Requirement already satisfied: ipython>=6.1.0 in /usr/local/lib/python3.11/dist-packages (from ipywidgets==8.1.5->-r requirements.txt (line 29)) (7.34.0)\n",
            "Requirement already satisfied: traitlets>=4.3.1 in /usr/local/lib/python3.11/dist-packages (from ipywidgets==8.1.5->-r requirements.txt (line 29)) (5.7.1)\n",
            "Requirement already satisfied: setuptools in /usr/local/lib/python3.11/dist-packages (from marisa-trie==1.2.1->-r requirements.txt (line 43)) (75.2.0)\n",
            "Requirement already satisfied: python-dateutil>=2.8.2 in /usr/local/lib/python3.11/dist-packages (from pandas==2.2.0->-r requirements.txt (line 55)) (2.9.0.post0)\n",
            "Requirement already satisfied: wcwidth in /usr/local/lib/python3.11/dist-packages (from prettytable==3.15.1->-r requirements.txt (line 58)) (0.2.13)\n",
            "Requirement already satisfied: pygments<3.0.0,>=2.13.0 in /usr/local/lib/python3.11/dist-packages (from rich==13.9.4->-r requirements.txt (line 70)) (2.19.1)\n",
            "Requirement already satisfied: matplotlib!=3.6.1,>=3.4 in /usr/local/lib/python3.11/dist-packages (from seaborn==0.13.2->-r requirements.txt (line 74)) (3.10.0)\n",
            "Collecting nvidia-cuda-nvrtc-cu12==12.1.105 (from torch==2.2.2->-r requirements.txt (line 89))\n",
            "  Downloading nvidia_cuda_nvrtc_cu12-12.1.105-py3-none-manylinux1_x86_64.whl.metadata (1.5 kB)\n",
            "Collecting nvidia-cuda-runtime-cu12==12.1.105 (from torch==2.2.2->-r requirements.txt (line 89))\n",
            "  Downloading nvidia_cuda_runtime_cu12-12.1.105-py3-none-manylinux1_x86_64.whl.metadata (1.5 kB)\n",
            "Collecting nvidia-cuda-cupti-cu12==12.1.105 (from torch==2.2.2->-r requirements.txt (line 89))\n",
            "  Downloading nvidia_cuda_cupti_cu12-12.1.105-py3-none-manylinux1_x86_64.whl.metadata (1.6 kB)\n",
            "Collecting nvidia-cudnn-cu12==8.9.2.26 (from torch==2.2.2->-r requirements.txt (line 89))\n",
            "  Downloading nvidia_cudnn_cu12-8.9.2.26-py3-none-manylinux1_x86_64.whl.metadata (1.6 kB)\n",
            "Collecting nvidia-cublas-cu12==12.1.3.1 (from torch==2.2.2->-r requirements.txt (line 89))\n",
            "  Downloading nvidia_cublas_cu12-12.1.3.1-py3-none-manylinux1_x86_64.whl.metadata (1.5 kB)\n",
            "Collecting nvidia-cufft-cu12==11.0.2.54 (from torch==2.2.2->-r requirements.txt (line 89))\n",
            "  Downloading nvidia_cufft_cu12-11.0.2.54-py3-none-manylinux1_x86_64.whl.metadata (1.5 kB)\n",
            "Collecting nvidia-curand-cu12==10.3.2.106 (from torch==2.2.2->-r requirements.txt (line 89))\n",
            "  Downloading nvidia_curand_cu12-10.3.2.106-py3-none-manylinux1_x86_64.whl.metadata (1.5 kB)\n",
            "Collecting nvidia-cusolver-cu12==11.4.5.107 (from torch==2.2.2->-r requirements.txt (line 89))\n",
            "  Downloading nvidia_cusolver_cu12-11.4.5.107-py3-none-manylinux1_x86_64.whl.metadata (1.6 kB)\n",
            "Collecting nvidia-cusparse-cu12==12.1.0.106 (from torch==2.2.2->-r requirements.txt (line 89))\n",
            "  Downloading nvidia_cusparse_cu12-12.1.0.106-py3-none-manylinux1_x86_64.whl.metadata (1.6 kB)\n",
            "Collecting nvidia-nccl-cu12==2.19.3 (from torch==2.2.2->-r requirements.txt (line 89))\n",
            "  Downloading nvidia_nccl_cu12-2.19.3-py3-none-manylinux1_x86_64.whl.metadata (1.8 kB)\n",
            "Collecting nvidia-nvtx-cu12==12.1.105 (from torch==2.2.2->-r requirements.txt (line 89))\n",
            "  Downloading nvidia_nvtx_cu12-12.1.105-py3-none-manylinux1_x86_64.whl.metadata (1.7 kB)\n",
            "Collecting triton==2.2.0 (from torch==2.2.2->-r requirements.txt (line 89))\n",
            "  Downloading triton-2.2.0-cp311-cp311-manylinux_2_17_x86_64.manylinux2014_x86_64.whl.metadata (1.4 kB)\n",
            "Requirement already satisfied: nvidia-nvjitlink-cu12 in /usr/local/lib/python3.11/dist-packages (from nvidia-cusolver-cu12==11.4.5.107->torch==2.2.2->-r requirements.txt (line 89)) (12.5.82)\n",
            "Collecting jedi>=0.16 (from ipython>=6.1.0->ipywidgets==8.1.5->-r requirements.txt (line 29))\n",
            "  Downloading jedi-0.19.2-py2.py3-none-any.whl.metadata (22 kB)\n",
            "Requirement already satisfied: decorator in /usr/local/lib/python3.11/dist-packages (from ipython>=6.1.0->ipywidgets==8.1.5->-r requirements.txt (line 29)) (4.4.2)\n",
            "Requirement already satisfied: pickleshare in /usr/local/lib/python3.11/dist-packages (from ipython>=6.1.0->ipywidgets==8.1.5->-r requirements.txt (line 29)) (0.7.5)\n",
            "Requirement already satisfied: prompt-toolkit!=3.0.0,!=3.0.1,<3.1.0,>=2.0.0 in /usr/local/lib/python3.11/dist-packages (from ipython>=6.1.0->ipywidgets==8.1.5->-r requirements.txt (line 29)) (3.0.51)\n",
            "Requirement already satisfied: backcall in /usr/local/lib/python3.11/dist-packages (from ipython>=6.1.0->ipywidgets==8.1.5->-r requirements.txt (line 29)) (0.2.0)\n",
            "Requirement already satisfied: matplotlib-inline in /usr/local/lib/python3.11/dist-packages (from ipython>=6.1.0->ipywidgets==8.1.5->-r requirements.txt (line 29)) (0.1.7)\n",
            "Requirement already satisfied: pexpect>4.3 in /usr/local/lib/python3.11/dist-packages (from ipython>=6.1.0->ipywidgets==8.1.5->-r requirements.txt (line 29)) (4.9.0)\n",
            "Requirement already satisfied: six>=1.5 in /usr/local/lib/python3.11/dist-packages (from python-dateutil>=2.8.2->pandas==2.2.0->-r requirements.txt (line 55)) (1.17.0)\n",
            "Requirement already satisfied: parso<0.9.0,>=0.8.4 in /usr/local/lib/python3.11/dist-packages (from jedi>=0.16->ipython>=6.1.0->ipywidgets==8.1.5->-r requirements.txt (line 29)) (0.8.4)\n",
            "Requirement already satisfied: ptyprocess>=0.5 in /usr/local/lib/python3.11/dist-packages (from pexpect>4.3->ipython>=6.1.0->ipywidgets==8.1.5->-r requirements.txt (line 29)) (0.7.0)\n",
            "\u001b[33mWARNING: The candidate selected for download or install is a yanked version: 'aiohttp' candidate (version 3.11.13 at https://files.pythonhosted.org/packages/95/de/faba18a0af09969e10eb89fdbd4cb968bea95e75449a7fa944d4de7d1d2f/aiohttp-3.11.13-cp311-cp311-manylinux_2_17_x86_64.manylinux2014_x86_64.whl (from https://pypi.org/simple/aiohttp/) (requires-python:>=3.9))\n",
            "Reason for being yanked: Regression: https://github.com/aio-libs/aiohttp/issues/10617\u001b[0m\u001b[33m\n",
            "\u001b[0mDownloading aiohappyeyeballs-2.5.0-py3-none-any.whl (15 kB)\n",
            "Downloading aiohttp-3.11.13-cp311-cp311-manylinux_2_17_x86_64.manylinux2014_x86_64.whl (1.7 MB)\n",
            "\u001b[2K   \u001b[90m━━━━━━━━━━━━━━━━━━━━━━━━━━━━━━━━━━━━━━━━\u001b[0m \u001b[32m1.7/1.7 MB\u001b[0m \u001b[31m27.0 MB/s\u001b[0m eta \u001b[36m0:00:00\u001b[0m\n",
            "\u001b[?25hDownloading anyio-4.8.0-py3-none-any.whl (96 kB)\n",
            "\u001b[2K   \u001b[90m━━━━━━━━━━━━━━━━━━━━━━━━━━━━━━━━━━━━━━━━\u001b[0m \u001b[32m96.0/96.0 kB\u001b[0m \u001b[31m8.3 MB/s\u001b[0m eta \u001b[36m0:00:00\u001b[0m\n",
            "\u001b[?25hDownloading attrs-25.1.0-py3-none-any.whl (63 kB)\n",
            "\u001b[2K   \u001b[90m━━━━━━━━━━━━━━━━━━━━━━━━━━━━━━━━━━━━━━━━\u001b[0m \u001b[32m63.2/63.2 kB\u001b[0m \u001b[31m4.6 MB/s\u001b[0m eta \u001b[36m0:00:00\u001b[0m\n",
            "\u001b[?25hDownloading blis-1.2.0-cp311-cp311-manylinux_2_17_x86_64.manylinux2014_x86_64.whl (11.7 MB)\n",
            "\u001b[2K   \u001b[90m━━━━━━━━━━━━━━━━━━━━━━━━━━━━━━━━━━━━━━━━\u001b[0m \u001b[32m11.7/11.7 MB\u001b[0m \u001b[31m36.1 MB/s\u001b[0m eta \u001b[36m0:00:00\u001b[0m\n",
            "\u001b[?25hDownloading certifi-2025.1.31-py3-none-any.whl (166 kB)\n",
            "\u001b[2K   \u001b[90m━━━━━━━━━━━━━━━━━━━━━━━━━━━━━━━━━━━━━━━━\u001b[0m \u001b[32m166.4/166.4 kB\u001b[0m \u001b[31m13.2 MB/s\u001b[0m eta \u001b[36m0:00:00\u001b[0m\n",
            "\u001b[?25hDownloading charset_normalizer-3.4.1-cp311-cp311-manylinux_2_17_x86_64.manylinux2014_x86_64.whl (143 kB)\n",
            "\u001b[2K   \u001b[90m━━━━━━━━━━━━━━━━━━━━━━━━━━━━━━━━━━━━━━━━\u001b[0m \u001b[32m143.9/143.9 kB\u001b[0m \u001b[31m10.5 MB/s\u001b[0m eta \u001b[36m0:00:00\u001b[0m\n",
            "\u001b[?25hDownloading click-8.1.8-py3-none-any.whl (98 kB)\n",
            "\u001b[2K   \u001b[90m━━━━━━━━━━━━━━━━━━━━━━━━━━━━━━━━━━━━━━━━\u001b[0m \u001b[32m98.2/98.2 kB\u001b[0m \u001b[31m7.3 MB/s\u001b[0m eta \u001b[36m0:00:00\u001b[0m\n",
            "\u001b[?25hDownloading cloudpathlib-0.21.0-py3-none-any.whl (52 kB)\n",
            "\u001b[2K   \u001b[90m━━━━━━━━━━━━━━━━━━━━━━━━━━━━━━━━━━━━━━━━\u001b[0m \u001b[32m52.7/52.7 kB\u001b[0m \u001b[31m3.9 MB/s\u001b[0m eta \u001b[36m0:00:00\u001b[0m\n",
            "\u001b[?25hDownloading contourpy-1.3.1-cp311-cp311-manylinux_2_17_x86_64.manylinux2014_x86_64.whl (326 kB)\n",
            "\u001b[2K   \u001b[90m━━━━━━━━━━━━━━━━━━━━━━━━━━━━━━━━━━━━━━━━\u001b[0m \u001b[32m326.2/326.2 kB\u001b[0m \u001b[31m22.0 MB/s\u001b[0m eta \u001b[36m0:00:00\u001b[0m\n",
            "\u001b[?25hDownloading dataclasses_json-0.6.7-py3-none-any.whl (28 kB)\n",
            "Downloading filelock-3.17.0-py3-none-any.whl (16 kB)\n",
            "Downloading fonttools-4.56.0-cp311-cp311-manylinux_2_17_x86_64.manylinux2014_x86_64.whl (4.9 MB)\n",
            "\u001b[2K   \u001b[90m━━━━━━━━━━━━━━━━━━━━━━━━━━━━━━━━━━━━━━━━\u001b[0m \u001b[32m4.9/4.9 MB\u001b[0m \u001b[31m82.4 MB/s\u001b[0m eta \u001b[36m0:00:00\u001b[0m\n",
            "\u001b[?25hDownloading frozenlist-1.5.0-cp311-cp311-manylinux_2_5_x86_64.manylinux1_x86_64.manylinux_2_17_x86_64.manylinux2014_x86_64.whl (274 kB)\n",
            "\u001b[2K   \u001b[90m━━━━━━━━━━━━━━━━━━━━━━━━━━━━━━━━━━━━━━━━\u001b[0m \u001b[32m274.9/274.9 kB\u001b[0m \u001b[31m19.5 MB/s\u001b[0m eta \u001b[36m0:00:00\u001b[0m\n",
            "\u001b[?25hDownloading fsspec-2025.3.0-py3-none-any.whl (193 kB)\n",
            "\u001b[2K   \u001b[90m━━━━━━━━━━━━━━━━━━━━━━━━━━━━━━━━━━━━━━━━\u001b[0m \u001b[32m193.6/193.6 kB\u001b[0m \u001b[31m17.1 MB/s\u001b[0m eta \u001b[36m0:00:00\u001b[0m\n",
            "\u001b[?25hDownloading greenlet-3.1.1-cp311-cp311-manylinux_2_24_x86_64.manylinux_2_28_x86_64.whl (602 kB)\n",
            "\u001b[2K   \u001b[90m━━━━━━━━━━━━━━━━━━━━━━━━━━━━━━━━━━━━━━━━\u001b[0m \u001b[32m602.4/602.4 kB\u001b[0m \u001b[31m35.7 MB/s\u001b[0m eta \u001b[36m0:00:00\u001b[0m\n",
            "\u001b[?25hDownloading h11-0.14.0-py3-none-any.whl (58 kB)\n",
            "\u001b[2K   \u001b[90m━━━━━━━━━━━━━━━━━━━━━━━━━━━━━━━━━━━━━━━━\u001b[0m \u001b[32m58.3/58.3 kB\u001b[0m \u001b[31m4.8 MB/s\u001b[0m eta \u001b[36m0:00:00\u001b[0m\n",
            "\u001b[?25hDownloading httpcore-1.0.7-py3-none-any.whl (78 kB)\n",
            "\u001b[2K   \u001b[90m━━━━━━━━━━━━━━━━━━━━━━━━━━━━━━━━━━━━━━━━\u001b[0m \u001b[32m78.6/78.6 kB\u001b[0m \u001b[31m5.8 MB/s\u001b[0m eta \u001b[36m0:00:00\u001b[0m\n",
            "\u001b[?25hDownloading httpx_sse-0.4.0-py3-none-any.whl (7.8 kB)\n",
            "Downloading huggingface_hub-0.29.2-py3-none-any.whl (468 kB)\n",
            "\u001b[2K   \u001b[90m━━━━━━━━━━━━━━━━━━━━━━━━━━━━━━━━━━━━━━━━\u001b[0m \u001b[32m468.1/468.1 kB\u001b[0m \u001b[31m26.4 MB/s\u001b[0m eta \u001b[36m0:00:00\u001b[0m\n",
            "\u001b[?25hDownloading ipywidgets-8.1.5-py3-none-any.whl (139 kB)\n",
            "\u001b[2K   \u001b[90m━━━━━━━━━━━━━━━━━━━━━━━━━━━━━━━━━━━━━━━━\u001b[0m \u001b[32m139.8/139.8 kB\u001b[0m \u001b[31m10.3 MB/s\u001b[0m eta \u001b[36m0:00:00\u001b[0m\n",
            "\u001b[?25hDownloading joblib-1.4.2-py3-none-any.whl (301 kB)\n",
            "\u001b[2K   \u001b[90m━━━━━━━━━━━━━━━━━━━━━━━━━━━━━━━━━━━━━━━━\u001b[0m \u001b[32m301.8/301.8 kB\u001b[0m \u001b[31m19.3 MB/s\u001b[0m eta \u001b[36m0:00:00\u001b[0m\n",
            "\u001b[?25hDownloading jupyterlab_widgets-3.0.13-py3-none-any.whl (214 kB)\n",
            "\u001b[2K   \u001b[90m━━━━━━━━━━━━━━━━━━━━━━━━━━━━━━━━━━━━━━━━\u001b[0m \u001b[32m214.4/214.4 kB\u001b[0m \u001b[31m16.0 MB/s\u001b[0m eta \u001b[36m0:00:00\u001b[0m\n",
            "\u001b[?25hDownloading langchain-0.3.20-py3-none-any.whl (1.0 MB)\n",
            "\u001b[2K   \u001b[90m━━━━━━━━━━━━━━━━━━━━━━━━━━━━━━━━━━━━━━━━\u001b[0m \u001b[32m1.0/1.0 MB\u001b[0m \u001b[31m38.5 MB/s\u001b[0m eta \u001b[36m0:00:00\u001b[0m\n",
            "\u001b[?25hDownloading langchain_community-0.3.19-py3-none-any.whl (2.5 MB)\n",
            "\u001b[2K   \u001b[90m━━━━━━━━━━━━━━━━━━━━━━━━━━━━━━━━━━━━━━━━\u001b[0m \u001b[32m2.5/2.5 MB\u001b[0m \u001b[31m67.0 MB/s\u001b[0m eta \u001b[36m0:00:00\u001b[0m\n",
            "\u001b[?25hDownloading langchain_core-0.3.43-py3-none-any.whl (415 kB)\n",
            "\u001b[2K   \u001b[90m━━━━━━━━━━━━━━━━━━━━━━━━━━━━━━━━━━━━━━━━\u001b[0m \u001b[32m415.4/415.4 kB\u001b[0m \u001b[31m27.2 MB/s\u001b[0m eta \u001b[36m0:00:00\u001b[0m\n",
            "\u001b[?25hDownloading langchain_text_splitters-0.3.6-py3-none-any.whl (31 kB)\n",
            "Downloading langsmith-0.3.13-py3-none-any.whl (339 kB)\n",
            "\u001b[2K   \u001b[90m━━━━━━━━━━━━━━━━━━━━━━━━━━━━━━━━━━━━━━━━\u001b[0m \u001b[32m339.7/339.7 kB\u001b[0m \u001b[31m26.2 MB/s\u001b[0m eta \u001b[36m0:00:00\u001b[0m\n",
            "\u001b[?25hDownloading marshmallow-3.26.1-py3-none-any.whl (50 kB)\n",
            "\u001b[2K   \u001b[90m━━━━━━━━━━━━━━━━━━━━━━━━━━━━━━━━━━━━━━━━\u001b[0m \u001b[32m50.9/50.9 kB\u001b[0m \u001b[31m3.7 MB/s\u001b[0m eta \u001b[36m0:00:00\u001b[0m\n",
            "\u001b[?25hDownloading multidict-6.1.0-cp311-cp311-manylinux_2_17_x86_64.manylinux2014_x86_64.whl (129 kB)\n",
            "\u001b[2K   \u001b[90m━━━━━━━━━━━━━━━━━━━━━━━━━━━━━━━━━━━━━━━━\u001b[0m \u001b[32m129.0/129.0 kB\u001b[0m \u001b[31m9.7 MB/s\u001b[0m eta \u001b[36m0:00:00\u001b[0m\n",
            "\u001b[?25hDownloading murmurhash-1.0.12-cp311-cp311-manylinux_2_5_x86_64.manylinux1_x86_64.manylinux_2_17_x86_64.manylinux2014_x86_64.whl (134 kB)\n",
            "\u001b[2K   \u001b[90m━━━━━━━━━━━━━━━━━━━━━━━━━━━━━━━━━━━━━━━━\u001b[0m \u001b[32m134.3/134.3 kB\u001b[0m \u001b[31m10.8 MB/s\u001b[0m eta \u001b[36m0:00:00\u001b[0m\n",
            "\u001b[?25hDownloading mypy_extensions-1.0.0-py3-none-any.whl (4.7 kB)\n",
            "Downloading networkx-3.4.2-py3-none-any.whl (1.7 MB)\n",
            "\u001b[2K   \u001b[90m━━━━━━━━━━━━━━━━━━━━━━━━━━━━━━━━━━━━━━━━\u001b[0m \u001b[32m1.7/1.7 MB\u001b[0m \u001b[31m57.3 MB/s\u001b[0m eta \u001b[36m0:00:00\u001b[0m\n",
            "\u001b[?25hDownloading orjson-3.10.15-cp311-cp311-manylinux_2_17_x86_64.manylinux2014_x86_64.whl (130 kB)\n",
            "\u001b[2K   \u001b[90m━━━━━━━━━━━━━━━━━━━━━━━━━━━━━━━━━━━━━━━━\u001b[0m \u001b[32m130.3/130.3 kB\u001b[0m \u001b[31m10.3 MB/s\u001b[0m eta \u001b[36m0:00:00\u001b[0m\n",
            "\u001b[?25hDownloading pandas-2.2.0-cp311-cp311-manylinux_2_17_x86_64.manylinux2014_x86_64.whl (13.0 MB)\n",
            "\u001b[2K   \u001b[90m━━━━━━━━━━━━━━━━━━━━━━━━━━━━━━━━━━━━━━━━\u001b[0m \u001b[32m13.0/13.0 MB\u001b[0m \u001b[31m65.4 MB/s\u001b[0m eta \u001b[36m0:00:00\u001b[0m\n",
            "\u001b[?25hDownloading pillow-11.1.0-cp311-cp311-manylinux_2_28_x86_64.whl (4.5 MB)\n",
            "\u001b[2K   \u001b[90m━━━━━━━━━━━━━━━━━━━━━━━━━━━━━━━━━━━━━━━━\u001b[0m \u001b[32m4.5/4.5 MB\u001b[0m \u001b[31m65.4 MB/s\u001b[0m eta \u001b[36m0:00:00\u001b[0m\n",
            "\u001b[?25hDownloading preshed-3.0.9-cp311-cp311-manylinux_2_5_x86_64.manylinux1_x86_64.manylinux_2_17_x86_64.manylinux2014_x86_64.whl (157 kB)\n",
            "\u001b[2K   \u001b[90m━━━━━━━━━━━━━━━━━━━━━━━━━━━━━━━━━━━━━━━━\u001b[0m \u001b[32m157.2/157.2 kB\u001b[0m \u001b[31m11.4 MB/s\u001b[0m eta \u001b[36m0:00:00\u001b[0m\n",
            "\u001b[?25hDownloading prettytable-3.15.1-py3-none-any.whl (33 kB)\n",
            "Downloading propcache-0.3.0-cp311-cp311-manylinux_2_17_x86_64.manylinux2014_x86_64.whl (231 kB)\n",
            "\u001b[2K   \u001b[90m━━━━━━━━━━━━━━━━━━━━━━━━━━━━━━━━━━━━━━━━\u001b[0m \u001b[32m231.3/231.3 kB\u001b[0m \u001b[31m16.0 MB/s\u001b[0m eta \u001b[36m0:00:00\u001b[0m\n",
            "\u001b[?25hDownloading pydantic-2.10.6-py3-none-any.whl (431 kB)\n",
            "\u001b[2K   \u001b[90m━━━━━━━━━━━━━━━━━━━━━━━━━━━━━━━━━━━━━━━━\u001b[0m \u001b[32m431.7/431.7 kB\u001b[0m \u001b[31m25.7 MB/s\u001b[0m eta \u001b[36m0:00:00\u001b[0m\n",
            "\u001b[?25hDownloading pydantic_core-2.27.2-cp311-cp311-manylinux_2_17_x86_64.manylinux2014_x86_64.whl (2.0 MB)\n",
            "\u001b[2K   \u001b[90m━━━━━━━━━━━━━━━━━━━━━━━━━━━━━━━━━━━━━━━━\u001b[0m \u001b[32m2.0/2.0 MB\u001b[0m \u001b[31m48.4 MB/s\u001b[0m eta \u001b[36m0:00:00\u001b[0m\n",
            "\u001b[?25hDownloading pydantic_settings-2.8.1-py3-none-any.whl (30 kB)\n",
            "Downloading pyparsing-3.2.1-py3-none-any.whl (107 kB)\n",
            "\u001b[2K   \u001b[90m━━━━━━━━━━━━━━━━━━━━━━━━━━━━━━━━━━━━━━━━\u001b[0m \u001b[32m107.7/107.7 kB\u001b[0m \u001b[31m8.0 MB/s\u001b[0m eta \u001b[36m0:00:00\u001b[0m\n",
            "\u001b[?25hDownloading python_dotenv-1.0.1-py3-none-any.whl (19 kB)\n",
            "Downloading pytz-2025.1-py2.py3-none-any.whl (507 kB)\n",
            "\u001b[2K   \u001b[90m━━━━━━━━━━━━━━━━━━━━━━━━━━━━━━━━━━━━━━━━\u001b[0m \u001b[32m507.9/507.9 kB\u001b[0m \u001b[31m28.2 MB/s\u001b[0m eta \u001b[36m0:00:00\u001b[0m\n",
            "\u001b[?25hDownloading scipy-1.15.2-cp311-cp311-manylinux_2_17_x86_64.manylinux2014_x86_64.whl (37.6 MB)\n",
            "\u001b[2K   \u001b[90m━━━━━━━━━━━━━━━━━━━━━━━━━━━━━━━━━━━━━━━━\u001b[0m \u001b[32m37.6/37.6 MB\u001b[0m \u001b[31m18.7 MB/s\u001b[0m eta \u001b[36m0:00:00\u001b[0m\n",
            "\u001b[?25hDownloading sentence_transformers-3.4.1-py3-none-any.whl (275 kB)\n",
            "\u001b[2K   \u001b[90m━━━━━━━━━━━━━━━━━━━━━━━━━━━━━━━━━━━━━━━━\u001b[0m \u001b[32m275.9/275.9 kB\u001b[0m \u001b[31m18.6 MB/s\u001b[0m eta \u001b[36m0:00:00\u001b[0m\n",
            "\u001b[?25hDownloading spacy-3.8.4-cp311-cp311-manylinux_2_17_x86_64.manylinux2014_x86_64.whl (30.6 MB)\n",
            "\u001b[2K   \u001b[90m━━━━━━━━━━━━━━━━━━━━━━━━━━━━━━━━━━━━━━━━\u001b[0m \u001b[32m30.6/30.6 MB\u001b[0m \u001b[31m19.6 MB/s\u001b[0m eta \u001b[36m0:00:00\u001b[0m\n",
            "\u001b[?25hDownloading sqlalchemy-2.0.39-cp311-cp311-manylinux_2_17_x86_64.manylinux2014_x86_64.whl (3.2 MB)\n",
            "\u001b[2K   \u001b[90m━━━━━━━━━━━━━━━━━━━━━━━━━━━━━━━━━━━━━━━━\u001b[0m \u001b[32m3.2/3.2 MB\u001b[0m \u001b[31m75.9 MB/s\u001b[0m eta \u001b[36m0:00:00\u001b[0m\n",
            "\u001b[?25hDownloading sympy-1.13.3-py3-none-any.whl (6.2 MB)\n",
            "\u001b[2K   \u001b[90m━━━━━━━━━━━━━━━━━━━━━━━━━━━━━━━━━━━━━━━━\u001b[0m \u001b[32m6.2/6.2 MB\u001b[0m \u001b[31m103.2 MB/s\u001b[0m eta \u001b[36m0:00:00\u001b[0m\n",
            "\u001b[?25hDownloading tenacity-9.0.0-py3-none-any.whl (28 kB)\n",
            "Downloading thinc-8.3.4-cp311-cp311-manylinux_2_17_x86_64.manylinux2014_x86_64.whl (3.9 MB)\n",
            "\u001b[2K   \u001b[90m━━━━━━━━━━━━━━━━━━━━━━━━━━━━━━━━━━━━━━━━\u001b[0m \u001b[32m3.9/3.9 MB\u001b[0m \u001b[31m77.1 MB/s\u001b[0m eta \u001b[36m0:00:00\u001b[0m\n",
            "\u001b[?25hDownloading threadpoolctl-3.5.0-py3-none-any.whl (18 kB)\n",
            "Downloading tokenizers-0.21.0-cp39-abi3-manylinux_2_17_x86_64.manylinux2014_x86_64.whl (3.0 MB)\n",
            "\u001b[2K   \u001b[90m━━━━━━━━━━━━━━━━━━━━━━━━━━━━━━━━━━━━━━━━\u001b[0m \u001b[32m3.0/3.0 MB\u001b[0m \u001b[31m75.2 MB/s\u001b[0m eta \u001b[36m0:00:00\u001b[0m\n",
            "\u001b[?25hDownloading torch-2.2.2-cp311-cp311-manylinux1_x86_64.whl (755.6 MB)\n",
            "\u001b[2K   \u001b[90m━━━━━━━━━━━━━━━━━━━━━━━━━━━━━━━━━━━━━━━━\u001b[0m \u001b[32m755.6/755.6 MB\u001b[0m \u001b[31m2.5 MB/s\u001b[0m eta \u001b[36m0:00:00\u001b[0m\n",
            "\u001b[?25hDownloading transformers-4.49.0-py3-none-any.whl (10.0 MB)\n",
            "\u001b[2K   \u001b[90m━━━━━━━━━━━━━━━━━━━━━━━━━━━━━━━━━━━━━━━━\u001b[0m \u001b[32m10.0/10.0 MB\u001b[0m \u001b[31m9.9 MB/s\u001b[0m eta \u001b[36m0:00:00\u001b[0m\n",
            "\u001b[?25hDownloading typer-0.15.2-py3-none-any.whl (45 kB)\n",
            "\u001b[2K   \u001b[90m━━━━━━━━━━━━━━━━━━━━━━━━━━━━━━━━━━━━━━━━\u001b[0m \u001b[32m45.1/45.1 kB\u001b[0m \u001b[31m3.5 MB/s\u001b[0m eta \u001b[36m0:00:00\u001b[0m\n",
            "\u001b[?25hDownloading typing_inspect-0.9.0-py3-none-any.whl (8.8 kB)\n",
            "Downloading tzdata-2025.1-py2.py3-none-any.whl (346 kB)\n",
            "\u001b[2K   \u001b[90m━━━━━━━━━━━━━━━━━━━━━━━━━━━━━━━━━━━━━━━━\u001b[0m \u001b[32m346.8/346.8 kB\u001b[0m \u001b[31m25.5 MB/s\u001b[0m eta \u001b[36m0:00:00\u001b[0m\n",
            "\u001b[?25hDownloading urllib3-2.3.0-py3-none-any.whl (128 kB)\n",
            "\u001b[2K   \u001b[90m━━━━━━━━━━━━━━━━━━━━━━━━━━━━━━━━━━━━━━━━\u001b[0m \u001b[32m128.4/128.4 kB\u001b[0m \u001b[31m10.3 MB/s\u001b[0m eta \u001b[36m0:00:00\u001b[0m\n",
            "\u001b[?25hDownloading widgetsnbextension-4.0.13-py3-none-any.whl (2.3 MB)\n",
            "\u001b[2K   \u001b[90m━━━━━━━━━━━━━━━━━━━━━━━━━━━━━━━━━━━━━━━━\u001b[0m \u001b[32m2.3/2.3 MB\u001b[0m \u001b[31m83.0 MB/s\u001b[0m eta \u001b[36m0:00:00\u001b[0m\n",
            "\u001b[?25hDownloading yarl-1.18.3-cp311-cp311-manylinux_2_17_x86_64.manylinux2014_x86_64.whl (344 kB)\n",
            "\u001b[2K   \u001b[90m━━━━━━━━━━━━━━━━━━━━━━━━━━━━━━━━━━━━━━━━\u001b[0m \u001b[32m344.1/344.1 kB\u001b[0m \u001b[31m23.9 MB/s\u001b[0m eta \u001b[36m0:00:00\u001b[0m\n",
            "\u001b[?25hDownloading nvidia_cublas_cu12-12.1.3.1-py3-none-manylinux1_x86_64.whl (410.6 MB)\n",
            "\u001b[2K   \u001b[90m━━━━━━━━━━━━━━━━━━━━━━━━━━━━━━━━━━━━━━━━\u001b[0m \u001b[32m410.6/410.6 MB\u001b[0m \u001b[31m4.1 MB/s\u001b[0m eta \u001b[36m0:00:00\u001b[0m\n",
            "\u001b[?25hDownloading nvidia_cuda_cupti_cu12-12.1.105-py3-none-manylinux1_x86_64.whl (14.1 MB)\n",
            "\u001b[2K   \u001b[90m━━━━━━━━━━━━━━━━━━━━━━━━━━━━━━━━━━━━━━━━\u001b[0m \u001b[32m14.1/14.1 MB\u001b[0m \u001b[31m103.2 MB/s\u001b[0m eta \u001b[36m0:00:00\u001b[0m\n",
            "\u001b[?25hDownloading nvidia_cuda_nvrtc_cu12-12.1.105-py3-none-manylinux1_x86_64.whl (23.7 MB)\n",
            "\u001b[2K   \u001b[90m━━━━━━━━━━━━━━━━━━━━━━━━━━━━━━━━━━━━━━━━\u001b[0m \u001b[32m23.7/23.7 MB\u001b[0m \u001b[31m86.4 MB/s\u001b[0m eta \u001b[36m0:00:00\u001b[0m\n",
            "\u001b[?25hDownloading nvidia_cuda_runtime_cu12-12.1.105-py3-none-manylinux1_x86_64.whl (823 kB)\n",
            "\u001b[2K   \u001b[90m━━━━━━━━━━━━━━━━━━━━━━━━━━━━━━━━━━━━━━━━\u001b[0m \u001b[32m823.6/823.6 kB\u001b[0m \u001b[31m44.6 MB/s\u001b[0m eta \u001b[36m0:00:00\u001b[0m\n",
            "\u001b[?25hDownloading nvidia_cudnn_cu12-8.9.2.26-py3-none-manylinux1_x86_64.whl (731.7 MB)\n",
            "\u001b[2K   \u001b[90m━━━━━━━━━━━━━━━━━━━━━━━━━━━━━━━━━━━━━━━━\u001b[0m \u001b[32m731.7/731.7 MB\u001b[0m \u001b[31m2.4 MB/s\u001b[0m eta \u001b[36m0:00:00\u001b[0m\n",
            "\u001b[?25hDownloading nvidia_cufft_cu12-11.0.2.54-py3-none-manylinux1_x86_64.whl (121.6 MB)\n",
            "\u001b[2K   \u001b[90m━━━━━━━━━━━━━━━━━━━━━━━━━━━━━━━━━━━━━━━━\u001b[0m \u001b[32m121.6/121.6 MB\u001b[0m \u001b[31m7.4 MB/s\u001b[0m eta \u001b[36m0:00:00\u001b[0m\n",
            "\u001b[?25hDownloading nvidia_curand_cu12-10.3.2.106-py3-none-manylinux1_x86_64.whl (56.5 MB)\n",
            "\u001b[2K   \u001b[90m━━━━━━━━━━━━━━━━━━━━━━━━━━━━━━━━━━━━━━━━\u001b[0m \u001b[32m56.5/56.5 MB\u001b[0m \u001b[31m15.3 MB/s\u001b[0m eta \u001b[36m0:00:00\u001b[0m\n",
            "\u001b[?25hDownloading nvidia_cusolver_cu12-11.4.5.107-py3-none-manylinux1_x86_64.whl (124.2 MB)\n",
            "\u001b[2K   \u001b[90m━━━━━━━━━━━━━━━━━━━━━━━━━━━━━━━━━━━━━━━━\u001b[0m \u001b[32m124.2/124.2 MB\u001b[0m \u001b[31m8.2 MB/s\u001b[0m eta \u001b[36m0:00:00\u001b[0m\n",
            "\u001b[?25hDownloading nvidia_cusparse_cu12-12.1.0.106-py3-none-manylinux1_x86_64.whl (196.0 MB)\n",
            "\u001b[2K   \u001b[90m━━━━━━━━━━━━━━━━━━━━━━━━━━━━━━━━━━━━━━━━\u001b[0m \u001b[32m196.0/196.0 MB\u001b[0m \u001b[31m6.4 MB/s\u001b[0m eta \u001b[36m0:00:00\u001b[0m\n",
            "\u001b[?25hDownloading nvidia_nccl_cu12-2.19.3-py3-none-manylinux1_x86_64.whl (166.0 MB)\n",
            "\u001b[2K   \u001b[90m━━━━━━━━━━━━━━━━━━━━━━━━━━━━━━━━━━━━━━━━\u001b[0m \u001b[32m166.0/166.0 MB\u001b[0m \u001b[31m7.0 MB/s\u001b[0m eta \u001b[36m0:00:00\u001b[0m\n",
            "\u001b[?25hDownloading nvidia_nvtx_cu12-12.1.105-py3-none-manylinux1_x86_64.whl (99 kB)\n",
            "\u001b[2K   \u001b[90m━━━━━━━━━━━━━━━━━━━━━━━━━━━━━━━━━━━━━━━━\u001b[0m \u001b[32m99.1/99.1 kB\u001b[0m \u001b[31m7.5 MB/s\u001b[0m eta \u001b[36m0:00:00\u001b[0m\n",
            "\u001b[?25hDownloading triton-2.2.0-cp311-cp311-manylinux_2_17_x86_64.manylinux2014_x86_64.whl (167.9 MB)\n",
            "\u001b[2K   \u001b[90m━━━━━━━━━━━━━━━━━━━━━━━━━━━━━━━━━━━━━━━━\u001b[0m \u001b[32m167.9/167.9 MB\u001b[0m \u001b[31m6.8 MB/s\u001b[0m eta \u001b[36m0:00:00\u001b[0m\n",
            "\u001b[?25hDownloading comm-0.2.2-py3-none-any.whl (7.2 kB)\n",
            "Downloading jedi-0.19.2-py2.py3-none-any.whl (1.6 MB)\n",
            "\u001b[2K   \u001b[90m━━━━━━━━━━━━━━━━━━━━━━━━━━━━━━━━━━━━━━━━\u001b[0m \u001b[32m1.6/1.6 MB\u001b[0m \u001b[31m63.2 MB/s\u001b[0m eta \u001b[36m0:00:00\u001b[0m\n",
            "\u001b[?25hBuilding wheels for collected packages: wikipedia-api\n",
            "  Building wheel for wikipedia-api (setup.py) ... \u001b[?25l\u001b[?25hdone\n",
            "  Created wheel for wikipedia-api: filename=Wikipedia_API-0.8.1-py3-none-any.whl size=15383 sha256=e935d65dd96beb066fc0d99b19ec4ff023ee5547dceef4a3e29567544e0e2836\n",
            "  Stored in directory: /root/.cache/pip/wheels/0b/0f/39/e8214ec038ccd5aeb8c82b957289f2f3ab2251febeae5c2860\n",
            "Successfully built wikipedia-api\n",
            "Installing collected packages: pytz, widgetsnbextension, urllib3, tzdata, threadpoolctl, tenacity, sympy, scipy, python-dotenv, pyparsing, pydantic-core, propcache, prettytable, pillow, orjson, nvidia-nvtx-cu12, nvidia-nccl-cu12, nvidia-cusparse-cu12, nvidia-curand-cu12, nvidia-cufft-cu12, nvidia-cuda-runtime-cu12, nvidia-cuda-nvrtc-cu12, nvidia-cuda-cupti-cu12, nvidia-cublas-cu12, networkx, mypy-extensions, murmurhash, multidict, marshmallow, jupyterlab-widgets, joblib, jedi, httpx-sse, h11, greenlet, fsspec, frozenlist, fonttools, filelock, contourpy, comm, cloudpathlib, click, charset-normalizer, certifi, blis, attrs, anyio, aiohappyeyeballs, yarl, typing-inspect, triton, sqlalchemy, pydantic, preshed, pandas, nvidia-cusolver-cu12, nvidia-cudnn-cu12, httpcore, wikipedia-api, typer, torch, pydantic-settings, ipywidgets, huggingface-hub, dataclasses-json, aiohttp, tokenizers, thinc, langsmith, transformers, spacy, langchain-core, sentence-transformers, langchain-text-splitters, langchain, langchain-community\n",
            "  Attempting uninstall: pytz\n",
            "    Found existing installation: pytz 2025.2\n",
            "    Uninstalling pytz-2025.2:\n",
            "      Successfully uninstalled pytz-2025.2\n",
            "  Attempting uninstall: widgetsnbextension\n",
            "    Found existing installation: widgetsnbextension 3.6.10\n",
            "    Uninstalling widgetsnbextension-3.6.10:\n",
            "      Successfully uninstalled widgetsnbextension-3.6.10\n",
            "  Attempting uninstall: urllib3\n",
            "    Found existing installation: urllib3 2.4.0\n",
            "    Uninstalling urllib3-2.4.0:\n",
            "      Successfully uninstalled urllib3-2.4.0\n",
            "  Attempting uninstall: tzdata\n",
            "    Found existing installation: tzdata 2025.2\n",
            "    Uninstalling tzdata-2025.2:\n",
            "      Successfully uninstalled tzdata-2025.2\n",
            "  Attempting uninstall: threadpoolctl\n",
            "    Found existing installation: threadpoolctl 3.6.0\n",
            "    Uninstalling threadpoolctl-3.6.0:\n",
            "      Successfully uninstalled threadpoolctl-3.6.0\n",
            "  Attempting uninstall: tenacity\n",
            "    Found existing installation: tenacity 9.1.2\n",
            "    Uninstalling tenacity-9.1.2:\n",
            "      Successfully uninstalled tenacity-9.1.2\n",
            "  Attempting uninstall: sympy\n",
            "    Found existing installation: sympy 1.13.1\n",
            "    Uninstalling sympy-1.13.1:\n",
            "      Successfully uninstalled sympy-1.13.1\n",
            "  Attempting uninstall: scipy\n",
            "    Found existing installation: scipy 1.15.3\n",
            "    Uninstalling scipy-1.15.3:\n",
            "      Successfully uninstalled scipy-1.15.3\n",
            "  Attempting uninstall: pyparsing\n",
            "    Found existing installation: pyparsing 3.2.3\n",
            "    Uninstalling pyparsing-3.2.3:\n",
            "      Successfully uninstalled pyparsing-3.2.3\n",
            "  Attempting uninstall: pydantic-core\n",
            "    Found existing installation: pydantic_core 2.33.2\n",
            "    Uninstalling pydantic_core-2.33.2:\n",
            "      Successfully uninstalled pydantic_core-2.33.2\n",
            "  Attempting uninstall: propcache\n",
            "    Found existing installation: propcache 0.3.1\n",
            "    Uninstalling propcache-0.3.1:\n",
            "      Successfully uninstalled propcache-0.3.1\n",
            "  Attempting uninstall: prettytable\n",
            "    Found existing installation: prettytable 3.16.0\n",
            "    Uninstalling prettytable-3.16.0:\n",
            "      Successfully uninstalled prettytable-3.16.0\n",
            "  Attempting uninstall: pillow\n",
            "    Found existing installation: pillow 11.2.1\n",
            "    Uninstalling pillow-11.2.1:\n",
            "      Successfully uninstalled pillow-11.2.1\n",
            "  Attempting uninstall: orjson\n",
            "    Found existing installation: orjson 3.10.18\n",
            "    Uninstalling orjson-3.10.18:\n",
            "      Successfully uninstalled orjson-3.10.18\n",
            "  Attempting uninstall: nvidia-nvtx-cu12\n",
            "    Found existing installation: nvidia-nvtx-cu12 12.4.127\n",
            "    Uninstalling nvidia-nvtx-cu12-12.4.127:\n",
            "      Successfully uninstalled nvidia-nvtx-cu12-12.4.127\n",
            "  Attempting uninstall: nvidia-nccl-cu12\n",
            "    Found existing installation: nvidia-nccl-cu12 2.21.5\n",
            "    Uninstalling nvidia-nccl-cu12-2.21.5:\n",
            "      Successfully uninstalled nvidia-nccl-cu12-2.21.5\n",
            "  Attempting uninstall: nvidia-cusparse-cu12\n",
            "    Found existing installation: nvidia-cusparse-cu12 12.5.1.3\n",
            "    Uninstalling nvidia-cusparse-cu12-12.5.1.3:\n",
            "      Successfully uninstalled nvidia-cusparse-cu12-12.5.1.3\n",
            "  Attempting uninstall: nvidia-curand-cu12\n",
            "    Found existing installation: nvidia-curand-cu12 10.3.6.82\n",
            "    Uninstalling nvidia-curand-cu12-10.3.6.82:\n",
            "      Successfully uninstalled nvidia-curand-cu12-10.3.6.82\n",
            "  Attempting uninstall: nvidia-cufft-cu12\n",
            "    Found existing installation: nvidia-cufft-cu12 11.2.3.61\n",
            "    Uninstalling nvidia-cufft-cu12-11.2.3.61:\n",
            "      Successfully uninstalled nvidia-cufft-cu12-11.2.3.61\n",
            "  Attempting uninstall: nvidia-cuda-runtime-cu12\n",
            "    Found existing installation: nvidia-cuda-runtime-cu12 12.5.82\n",
            "    Uninstalling nvidia-cuda-runtime-cu12-12.5.82:\n",
            "      Successfully uninstalled nvidia-cuda-runtime-cu12-12.5.82\n",
            "  Attempting uninstall: nvidia-cuda-nvrtc-cu12\n",
            "    Found existing installation: nvidia-cuda-nvrtc-cu12 12.5.82\n",
            "    Uninstalling nvidia-cuda-nvrtc-cu12-12.5.82:\n",
            "      Successfully uninstalled nvidia-cuda-nvrtc-cu12-12.5.82\n",
            "  Attempting uninstall: nvidia-cuda-cupti-cu12\n",
            "    Found existing installation: nvidia-cuda-cupti-cu12 12.5.82\n",
            "    Uninstalling nvidia-cuda-cupti-cu12-12.5.82:\n",
            "      Successfully uninstalled nvidia-cuda-cupti-cu12-12.5.82\n",
            "  Attempting uninstall: nvidia-cublas-cu12\n",
            "    Found existing installation: nvidia-cublas-cu12 12.5.3.2\n",
            "    Uninstalling nvidia-cublas-cu12-12.5.3.2:\n",
            "      Successfully uninstalled nvidia-cublas-cu12-12.5.3.2\n",
            "  Attempting uninstall: networkx\n",
            "    Found existing installation: networkx 3.5\n",
            "    Uninstalling networkx-3.5:\n",
            "      Successfully uninstalled networkx-3.5\n",
            "  Attempting uninstall: murmurhash\n",
            "    Found existing installation: murmurhash 1.0.13\n",
            "    Uninstalling murmurhash-1.0.13:\n",
            "      Successfully uninstalled murmurhash-1.0.13\n",
            "  Attempting uninstall: multidict\n",
            "    Found existing installation: multidict 6.4.4\n",
            "    Uninstalling multidict-6.4.4:\n",
            "      Successfully uninstalled multidict-6.4.4\n",
            "  Attempting uninstall: jupyterlab-widgets\n",
            "    Found existing installation: jupyterlab_widgets 3.0.15\n",
            "    Uninstalling jupyterlab_widgets-3.0.15:\n",
            "      Successfully uninstalled jupyterlab_widgets-3.0.15\n",
            "  Attempting uninstall: joblib\n",
            "    Found existing installation: joblib 1.5.1\n",
            "    Uninstalling joblib-1.5.1:\n",
            "      Successfully uninstalled joblib-1.5.1\n",
            "  Attempting uninstall: h11\n",
            "    Found existing installation: h11 0.16.0\n",
            "    Uninstalling h11-0.16.0:\n",
            "      Successfully uninstalled h11-0.16.0\n",
            "  Attempting uninstall: greenlet\n",
            "    Found existing installation: greenlet 3.2.2\n",
            "    Uninstalling greenlet-3.2.2:\n",
            "      Successfully uninstalled greenlet-3.2.2\n",
            "  Attempting uninstall: fsspec\n",
            "    Found existing installation: fsspec 2025.3.2\n",
            "    Uninstalling fsspec-2025.3.2:\n",
            "      Successfully uninstalled fsspec-2025.3.2\n",
            "  Attempting uninstall: frozenlist\n",
            "    Found existing installation: frozenlist 1.6.0\n",
            "    Uninstalling frozenlist-1.6.0:\n",
            "      Successfully uninstalled frozenlist-1.6.0\n",
            "  Attempting uninstall: fonttools\n",
            "    Found existing installation: fonttools 4.58.1\n",
            "    Uninstalling fonttools-4.58.1:\n",
            "      Successfully uninstalled fonttools-4.58.1\n",
            "  Attempting uninstall: filelock\n",
            "    Found existing installation: filelock 3.18.0\n",
            "    Uninstalling filelock-3.18.0:\n",
            "      Successfully uninstalled filelock-3.18.0\n",
            "  Attempting uninstall: contourpy\n",
            "    Found existing installation: contourpy 1.3.2\n",
            "    Uninstalling contourpy-1.3.2:\n",
            "      Successfully uninstalled contourpy-1.3.2\n",
            "  Attempting uninstall: cloudpathlib\n",
            "    Found existing installation: cloudpathlib 0.21.1\n",
            "    Uninstalling cloudpathlib-0.21.1:\n",
            "      Successfully uninstalled cloudpathlib-0.21.1\n",
            "  Attempting uninstall: click\n",
            "    Found existing installation: click 8.2.1\n",
            "    Uninstalling click-8.2.1:\n",
            "      Successfully uninstalled click-8.2.1\n",
            "  Attempting uninstall: charset-normalizer\n",
            "    Found existing installation: charset-normalizer 3.4.2\n",
            "    Uninstalling charset-normalizer-3.4.2:\n",
            "      Successfully uninstalled charset-normalizer-3.4.2\n",
            "  Attempting uninstall: certifi\n",
            "    Found existing installation: certifi 2025.4.26\n",
            "    Uninstalling certifi-2025.4.26:\n",
            "      Successfully uninstalled certifi-2025.4.26\n",
            "  Attempting uninstall: blis\n",
            "    Found existing installation: blis 1.3.0\n",
            "    Uninstalling blis-1.3.0:\n",
            "      Successfully uninstalled blis-1.3.0\n",
            "  Attempting uninstall: attrs\n",
            "    Found existing installation: attrs 25.3.0\n",
            "    Uninstalling attrs-25.3.0:\n",
            "      Successfully uninstalled attrs-25.3.0\n",
            "  Attempting uninstall: anyio\n",
            "    Found existing installation: anyio 4.9.0\n",
            "    Uninstalling anyio-4.9.0:\n",
            "      Successfully uninstalled anyio-4.9.0\n",
            "  Attempting uninstall: aiohappyeyeballs\n",
            "    Found existing installation: aiohappyeyeballs 2.6.1\n",
            "    Uninstalling aiohappyeyeballs-2.6.1:\n",
            "      Successfully uninstalled aiohappyeyeballs-2.6.1\n",
            "  Attempting uninstall: yarl\n",
            "    Found existing installation: yarl 1.20.0\n",
            "    Uninstalling yarl-1.20.0:\n",
            "      Successfully uninstalled yarl-1.20.0\n",
            "  Attempting uninstall: triton\n",
            "    Found existing installation: triton 3.2.0\n",
            "    Uninstalling triton-3.2.0:\n",
            "      Successfully uninstalled triton-3.2.0\n",
            "  Attempting uninstall: sqlalchemy\n",
            "    Found existing installation: SQLAlchemy 2.0.41\n",
            "    Uninstalling SQLAlchemy-2.0.41:\n",
            "      Successfully uninstalled SQLAlchemy-2.0.41\n",
            "  Attempting uninstall: pydantic\n",
            "    Found existing installation: pydantic 2.11.5\n",
            "    Uninstalling pydantic-2.11.5:\n",
            "      Successfully uninstalled pydantic-2.11.5\n",
            "  Attempting uninstall: preshed\n",
            "    Found existing installation: preshed 3.0.10\n",
            "    Uninstalling preshed-3.0.10:\n",
            "      Successfully uninstalled preshed-3.0.10\n",
            "  Attempting uninstall: pandas\n",
            "    Found existing installation: pandas 2.2.2\n",
            "    Uninstalling pandas-2.2.2:\n",
            "      Successfully uninstalled pandas-2.2.2\n",
            "  Attempting uninstall: nvidia-cusolver-cu12\n",
            "    Found existing installation: nvidia-cusolver-cu12 11.6.3.83\n",
            "    Uninstalling nvidia-cusolver-cu12-11.6.3.83:\n",
            "      Successfully uninstalled nvidia-cusolver-cu12-11.6.3.83\n",
            "  Attempting uninstall: nvidia-cudnn-cu12\n",
            "    Found existing installation: nvidia-cudnn-cu12 9.3.0.75\n",
            "    Uninstalling nvidia-cudnn-cu12-9.3.0.75:\n",
            "      Successfully uninstalled nvidia-cudnn-cu12-9.3.0.75\n",
            "  Attempting uninstall: httpcore\n",
            "    Found existing installation: httpcore 1.0.9\n",
            "    Uninstalling httpcore-1.0.9:\n",
            "      Successfully uninstalled httpcore-1.0.9\n",
            "  Attempting uninstall: typer\n",
            "    Found existing installation: typer 0.16.0\n",
            "    Uninstalling typer-0.16.0:\n",
            "      Successfully uninstalled typer-0.16.0\n",
            "  Attempting uninstall: torch\n",
            "    Found existing installation: torch 2.6.0+cu124\n",
            "    Uninstalling torch-2.6.0+cu124:\n",
            "      Successfully uninstalled torch-2.6.0+cu124\n",
            "  Attempting uninstall: ipywidgets\n",
            "    Found existing installation: ipywidgets 7.7.1\n",
            "    Uninstalling ipywidgets-7.7.1:\n",
            "      Successfully uninstalled ipywidgets-7.7.1\n",
            "  Attempting uninstall: huggingface-hub\n",
            "    Found existing installation: huggingface-hub 0.32.4\n",
            "    Uninstalling huggingface-hub-0.32.4:\n",
            "      Successfully uninstalled huggingface-hub-0.32.4\n",
            "  Attempting uninstall: aiohttp\n",
            "    Found existing installation: aiohttp 3.11.15\n",
            "    Uninstalling aiohttp-3.11.15:\n",
            "      Successfully uninstalled aiohttp-3.11.15\n",
            "  Attempting uninstall: tokenizers\n",
            "    Found existing installation: tokenizers 0.21.1\n",
            "    Uninstalling tokenizers-0.21.1:\n",
            "      Successfully uninstalled tokenizers-0.21.1\n",
            "  Attempting uninstall: thinc\n",
            "    Found existing installation: thinc 8.3.6\n",
            "    Uninstalling thinc-8.3.6:\n",
            "      Successfully uninstalled thinc-8.3.6\n",
            "  Attempting uninstall: langsmith\n",
            "    Found existing installation: langsmith 0.3.44\n",
            "    Uninstalling langsmith-0.3.44:\n",
            "      Successfully uninstalled langsmith-0.3.44\n",
            "  Attempting uninstall: transformers\n",
            "    Found existing installation: transformers 4.52.4\n",
            "    Uninstalling transformers-4.52.4:\n",
            "      Successfully uninstalled transformers-4.52.4\n",
            "  Attempting uninstall: spacy\n",
            "    Found existing installation: spacy 3.8.7\n",
            "    Uninstalling spacy-3.8.7:\n",
            "      Successfully uninstalled spacy-3.8.7\n",
            "  Attempting uninstall: langchain-core\n",
            "    Found existing installation: langchain-core 0.3.63\n",
            "    Uninstalling langchain-core-0.3.63:\n",
            "      Successfully uninstalled langchain-core-0.3.63\n",
            "  Attempting uninstall: sentence-transformers\n",
            "    Found existing installation: sentence-transformers 4.1.0\n",
            "    Uninstalling sentence-transformers-4.1.0:\n",
            "      Successfully uninstalled sentence-transformers-4.1.0\n",
            "  Attempting uninstall: langchain-text-splitters\n",
            "    Found existing installation: langchain-text-splitters 0.3.8\n",
            "    Uninstalling langchain-text-splitters-0.3.8:\n",
            "      Successfully uninstalled langchain-text-splitters-0.3.8\n",
            "  Attempting uninstall: langchain\n",
            "    Found existing installation: langchain 0.3.25\n",
            "    Uninstalling langchain-0.3.25:\n",
            "      Successfully uninstalled langchain-0.3.25\n",
            "\u001b[31mERROR: pip's dependency resolver does not currently take into account all the packages that are installed. This behaviour is the source of the following dependency conflicts.\n",
            "google-colab 1.0.0 requires pandas==2.2.2, but you have pandas 2.2.0 which is incompatible.\n",
            "gcsfs 2025.3.2 requires fsspec==2025.3.2, but you have fsspec 2025.3.0 which is incompatible.\n",
            "torchaudio 2.6.0+cu124 requires torch==2.6.0, but you have torch 2.2.2 which is incompatible.\n",
            "torchvision 0.21.0+cu124 requires torch==2.6.0, but you have torch 2.2.2 which is incompatible.\u001b[0m\u001b[31m\n",
            "\u001b[0mSuccessfully installed aiohappyeyeballs-2.5.0 aiohttp-3.11.13 anyio-4.8.0 attrs-25.1.0 blis-1.2.0 certifi-2025.1.31 charset-normalizer-3.4.1 click-8.1.8 cloudpathlib-0.21.0 comm-0.2.2 contourpy-1.3.1 dataclasses-json-0.6.7 filelock-3.17.0 fonttools-4.56.0 frozenlist-1.5.0 fsspec-2025.3.0 greenlet-3.1.1 h11-0.14.0 httpcore-1.0.7 httpx-sse-0.4.0 huggingface-hub-0.29.2 ipywidgets-8.1.5 jedi-0.19.2 joblib-1.4.2 jupyterlab-widgets-3.0.13 langchain-0.3.20 langchain-community-0.3.19 langchain-core-0.3.43 langchain-text-splitters-0.3.6 langsmith-0.3.13 marshmallow-3.26.1 multidict-6.1.0 murmurhash-1.0.12 mypy-extensions-1.0.0 networkx-3.4.2 nvidia-cublas-cu12-12.1.3.1 nvidia-cuda-cupti-cu12-12.1.105 nvidia-cuda-nvrtc-cu12-12.1.105 nvidia-cuda-runtime-cu12-12.1.105 nvidia-cudnn-cu12-8.9.2.26 nvidia-cufft-cu12-11.0.2.54 nvidia-curand-cu12-10.3.2.106 nvidia-cusolver-cu12-11.4.5.107 nvidia-cusparse-cu12-12.1.0.106 nvidia-nccl-cu12-2.19.3 nvidia-nvtx-cu12-12.1.105 orjson-3.10.15 pandas-2.2.0 pillow-11.1.0 preshed-3.0.9 prettytable-3.15.1 propcache-0.3.0 pydantic-2.10.6 pydantic-core-2.27.2 pydantic-settings-2.8.1 pyparsing-3.2.1 python-dotenv-1.0.1 pytz-2025.1 scipy-1.15.2 sentence-transformers-3.4.1 spacy-3.8.4 sqlalchemy-2.0.39 sympy-1.13.3 tenacity-9.0.0 thinc-8.3.4 threadpoolctl-3.5.0 tokenizers-0.21.0 torch-2.2.2 transformers-4.49.0 triton-2.2.0 typer-0.15.2 typing-inspect-0.9.0 tzdata-2025.1 urllib3-2.3.0 widgetsnbextension-4.0.13 wikipedia-api-0.8.1 yarl-1.18.3\n"
          ]
        },
        {
          "output_type": "display_data",
          "data": {
            "application/vnd.colab-display-data+json": {
              "pip_warning": {
                "packages": [
                  "PIL",
                  "blis",
                  "certifi",
                  "charset_normalizer",
                  "ipywidgets",
                  "joblib",
                  "murmurhash",
                  "preshed",
                  "pytz",
                  "spacy",
                  "thinc",
                  "torch",
                  "torchgen"
                ]
              },
              "id": "71a238f517914c5386cb27bcd10d9921"
            }
          },
          "metadata": {}
        }
      ],
      "source": [
        "#!pip3 install -r requirements.txt\n",
        "#!pip3 install tomotopy"
      ]
    },
    {
      "cell_type": "code",
      "source": [
        "#from utils import *\n",
        "import pandas as pd\n",
        "import numpy as np\n",
        "import tomotopy as tp\n",
        "import seaborn as sns\n",
        "\n",
        "import re\n",
        "import spacy\n",
        "import os\n",
        "import matplotlib.pyplot as plt\n",
        "from wordcloud import WordCloud\n",
        "\n",
        "import tomotopy as tp\n",
        "from sklearn.model_selection import StratifiedKFold\n",
        "from sklearn.metrics import roc_auc_score\n",
        "import numpy as np\n",
        "\n",
        "#from sklearn.model_selection import KFold"
      ],
      "metadata": {
        "id": "0KVIBZaKsMHm"
      },
      "execution_count": 3,
      "outputs": []
    },
    {
      "cell_type": "markdown",
      "source": [
        "Agregamos el NLP en inglés de Spacy"
      ],
      "metadata": {
        "id": "rey1AjUP99VA"
      }
    },
    {
      "cell_type": "code",
      "source": [
        "# ! python -m spacy download en_core_web_sm"
      ],
      "metadata": {
        "id": "EmjnKRxf2eR4"
      },
      "execution_count": 16,
      "outputs": []
    },
    {
      "cell_type": "markdown",
      "source": [
        "Cargamos los datos"
      ],
      "metadata": {
        "id": "RVkQ44rJ-DtY"
      }
    },
    {
      "cell_type": "code",
      "source": [
        "data  = pd.read_csv('data_clean.csv')\n",
        "data.head(10)"
      ],
      "metadata": {
        "colab": {
          "base_uri": "https://localhost:8080/",
          "height": 554
        },
        "id": "fsJPTgA-rAAi",
        "outputId": "2b491e74-96d7-4612-c599-e0b7fb5fe48a"
      },
      "execution_count": 39,
      "outputs": [
        {
          "output_type": "execute_result",
          "data": {
            "text/plain": [
              "                                               title  \\\n",
              "0                        Father of the Bride Part II   \n",
              "1                                            Othello   \n",
              "2                                   Dead Man Walking   \n",
              "3                           Cry, the Beloved Country   \n",
              "4                                            Georgia   \n",
              "5  Don't Be a Menace to South Central While Drink...   \n",
              "6                                           Bio-Dome   \n",
              "7                                             Friday   \n",
              "8                                          Nico Icon   \n",
              "9                                        Black Sheep   \n",
              "\n",
              "                                            overview  \\\n",
              "0  Just when George Banks has recovered from his ...   \n",
              "1  The evil Iago pretends to be friend of Othello...   \n",
              "2  A justice drama based on a true story about a ...   \n",
              "3  A South-African preacher goes to search for hi...   \n",
              "4  Sadie looks up to her older sister Georgia, a ...   \n",
              "5  When Ashtray (Shawn Wayans) moves to South Cen...   \n",
              "6  Bud and Doyle are two losers who are doing not...   \n",
              "7  Craig and Smokey are two guys in Los Angeles h...   \n",
              "8  A look into the many lives of Christa Päffgen,...   \n",
              "9  When dignified Albert Donnelly runs for Govern...   \n",
              "\n",
              "                                genres        genre  genre code  \n",
              "0       [{'id': 35, 'name': 'Comedy'}]       Comedy           1  \n",
              "1        [{'id': 18, 'name': 'Drama'}]        Drama           2  \n",
              "2        [{'id': 18, 'name': 'Drama'}]        Drama           2  \n",
              "3        [{'id': 18, 'name': 'Drama'}]        Drama           2  \n",
              "4        [{'id': 18, 'name': 'Drama'}]        Drama           2  \n",
              "5       [{'id': 35, 'name': 'Comedy'}]       Comedy           1  \n",
              "6       [{'id': 35, 'name': 'Comedy'}]       Comedy           1  \n",
              "7       [{'id': 35, 'name': 'Comedy'}]       Comedy           1  \n",
              "8  [{'id': 99, 'name': 'Documentary'}]  Documentary           3  \n",
              "9       [{'id': 35, 'name': 'Comedy'}]       Comedy           1  "
            ],
            "text/html": [
              "\n",
              "  <div id=\"df-07b4d492-41b0-4d5c-a332-946ad24fadae\" class=\"colab-df-container\">\n",
              "    <div>\n",
              "<style scoped>\n",
              "    .dataframe tbody tr th:only-of-type {\n",
              "        vertical-align: middle;\n",
              "    }\n",
              "\n",
              "    .dataframe tbody tr th {\n",
              "        vertical-align: top;\n",
              "    }\n",
              "\n",
              "    .dataframe thead th {\n",
              "        text-align: right;\n",
              "    }\n",
              "</style>\n",
              "<table border=\"1\" class=\"dataframe\">\n",
              "  <thead>\n",
              "    <tr style=\"text-align: right;\">\n",
              "      <th></th>\n",
              "      <th>title</th>\n",
              "      <th>overview</th>\n",
              "      <th>genres</th>\n",
              "      <th>genre</th>\n",
              "      <th>genre code</th>\n",
              "    </tr>\n",
              "  </thead>\n",
              "  <tbody>\n",
              "    <tr>\n",
              "      <th>0</th>\n",
              "      <td>Father of the Bride Part II</td>\n",
              "      <td>Just when George Banks has recovered from his ...</td>\n",
              "      <td>[{'id': 35, 'name': 'Comedy'}]</td>\n",
              "      <td>Comedy</td>\n",
              "      <td>1</td>\n",
              "    </tr>\n",
              "    <tr>\n",
              "      <th>1</th>\n",
              "      <td>Othello</td>\n",
              "      <td>The evil Iago pretends to be friend of Othello...</td>\n",
              "      <td>[{'id': 18, 'name': 'Drama'}]</td>\n",
              "      <td>Drama</td>\n",
              "      <td>2</td>\n",
              "    </tr>\n",
              "    <tr>\n",
              "      <th>2</th>\n",
              "      <td>Dead Man Walking</td>\n",
              "      <td>A justice drama based on a true story about a ...</td>\n",
              "      <td>[{'id': 18, 'name': 'Drama'}]</td>\n",
              "      <td>Drama</td>\n",
              "      <td>2</td>\n",
              "    </tr>\n",
              "    <tr>\n",
              "      <th>3</th>\n",
              "      <td>Cry, the Beloved Country</td>\n",
              "      <td>A South-African preacher goes to search for hi...</td>\n",
              "      <td>[{'id': 18, 'name': 'Drama'}]</td>\n",
              "      <td>Drama</td>\n",
              "      <td>2</td>\n",
              "    </tr>\n",
              "    <tr>\n",
              "      <th>4</th>\n",
              "      <td>Georgia</td>\n",
              "      <td>Sadie looks up to her older sister Georgia, a ...</td>\n",
              "      <td>[{'id': 18, 'name': 'Drama'}]</td>\n",
              "      <td>Drama</td>\n",
              "      <td>2</td>\n",
              "    </tr>\n",
              "    <tr>\n",
              "      <th>5</th>\n",
              "      <td>Don't Be a Menace to South Central While Drink...</td>\n",
              "      <td>When Ashtray (Shawn Wayans) moves to South Cen...</td>\n",
              "      <td>[{'id': 35, 'name': 'Comedy'}]</td>\n",
              "      <td>Comedy</td>\n",
              "      <td>1</td>\n",
              "    </tr>\n",
              "    <tr>\n",
              "      <th>6</th>\n",
              "      <td>Bio-Dome</td>\n",
              "      <td>Bud and Doyle are two losers who are doing not...</td>\n",
              "      <td>[{'id': 35, 'name': 'Comedy'}]</td>\n",
              "      <td>Comedy</td>\n",
              "      <td>1</td>\n",
              "    </tr>\n",
              "    <tr>\n",
              "      <th>7</th>\n",
              "      <td>Friday</td>\n",
              "      <td>Craig and Smokey are two guys in Los Angeles h...</td>\n",
              "      <td>[{'id': 35, 'name': 'Comedy'}]</td>\n",
              "      <td>Comedy</td>\n",
              "      <td>1</td>\n",
              "    </tr>\n",
              "    <tr>\n",
              "      <th>8</th>\n",
              "      <td>Nico Icon</td>\n",
              "      <td>A look into the many lives of Christa Päffgen,...</td>\n",
              "      <td>[{'id': 99, 'name': 'Documentary'}]</td>\n",
              "      <td>Documentary</td>\n",
              "      <td>3</td>\n",
              "    </tr>\n",
              "    <tr>\n",
              "      <th>9</th>\n",
              "      <td>Black Sheep</td>\n",
              "      <td>When dignified Albert Donnelly runs for Govern...</td>\n",
              "      <td>[{'id': 35, 'name': 'Comedy'}]</td>\n",
              "      <td>Comedy</td>\n",
              "      <td>1</td>\n",
              "    </tr>\n",
              "  </tbody>\n",
              "</table>\n",
              "</div>\n",
              "    <div class=\"colab-df-buttons\">\n",
              "\n",
              "  <div class=\"colab-df-container\">\n",
              "    <button class=\"colab-df-convert\" onclick=\"convertToInteractive('df-07b4d492-41b0-4d5c-a332-946ad24fadae')\"\n",
              "            title=\"Convert this dataframe to an interactive table.\"\n",
              "            style=\"display:none;\">\n",
              "\n",
              "  <svg xmlns=\"http://www.w3.org/2000/svg\" height=\"24px\" viewBox=\"0 -960 960 960\">\n",
              "    <path d=\"M120-120v-720h720v720H120Zm60-500h600v-160H180v160Zm220 220h160v-160H400v160Zm0 220h160v-160H400v160ZM180-400h160v-160H180v160Zm440 0h160v-160H620v160ZM180-180h160v-160H180v160Zm440 0h160v-160H620v160Z\"/>\n",
              "  </svg>\n",
              "    </button>\n",
              "\n",
              "  <style>\n",
              "    .colab-df-container {\n",
              "      display:flex;\n",
              "      gap: 12px;\n",
              "    }\n",
              "\n",
              "    .colab-df-convert {\n",
              "      background-color: #E8F0FE;\n",
              "      border: none;\n",
              "      border-radius: 50%;\n",
              "      cursor: pointer;\n",
              "      display: none;\n",
              "      fill: #1967D2;\n",
              "      height: 32px;\n",
              "      padding: 0 0 0 0;\n",
              "      width: 32px;\n",
              "    }\n",
              "\n",
              "    .colab-df-convert:hover {\n",
              "      background-color: #E2EBFA;\n",
              "      box-shadow: 0px 1px 2px rgba(60, 64, 67, 0.3), 0px 1px 3px 1px rgba(60, 64, 67, 0.15);\n",
              "      fill: #174EA6;\n",
              "    }\n",
              "\n",
              "    .colab-df-buttons div {\n",
              "      margin-bottom: 4px;\n",
              "    }\n",
              "\n",
              "    [theme=dark] .colab-df-convert {\n",
              "      background-color: #3B4455;\n",
              "      fill: #D2E3FC;\n",
              "    }\n",
              "\n",
              "    [theme=dark] .colab-df-convert:hover {\n",
              "      background-color: #434B5C;\n",
              "      box-shadow: 0px 1px 3px 1px rgba(0, 0, 0, 0.15);\n",
              "      filter: drop-shadow(0px 1px 2px rgba(0, 0, 0, 0.3));\n",
              "      fill: #FFFFFF;\n",
              "    }\n",
              "  </style>\n",
              "\n",
              "    <script>\n",
              "      const buttonEl =\n",
              "        document.querySelector('#df-07b4d492-41b0-4d5c-a332-946ad24fadae button.colab-df-convert');\n",
              "      buttonEl.style.display =\n",
              "        google.colab.kernel.accessAllowed ? 'block' : 'none';\n",
              "\n",
              "      async function convertToInteractive(key) {\n",
              "        const element = document.querySelector('#df-07b4d492-41b0-4d5c-a332-946ad24fadae');\n",
              "        const dataTable =\n",
              "          await google.colab.kernel.invokeFunction('convertToInteractive',\n",
              "                                                    [key], {});\n",
              "        if (!dataTable) return;\n",
              "\n",
              "        const docLinkHtml = 'Like what you see? Visit the ' +\n",
              "          '<a target=\"_blank\" href=https://colab.research.google.com/notebooks/data_table.ipynb>data table notebook</a>'\n",
              "          + ' to learn more about interactive tables.';\n",
              "        element.innerHTML = '';\n",
              "        dataTable['output_type'] = 'display_data';\n",
              "        await google.colab.output.renderOutput(dataTable, element);\n",
              "        const docLink = document.createElement('div');\n",
              "        docLink.innerHTML = docLinkHtml;\n",
              "        element.appendChild(docLink);\n",
              "      }\n",
              "    </script>\n",
              "  </div>\n",
              "\n",
              "\n",
              "    <div id=\"df-fa3a66dd-9a8c-41b4-8d4a-5d3eb5477eb0\">\n",
              "      <button class=\"colab-df-quickchart\" onclick=\"quickchart('df-fa3a66dd-9a8c-41b4-8d4a-5d3eb5477eb0')\"\n",
              "                title=\"Suggest charts\"\n",
              "                style=\"display:none;\">\n",
              "\n",
              "<svg xmlns=\"http://www.w3.org/2000/svg\" height=\"24px\"viewBox=\"0 0 24 24\"\n",
              "     width=\"24px\">\n",
              "    <g>\n",
              "        <path d=\"M19 3H5c-1.1 0-2 .9-2 2v14c0 1.1.9 2 2 2h14c1.1 0 2-.9 2-2V5c0-1.1-.9-2-2-2zM9 17H7v-7h2v7zm4 0h-2V7h2v10zm4 0h-2v-4h2v4z\"/>\n",
              "    </g>\n",
              "</svg>\n",
              "      </button>\n",
              "\n",
              "<style>\n",
              "  .colab-df-quickchart {\n",
              "      --bg-color: #E8F0FE;\n",
              "      --fill-color: #1967D2;\n",
              "      --hover-bg-color: #E2EBFA;\n",
              "      --hover-fill-color: #174EA6;\n",
              "      --disabled-fill-color: #AAA;\n",
              "      --disabled-bg-color: #DDD;\n",
              "  }\n",
              "\n",
              "  [theme=dark] .colab-df-quickchart {\n",
              "      --bg-color: #3B4455;\n",
              "      --fill-color: #D2E3FC;\n",
              "      --hover-bg-color: #434B5C;\n",
              "      --hover-fill-color: #FFFFFF;\n",
              "      --disabled-bg-color: #3B4455;\n",
              "      --disabled-fill-color: #666;\n",
              "  }\n",
              "\n",
              "  .colab-df-quickchart {\n",
              "    background-color: var(--bg-color);\n",
              "    border: none;\n",
              "    border-radius: 50%;\n",
              "    cursor: pointer;\n",
              "    display: none;\n",
              "    fill: var(--fill-color);\n",
              "    height: 32px;\n",
              "    padding: 0;\n",
              "    width: 32px;\n",
              "  }\n",
              "\n",
              "  .colab-df-quickchart:hover {\n",
              "    background-color: var(--hover-bg-color);\n",
              "    box-shadow: 0 1px 2px rgba(60, 64, 67, 0.3), 0 1px 3px 1px rgba(60, 64, 67, 0.15);\n",
              "    fill: var(--button-hover-fill-color);\n",
              "  }\n",
              "\n",
              "  .colab-df-quickchart-complete:disabled,\n",
              "  .colab-df-quickchart-complete:disabled:hover {\n",
              "    background-color: var(--disabled-bg-color);\n",
              "    fill: var(--disabled-fill-color);\n",
              "    box-shadow: none;\n",
              "  }\n",
              "\n",
              "  .colab-df-spinner {\n",
              "    border: 2px solid var(--fill-color);\n",
              "    border-color: transparent;\n",
              "    border-bottom-color: var(--fill-color);\n",
              "    animation:\n",
              "      spin 1s steps(1) infinite;\n",
              "  }\n",
              "\n",
              "  @keyframes spin {\n",
              "    0% {\n",
              "      border-color: transparent;\n",
              "      border-bottom-color: var(--fill-color);\n",
              "      border-left-color: var(--fill-color);\n",
              "    }\n",
              "    20% {\n",
              "      border-color: transparent;\n",
              "      border-left-color: var(--fill-color);\n",
              "      border-top-color: var(--fill-color);\n",
              "    }\n",
              "    30% {\n",
              "      border-color: transparent;\n",
              "      border-left-color: var(--fill-color);\n",
              "      border-top-color: var(--fill-color);\n",
              "      border-right-color: var(--fill-color);\n",
              "    }\n",
              "    40% {\n",
              "      border-color: transparent;\n",
              "      border-right-color: var(--fill-color);\n",
              "      border-top-color: var(--fill-color);\n",
              "    }\n",
              "    60% {\n",
              "      border-color: transparent;\n",
              "      border-right-color: var(--fill-color);\n",
              "    }\n",
              "    80% {\n",
              "      border-color: transparent;\n",
              "      border-right-color: var(--fill-color);\n",
              "      border-bottom-color: var(--fill-color);\n",
              "    }\n",
              "    90% {\n",
              "      border-color: transparent;\n",
              "      border-bottom-color: var(--fill-color);\n",
              "    }\n",
              "  }\n",
              "</style>\n",
              "\n",
              "      <script>\n",
              "        async function quickchart(key) {\n",
              "          const quickchartButtonEl =\n",
              "            document.querySelector('#' + key + ' button');\n",
              "          quickchartButtonEl.disabled = true;  // To prevent multiple clicks.\n",
              "          quickchartButtonEl.classList.add('colab-df-spinner');\n",
              "          try {\n",
              "            const charts = await google.colab.kernel.invokeFunction(\n",
              "                'suggestCharts', [key], {});\n",
              "          } catch (error) {\n",
              "            console.error('Error during call to suggestCharts:', error);\n",
              "          }\n",
              "          quickchartButtonEl.classList.remove('colab-df-spinner');\n",
              "          quickchartButtonEl.classList.add('colab-df-quickchart-complete');\n",
              "        }\n",
              "        (() => {\n",
              "          let quickchartButtonEl =\n",
              "            document.querySelector('#df-fa3a66dd-9a8c-41b4-8d4a-5d3eb5477eb0 button');\n",
              "          quickchartButtonEl.style.display =\n",
              "            google.colab.kernel.accessAllowed ? 'block' : 'none';\n",
              "        })();\n",
              "      </script>\n",
              "    </div>\n",
              "\n",
              "    </div>\n",
              "  </div>\n"
            ],
            "application/vnd.google.colaboratory.intrinsic+json": {
              "type": "dataframe",
              "variable_name": "data",
              "summary": "{\n  \"name\": \"data\",\n  \"rows\": 13745,\n  \"fields\": [\n    {\n      \"column\": \"title\",\n      \"properties\": {\n        \"dtype\": \"string\",\n        \"num_unique_values\": 13406,\n        \"samples\": [\n          \"Mrs. Brown's Boys D'Movie\",\n          \"The Sleepy Time Gal\",\n          \"Three Men and a Cradle\"\n        ],\n        \"semantic_type\": \"\",\n        \"description\": \"\"\n      }\n    },\n    {\n      \"column\": \"overview\",\n      \"properties\": {\n        \"dtype\": \"string\",\n        \"num_unique_values\": 13670,\n        \"samples\": [\n          \"A thought-provoking drama about the power that a famous university professor holds over his students and assistants.\",\n          \"Fifty years old, three years past of unemployment, benefits decreasing very quickly... Gerard is at the end of the rope when a position is offered him in Indonesia. To win the favor of his new employer, Gerard invites him to dinner at home. Fatal Error ! Terrified at the idea of not being up to par, his wife Colette begs Alexandre, their neighbor to help. Communication guru, Alexander accepts the challenge and gives a makeover to the couple in twenty-four hours. Apartment, decoration, lifestyle, dinner menu, uniforms, culture... Everything !\",\n          \"The year is 1968. To a small town in the south of Israel, mostly inhabited by Moroccan immigrants, a few families from India arrive, searching for a better life in the west. The instinct driven Moroccans patronize the \\\"black\\\" Indians, while the quiet Indians see the Moroccans as Ignorant and coarse. In this cultural war two girls, Moroccan and Indian, discover the sexual revolution of the 60's.\"\n        ],\n        \"semantic_type\": \"\",\n        \"description\": \"\"\n      }\n    },\n    {\n      \"column\": \"genres\",\n      \"properties\": {\n        \"dtype\": \"category\",\n        \"num_unique_values\": 12,\n        \"samples\": [\n          \"[{'id': 37, 'name': 'Western'}]\",\n          \"[{'id': 28, 'name': 'Action'}]\",\n          \"[{'id': 35, 'name': 'Comedy'}]\"\n        ],\n        \"semantic_type\": \"\",\n        \"description\": \"\"\n      }\n    },\n    {\n      \"column\": \"genre\",\n      \"properties\": {\n        \"dtype\": \"category\",\n        \"num_unique_values\": 12,\n        \"samples\": [\n          \"Western\",\n          \"Action\",\n          \"Comedy\"\n        ],\n        \"semantic_type\": \"\",\n        \"description\": \"\"\n      }\n    },\n    {\n      \"column\": \"genre code\",\n      \"properties\": {\n        \"dtype\": \"number\",\n        \"std\": 2,\n        \"min\": 1,\n        \"max\": 12,\n        \"num_unique_values\": 12,\n        \"samples\": [\n          11,\n          10,\n          1\n        ],\n        \"semantic_type\": \"\",\n        \"description\": \"\"\n      }\n    }\n  ]\n}"
            }
          },
          "metadata": {},
          "execution_count": 39
        }
      ]
    },
    {
      "cell_type": "markdown",
      "source": [
        "Definimos una función auxiliar para preprocesar el texto antes del entrenamiento del SLDA."
      ],
      "metadata": {
        "id": "8B--7r7T-HG7"
      }
    },
    {
      "cell_type": "code",
      "source": [
        "def preprocesar_texto(texto):\n",
        "    \"\"\"\n",
        "    Función genérica que realiza el preprocesamiento de texto para modelos LDA en español.\n",
        "    Incluye POS tagging, lematización y filtrado según mejores prácticas.\n",
        "    Devuelve una lista de tokens procesados.\n",
        "    \"\"\"\n",
        "\n",
        "    # 1. Eliminación de URLs y correos electrónicos\n",
        "    texto = re.sub(r'http\\S+', '', texto)\n",
        "    texto = re.sub(r'\\S+@\\S+', '', texto)\n",
        "\n",
        "    # 2. Normalización de espacios y caracteres especiales\n",
        "    texto = re.sub(r'\\s+', ' ', texto).strip().lower()\n",
        "\n",
        "    # 3. Procesamiento con SpaCy (tokenización, POS tagging, lematización)\n",
        "    doc = nlp(texto)\n",
        "\n",
        "    tokens_procesados = []\n",
        "\n",
        "    for token in doc:\n",
        "        # 4. Filtrar stopwords, puntuación y números\n",
        "        if token.is_stop or token.is_punct or token.like_num:\n",
        "            continue\n",
        "\n",
        "        # 5. Filtrar por POS: mantener sustantivos, adjetivos y verbos en infinitivo\n",
        "        if token.pos_ not in ['NOUN', 'ADJ', 'VERB']:\n",
        "            continue\n",
        "\n",
        "        # 6. Lematización y limpieza final\n",
        "        lemma = token.lemma_.lower().strip()\n",
        "\n",
        "        # 7. Filtrar lemas cortos y caracteres no deseados\n",
        "        if len(lemma) < 3 or not re.match(r'^[a-záéíóúñü]+$', lemma):\n",
        "            continue\n",
        "\n",
        "        tokens_procesados.append(lemma)\n",
        "\n",
        "    return tokens_procesados"
      ],
      "metadata": {
        "id": "GFLnARK6sbAS"
      },
      "execution_count": 40,
      "outputs": []
    },
    {
      "cell_type": "markdown",
      "source": [
        "Aplicamos la funcion sobre la columna overview para tener las sinopsis procesadas para poder entrenar el modelo"
      ],
      "metadata": {
        "id": "5OmMEP1a-R3C"
      }
    },
    {
      "cell_type": "code",
      "source": [
        "nlp = spacy.load(\"en_core_web_sm\")\n",
        "\n",
        "data['texto_procesado'] = data['overview'].apply(preprocesar_texto)\n",
        "data.head(5)"
      ],
      "metadata": {
        "colab": {
          "base_uri": "https://localhost:8080/",
          "height": 310
        },
        "id": "UJTobTlZs8Th",
        "outputId": "ab87f277-c8ed-4995-e43d-cb04b24b08fe"
      },
      "execution_count": 41,
      "outputs": [
        {
          "output_type": "execute_result",
          "data": {
            "text/plain": [
              "                         title  \\\n",
              "0  Father of the Bride Part II   \n",
              "1                      Othello   \n",
              "2             Dead Man Walking   \n",
              "3     Cry, the Beloved Country   \n",
              "4                      Georgia   \n",
              "\n",
              "                                            overview  \\\n",
              "0  Just when George Banks has recovered from his ...   \n",
              "1  The evil Iago pretends to be friend of Othello...   \n",
              "2  A justice drama based on a true story about a ...   \n",
              "3  A South-African preacher goes to search for hi...   \n",
              "4  Sadie looks up to her older sister Georgia, a ...   \n",
              "\n",
              "                           genres   genre  genre code  \\\n",
              "0  [{'id': 35, 'name': 'Comedy'}]  Comedy           1   \n",
              "1   [{'id': 18, 'name': 'Drama'}]   Drama           2   \n",
              "2   [{'id': 18, 'name': 'Drama'}]   Drama           2   \n",
              "3   [{'id': 18, 'name': 'Drama'}]   Drama           2   \n",
              "4   [{'id': 18, 'name': 'Drama'}]   Drama           2   \n",
              "\n",
              "                                     texto_procesado  \n",
              "0  [bank, recover, daughter, wedding, receive, ne...  \n",
              "1  [evil, iago, pretend, friend, order, manipulat...  \n",
              "2  [justice, drama, base, true, story, man, death...  \n",
              "3  [south, african, preacher, search, wayward, so...  \n",
              "4  [sadie, look, old, sister, successful, folk, s...  "
            ],
            "text/html": [
              "\n",
              "  <div id=\"df-d46c0e0f-09a6-4d28-a7cf-8544a31a4de2\" class=\"colab-df-container\">\n",
              "    <div>\n",
              "<style scoped>\n",
              "    .dataframe tbody tr th:only-of-type {\n",
              "        vertical-align: middle;\n",
              "    }\n",
              "\n",
              "    .dataframe tbody tr th {\n",
              "        vertical-align: top;\n",
              "    }\n",
              "\n",
              "    .dataframe thead th {\n",
              "        text-align: right;\n",
              "    }\n",
              "</style>\n",
              "<table border=\"1\" class=\"dataframe\">\n",
              "  <thead>\n",
              "    <tr style=\"text-align: right;\">\n",
              "      <th></th>\n",
              "      <th>title</th>\n",
              "      <th>overview</th>\n",
              "      <th>genres</th>\n",
              "      <th>genre</th>\n",
              "      <th>genre code</th>\n",
              "      <th>texto_procesado</th>\n",
              "    </tr>\n",
              "  </thead>\n",
              "  <tbody>\n",
              "    <tr>\n",
              "      <th>0</th>\n",
              "      <td>Father of the Bride Part II</td>\n",
              "      <td>Just when George Banks has recovered from his ...</td>\n",
              "      <td>[{'id': 35, 'name': 'Comedy'}]</td>\n",
              "      <td>Comedy</td>\n",
              "      <td>1</td>\n",
              "      <td>[bank, recover, daughter, wedding, receive, ne...</td>\n",
              "    </tr>\n",
              "    <tr>\n",
              "      <th>1</th>\n",
              "      <td>Othello</td>\n",
              "      <td>The evil Iago pretends to be friend of Othello...</td>\n",
              "      <td>[{'id': 18, 'name': 'Drama'}]</td>\n",
              "      <td>Drama</td>\n",
              "      <td>2</td>\n",
              "      <td>[evil, iago, pretend, friend, order, manipulat...</td>\n",
              "    </tr>\n",
              "    <tr>\n",
              "      <th>2</th>\n",
              "      <td>Dead Man Walking</td>\n",
              "      <td>A justice drama based on a true story about a ...</td>\n",
              "      <td>[{'id': 18, 'name': 'Drama'}]</td>\n",
              "      <td>Drama</td>\n",
              "      <td>2</td>\n",
              "      <td>[justice, drama, base, true, story, man, death...</td>\n",
              "    </tr>\n",
              "    <tr>\n",
              "      <th>3</th>\n",
              "      <td>Cry, the Beloved Country</td>\n",
              "      <td>A South-African preacher goes to search for hi...</td>\n",
              "      <td>[{'id': 18, 'name': 'Drama'}]</td>\n",
              "      <td>Drama</td>\n",
              "      <td>2</td>\n",
              "      <td>[south, african, preacher, search, wayward, so...</td>\n",
              "    </tr>\n",
              "    <tr>\n",
              "      <th>4</th>\n",
              "      <td>Georgia</td>\n",
              "      <td>Sadie looks up to her older sister Georgia, a ...</td>\n",
              "      <td>[{'id': 18, 'name': 'Drama'}]</td>\n",
              "      <td>Drama</td>\n",
              "      <td>2</td>\n",
              "      <td>[sadie, look, old, sister, successful, folk, s...</td>\n",
              "    </tr>\n",
              "  </tbody>\n",
              "</table>\n",
              "</div>\n",
              "    <div class=\"colab-df-buttons\">\n",
              "\n",
              "  <div class=\"colab-df-container\">\n",
              "    <button class=\"colab-df-convert\" onclick=\"convertToInteractive('df-d46c0e0f-09a6-4d28-a7cf-8544a31a4de2')\"\n",
              "            title=\"Convert this dataframe to an interactive table.\"\n",
              "            style=\"display:none;\">\n",
              "\n",
              "  <svg xmlns=\"http://www.w3.org/2000/svg\" height=\"24px\" viewBox=\"0 -960 960 960\">\n",
              "    <path d=\"M120-120v-720h720v720H120Zm60-500h600v-160H180v160Zm220 220h160v-160H400v160Zm0 220h160v-160H400v160ZM180-400h160v-160H180v160Zm440 0h160v-160H620v160ZM180-180h160v-160H180v160Zm440 0h160v-160H620v160Z\"/>\n",
              "  </svg>\n",
              "    </button>\n",
              "\n",
              "  <style>\n",
              "    .colab-df-container {\n",
              "      display:flex;\n",
              "      gap: 12px;\n",
              "    }\n",
              "\n",
              "    .colab-df-convert {\n",
              "      background-color: #E8F0FE;\n",
              "      border: none;\n",
              "      border-radius: 50%;\n",
              "      cursor: pointer;\n",
              "      display: none;\n",
              "      fill: #1967D2;\n",
              "      height: 32px;\n",
              "      padding: 0 0 0 0;\n",
              "      width: 32px;\n",
              "    }\n",
              "\n",
              "    .colab-df-convert:hover {\n",
              "      background-color: #E2EBFA;\n",
              "      box-shadow: 0px 1px 2px rgba(60, 64, 67, 0.3), 0px 1px 3px 1px rgba(60, 64, 67, 0.15);\n",
              "      fill: #174EA6;\n",
              "    }\n",
              "\n",
              "    .colab-df-buttons div {\n",
              "      margin-bottom: 4px;\n",
              "    }\n",
              "\n",
              "    [theme=dark] .colab-df-convert {\n",
              "      background-color: #3B4455;\n",
              "      fill: #D2E3FC;\n",
              "    }\n",
              "\n",
              "    [theme=dark] .colab-df-convert:hover {\n",
              "      background-color: #434B5C;\n",
              "      box-shadow: 0px 1px 3px 1px rgba(0, 0, 0, 0.15);\n",
              "      filter: drop-shadow(0px 1px 2px rgba(0, 0, 0, 0.3));\n",
              "      fill: #FFFFFF;\n",
              "    }\n",
              "  </style>\n",
              "\n",
              "    <script>\n",
              "      const buttonEl =\n",
              "        document.querySelector('#df-d46c0e0f-09a6-4d28-a7cf-8544a31a4de2 button.colab-df-convert');\n",
              "      buttonEl.style.display =\n",
              "        google.colab.kernel.accessAllowed ? 'block' : 'none';\n",
              "\n",
              "      async function convertToInteractive(key) {\n",
              "        const element = document.querySelector('#df-d46c0e0f-09a6-4d28-a7cf-8544a31a4de2');\n",
              "        const dataTable =\n",
              "          await google.colab.kernel.invokeFunction('convertToInteractive',\n",
              "                                                    [key], {});\n",
              "        if (!dataTable) return;\n",
              "\n",
              "        const docLinkHtml = 'Like what you see? Visit the ' +\n",
              "          '<a target=\"_blank\" href=https://colab.research.google.com/notebooks/data_table.ipynb>data table notebook</a>'\n",
              "          + ' to learn more about interactive tables.';\n",
              "        element.innerHTML = '';\n",
              "        dataTable['output_type'] = 'display_data';\n",
              "        await google.colab.output.renderOutput(dataTable, element);\n",
              "        const docLink = document.createElement('div');\n",
              "        docLink.innerHTML = docLinkHtml;\n",
              "        element.appendChild(docLink);\n",
              "      }\n",
              "    </script>\n",
              "  </div>\n",
              "\n",
              "\n",
              "    <div id=\"df-e9cfb0fe-64ca-452e-92ca-b3ea27f84b4a\">\n",
              "      <button class=\"colab-df-quickchart\" onclick=\"quickchart('df-e9cfb0fe-64ca-452e-92ca-b3ea27f84b4a')\"\n",
              "                title=\"Suggest charts\"\n",
              "                style=\"display:none;\">\n",
              "\n",
              "<svg xmlns=\"http://www.w3.org/2000/svg\" height=\"24px\"viewBox=\"0 0 24 24\"\n",
              "     width=\"24px\">\n",
              "    <g>\n",
              "        <path d=\"M19 3H5c-1.1 0-2 .9-2 2v14c0 1.1.9 2 2 2h14c1.1 0 2-.9 2-2V5c0-1.1-.9-2-2-2zM9 17H7v-7h2v7zm4 0h-2V7h2v10zm4 0h-2v-4h2v4z\"/>\n",
              "    </g>\n",
              "</svg>\n",
              "      </button>\n",
              "\n",
              "<style>\n",
              "  .colab-df-quickchart {\n",
              "      --bg-color: #E8F0FE;\n",
              "      --fill-color: #1967D2;\n",
              "      --hover-bg-color: #E2EBFA;\n",
              "      --hover-fill-color: #174EA6;\n",
              "      --disabled-fill-color: #AAA;\n",
              "      --disabled-bg-color: #DDD;\n",
              "  }\n",
              "\n",
              "  [theme=dark] .colab-df-quickchart {\n",
              "      --bg-color: #3B4455;\n",
              "      --fill-color: #D2E3FC;\n",
              "      --hover-bg-color: #434B5C;\n",
              "      --hover-fill-color: #FFFFFF;\n",
              "      --disabled-bg-color: #3B4455;\n",
              "      --disabled-fill-color: #666;\n",
              "  }\n",
              "\n",
              "  .colab-df-quickchart {\n",
              "    background-color: var(--bg-color);\n",
              "    border: none;\n",
              "    border-radius: 50%;\n",
              "    cursor: pointer;\n",
              "    display: none;\n",
              "    fill: var(--fill-color);\n",
              "    height: 32px;\n",
              "    padding: 0;\n",
              "    width: 32px;\n",
              "  }\n",
              "\n",
              "  .colab-df-quickchart:hover {\n",
              "    background-color: var(--hover-bg-color);\n",
              "    box-shadow: 0 1px 2px rgba(60, 64, 67, 0.3), 0 1px 3px 1px rgba(60, 64, 67, 0.15);\n",
              "    fill: var(--button-hover-fill-color);\n",
              "  }\n",
              "\n",
              "  .colab-df-quickchart-complete:disabled,\n",
              "  .colab-df-quickchart-complete:disabled:hover {\n",
              "    background-color: var(--disabled-bg-color);\n",
              "    fill: var(--disabled-fill-color);\n",
              "    box-shadow: none;\n",
              "  }\n",
              "\n",
              "  .colab-df-spinner {\n",
              "    border: 2px solid var(--fill-color);\n",
              "    border-color: transparent;\n",
              "    border-bottom-color: var(--fill-color);\n",
              "    animation:\n",
              "      spin 1s steps(1) infinite;\n",
              "  }\n",
              "\n",
              "  @keyframes spin {\n",
              "    0% {\n",
              "      border-color: transparent;\n",
              "      border-bottom-color: var(--fill-color);\n",
              "      border-left-color: var(--fill-color);\n",
              "    }\n",
              "    20% {\n",
              "      border-color: transparent;\n",
              "      border-left-color: var(--fill-color);\n",
              "      border-top-color: var(--fill-color);\n",
              "    }\n",
              "    30% {\n",
              "      border-color: transparent;\n",
              "      border-left-color: var(--fill-color);\n",
              "      border-top-color: var(--fill-color);\n",
              "      border-right-color: var(--fill-color);\n",
              "    }\n",
              "    40% {\n",
              "      border-color: transparent;\n",
              "      border-right-color: var(--fill-color);\n",
              "      border-top-color: var(--fill-color);\n",
              "    }\n",
              "    60% {\n",
              "      border-color: transparent;\n",
              "      border-right-color: var(--fill-color);\n",
              "    }\n",
              "    80% {\n",
              "      border-color: transparent;\n",
              "      border-right-color: var(--fill-color);\n",
              "      border-bottom-color: var(--fill-color);\n",
              "    }\n",
              "    90% {\n",
              "      border-color: transparent;\n",
              "      border-bottom-color: var(--fill-color);\n",
              "    }\n",
              "  }\n",
              "</style>\n",
              "\n",
              "      <script>\n",
              "        async function quickchart(key) {\n",
              "          const quickchartButtonEl =\n",
              "            document.querySelector('#' + key + ' button');\n",
              "          quickchartButtonEl.disabled = true;  // To prevent multiple clicks.\n",
              "          quickchartButtonEl.classList.add('colab-df-spinner');\n",
              "          try {\n",
              "            const charts = await google.colab.kernel.invokeFunction(\n",
              "                'suggestCharts', [key], {});\n",
              "          } catch (error) {\n",
              "            console.error('Error during call to suggestCharts:', error);\n",
              "          }\n",
              "          quickchartButtonEl.classList.remove('colab-df-spinner');\n",
              "          quickchartButtonEl.classList.add('colab-df-quickchart-complete');\n",
              "        }\n",
              "        (() => {\n",
              "          let quickchartButtonEl =\n",
              "            document.querySelector('#df-e9cfb0fe-64ca-452e-92ca-b3ea27f84b4a button');\n",
              "          quickchartButtonEl.style.display =\n",
              "            google.colab.kernel.accessAllowed ? 'block' : 'none';\n",
              "        })();\n",
              "      </script>\n",
              "    </div>\n",
              "\n",
              "    </div>\n",
              "  </div>\n"
            ],
            "application/vnd.google.colaboratory.intrinsic+json": {
              "type": "dataframe",
              "variable_name": "data",
              "summary": "{\n  \"name\": \"data\",\n  \"rows\": 13745,\n  \"fields\": [\n    {\n      \"column\": \"title\",\n      \"properties\": {\n        \"dtype\": \"string\",\n        \"num_unique_values\": 13406,\n        \"samples\": [\n          \"Mrs. Brown's Boys D'Movie\",\n          \"The Sleepy Time Gal\",\n          \"Three Men and a Cradle\"\n        ],\n        \"semantic_type\": \"\",\n        \"description\": \"\"\n      }\n    },\n    {\n      \"column\": \"overview\",\n      \"properties\": {\n        \"dtype\": \"string\",\n        \"num_unique_values\": 13670,\n        \"samples\": [\n          \"A thought-provoking drama about the power that a famous university professor holds over his students and assistants.\",\n          \"Fifty years old, three years past of unemployment, benefits decreasing very quickly... Gerard is at the end of the rope when a position is offered him in Indonesia. To win the favor of his new employer, Gerard invites him to dinner at home. Fatal Error ! Terrified at the idea of not being up to par, his wife Colette begs Alexandre, their neighbor to help. Communication guru, Alexander accepts the challenge and gives a makeover to the couple in twenty-four hours. Apartment, decoration, lifestyle, dinner menu, uniforms, culture... Everything !\",\n          \"The year is 1968. To a small town in the south of Israel, mostly inhabited by Moroccan immigrants, a few families from India arrive, searching for a better life in the west. The instinct driven Moroccans patronize the \\\"black\\\" Indians, while the quiet Indians see the Moroccans as Ignorant and coarse. In this cultural war two girls, Moroccan and Indian, discover the sexual revolution of the 60's.\"\n        ],\n        \"semantic_type\": \"\",\n        \"description\": \"\"\n      }\n    },\n    {\n      \"column\": \"genres\",\n      \"properties\": {\n        \"dtype\": \"category\",\n        \"num_unique_values\": 12,\n        \"samples\": [\n          \"[{'id': 37, 'name': 'Western'}]\",\n          \"[{'id': 28, 'name': 'Action'}]\",\n          \"[{'id': 35, 'name': 'Comedy'}]\"\n        ],\n        \"semantic_type\": \"\",\n        \"description\": \"\"\n      }\n    },\n    {\n      \"column\": \"genre\",\n      \"properties\": {\n        \"dtype\": \"category\",\n        \"num_unique_values\": 12,\n        \"samples\": [\n          \"Western\",\n          \"Action\",\n          \"Comedy\"\n        ],\n        \"semantic_type\": \"\",\n        \"description\": \"\"\n      }\n    },\n    {\n      \"column\": \"genre code\",\n      \"properties\": {\n        \"dtype\": \"number\",\n        \"std\": 2,\n        \"min\": 1,\n        \"max\": 12,\n        \"num_unique_values\": 12,\n        \"samples\": [\n          11,\n          10,\n          1\n        ],\n        \"semantic_type\": \"\",\n        \"description\": \"\"\n      }\n    },\n    {\n      \"column\": \"texto_procesado\",\n      \"properties\": {\n        \"dtype\": \"object\",\n        \"semantic_type\": \"\",\n        \"description\": \"\"\n      }\n    }\n  ]\n}"
            }
          },
          "metadata": {},
          "execution_count": 41
        }
      ]
    },
    {
      "cell_type": "markdown",
      "source": [
        "Para este proyecto hemos decidido hacer un clasificador para el género Drama, el cual se encuentra codificado con el número 2 dentro de nuestra base. Hemos decidido usar este genero ya que es el que más presencia tiene dentro de la base."
      ],
      "metadata": {
        "id": "NEhQJ-vn-5fZ"
      }
    },
    {
      "cell_type": "code",
      "source": [
        "data['genre code'] = data['genre code'].apply(lambda x: 1 if x == 2 else 0) # Clasificamos para el género Drama\n"
      ],
      "metadata": {
        "id": "4Am7ohARJrNQ"
      },
      "execution_count": 42,
      "outputs": []
    },
    {
      "cell_type": "markdown",
      "source": [
        "Guardamos los datos listos para entrenar el modelo"
      ],
      "metadata": {
        "id": "d3Ay-o0i-v9X"
      }
    },
    {
      "cell_type": "code",
      "source": [
        "#data.to_csv('data_procesada.csv', index=False)\n",
        "#data.head(10)"
      ],
      "metadata": {
        "id": "6-wj47r5IRdi"
      },
      "execution_count": 18,
      "outputs": []
    },
    {
      "cell_type": "markdown",
      "source": [
        "### Entrenamiento del Modelo"
      ],
      "metadata": {
        "id": "EoMow6fW_ejp"
      }
    },
    {
      "cell_type": "markdown",
      "source": [
        "Empezaremos haciendo una optimización del hiperparametro de la cantidad de temas por validación cruzada usando k=5 folds, la métrica que usaremos de guía es ROC AUC."
      ],
      "metadata": {
        "id": "Wdl8FRr7_wMl"
      }
    },
    {
      "cell_type": "code",
      "source": [
        "# Parámetros\n",
        "k_values = range(10, 21)  # Valores de k a evaluar\n",
        "n_folds = 5               # Número de folds\n",
        "n_iters = 50              # Número de iteraciones de entrenamiento"
      ],
      "metadata": {
        "id": "kczoyCEQ_Kt0"
      },
      "execution_count": 43,
      "outputs": []
    },
    {
      "cell_type": "code",
      "source": [
        "docs = list(data.texto_procesado) # Los documentos\n",
        "labels = list(data['genre code']) # Las Etiquetas"
      ],
      "metadata": {
        "id": "MECZ-kOP_KmQ"
      },
      "execution_count": 44,
      "outputs": []
    },
    {
      "cell_type": "code",
      "source": [
        "# Guardar resultados de AUC para cada k\n",
        "auc_resultados = {}\n",
        "\n",
        "# Validación cruzada\n",
        "skf = StratifiedKFold(n_splits=n_folds, shuffle=True, random_state=42)\n",
        "\n",
        "for k in k_values:\n",
        "    print(f\"\\nEvaluando k = {k}\")\n",
        "    auc_folds = []\n",
        "\n",
        "    for fold_idx, (train_idx, test_idx) in enumerate(skf.split(docs, labels)):\n",
        "        # Crear modelo SLDA\n",
        "        model = tp.SLDAModel(k=k, seed=123, vars='b')\n",
        "\n",
        "        # Añadir documentos de entrenamiento\n",
        "        for idx in train_idx:\n",
        "            model.add_doc(words=docs[idx], y=[labels[idx]])\n",
        "\n",
        "        # Entrenar el modelo\n",
        "        model.train(n_iters)\n",
        "\n",
        "        # Predecir en los documentos de validación\n",
        "        y_true = []\n",
        "        y_scores = []\n",
        "\n",
        "        for idx in test_idx:\n",
        "            if docs[idx] != []:\n",
        "              doc_words = docs[idx]\n",
        "              label = labels[idx]\n",
        "              y_true.append(label)\n",
        "\n",
        "              #print(doc_words)\n",
        "\n",
        "              # Inferir el documento en el modelo entrenado\n",
        "              test_doc = model.make_doc(doc_words)\n",
        "              model.infer(test_doc)\n",
        "\n",
        "              # Obtener la probabilidad estimada de y=1\n",
        "              prob = model.estimate(test_doc)\n",
        "              y_scores.append(prob)\n",
        "\n",
        "        # Calcular AUC para este fold\n",
        "        auc = roc_auc_score(y_true, y_scores)\n",
        "        auc_folds.append(auc)\n",
        "        print(f\"  Fold {fold_idx+1} - AUC: {auc:.4f}\")\n",
        "\n",
        "    # Promediar AUC en los 5 folds\n",
        "    auc_medio = np.mean(auc_folds)\n",
        "    auc_resultados[k] = auc_medio\n",
        "    print(f\"Promedio AUC para k={k}: {auc_medio:.4f}\")\n",
        "\n",
        "# Mostrar los resultados y el mejor k\n",
        "mejor_k = max(auc_resultados, key=auc_resultados.get)\n",
        "print(\"\\nResultados de AUC por k:\")\n",
        "for k in sorted(auc_resultados):\n",
        "    print(f\"  k={k}: AUC={auc_resultados[k]:.4f}\")\n",
        "print(f\"\\nMejor valor de k: {mejor_k} con AUC={auc_resultados[mejor_k]:.4f}\")"
      ],
      "metadata": {
        "colab": {
          "base_uri": "https://localhost:8080/"
        },
        "id": "O-9F22ao_KbO",
        "outputId": "9d14972d-e84e-477d-a6d7-e15f36210cc8"
      },
      "execution_count": 45,
      "outputs": [
        {
          "output_type": "stream",
          "name": "stdout",
          "text": [
            "\n",
            "Evaluando k = 10\n"
          ]
        },
        {
          "output_type": "stream",
          "name": "stderr",
          "text": [
            "<ipython-input-45-9154d0d5f151>:20: RuntimeWarning: The training result may differ even with fixed seed if `workers` != 1.\n",
            "  model.train(n_iters)\n"
          ]
        },
        {
          "output_type": "stream",
          "name": "stdout",
          "text": [
            "  Fold 1 - AUC: 0.7369\n"
          ]
        },
        {
          "output_type": "stream",
          "name": "stderr",
          "text": [
            "<ipython-input-45-9154d0d5f151>:20: RuntimeWarning: The training result may differ even with fixed seed if `workers` != 1.\n",
            "  model.train(n_iters)\n"
          ]
        },
        {
          "output_type": "stream",
          "name": "stdout",
          "text": [
            "  Fold 2 - AUC: 0.7468\n"
          ]
        },
        {
          "output_type": "stream",
          "name": "stderr",
          "text": [
            "<ipython-input-45-9154d0d5f151>:20: RuntimeWarning: The training result may differ even with fixed seed if `workers` != 1.\n",
            "  model.train(n_iters)\n"
          ]
        },
        {
          "output_type": "stream",
          "name": "stdout",
          "text": [
            "  Fold 3 - AUC: 0.7073\n"
          ]
        },
        {
          "output_type": "stream",
          "name": "stderr",
          "text": [
            "<ipython-input-45-9154d0d5f151>:20: RuntimeWarning: The training result may differ even with fixed seed if `workers` != 1.\n",
            "  model.train(n_iters)\n"
          ]
        },
        {
          "output_type": "stream",
          "name": "stdout",
          "text": [
            "  Fold 4 - AUC: 0.7456\n"
          ]
        },
        {
          "output_type": "stream",
          "name": "stderr",
          "text": [
            "<ipython-input-45-9154d0d5f151>:20: RuntimeWarning: The training result may differ even with fixed seed if `workers` != 1.\n",
            "  model.train(n_iters)\n"
          ]
        },
        {
          "output_type": "stream",
          "name": "stdout",
          "text": [
            "  Fold 5 - AUC: 0.7110\n",
            "Promedio AUC para k=10: 0.7295\n",
            "\n",
            "Evaluando k = 11\n"
          ]
        },
        {
          "output_type": "stream",
          "name": "stderr",
          "text": [
            "<ipython-input-45-9154d0d5f151>:20: RuntimeWarning: The training result may differ even with fixed seed if `workers` != 1.\n",
            "  model.train(n_iters)\n"
          ]
        },
        {
          "output_type": "stream",
          "name": "stdout",
          "text": [
            "  Fold 1 - AUC: 0.7089\n"
          ]
        },
        {
          "output_type": "stream",
          "name": "stderr",
          "text": [
            "<ipython-input-45-9154d0d5f151>:20: RuntimeWarning: The training result may differ even with fixed seed if `workers` != 1.\n",
            "  model.train(n_iters)\n"
          ]
        },
        {
          "output_type": "stream",
          "name": "stdout",
          "text": [
            "  Fold 2 - AUC: 0.7110\n"
          ]
        },
        {
          "output_type": "stream",
          "name": "stderr",
          "text": [
            "<ipython-input-45-9154d0d5f151>:20: RuntimeWarning: The training result may differ even with fixed seed if `workers` != 1.\n",
            "  model.train(n_iters)\n"
          ]
        },
        {
          "output_type": "stream",
          "name": "stdout",
          "text": [
            "  Fold 3 - AUC: 0.7324\n"
          ]
        },
        {
          "output_type": "stream",
          "name": "stderr",
          "text": [
            "<ipython-input-45-9154d0d5f151>:20: RuntimeWarning: The training result may differ even with fixed seed if `workers` != 1.\n",
            "  model.train(n_iters)\n"
          ]
        },
        {
          "output_type": "stream",
          "name": "stdout",
          "text": [
            "  Fold 4 - AUC: 0.7569\n"
          ]
        },
        {
          "output_type": "stream",
          "name": "stderr",
          "text": [
            "<ipython-input-45-9154d0d5f151>:20: RuntimeWarning: The training result may differ even with fixed seed if `workers` != 1.\n",
            "  model.train(n_iters)\n"
          ]
        },
        {
          "output_type": "stream",
          "name": "stdout",
          "text": [
            "  Fold 5 - AUC: 0.7373\n",
            "Promedio AUC para k=11: 0.7293\n",
            "\n",
            "Evaluando k = 12\n"
          ]
        },
        {
          "output_type": "stream",
          "name": "stderr",
          "text": [
            "<ipython-input-45-9154d0d5f151>:20: RuntimeWarning: The training result may differ even with fixed seed if `workers` != 1.\n",
            "  model.train(n_iters)\n"
          ]
        },
        {
          "output_type": "stream",
          "name": "stdout",
          "text": [
            "  Fold 1 - AUC: 0.7298\n"
          ]
        },
        {
          "output_type": "stream",
          "name": "stderr",
          "text": [
            "<ipython-input-45-9154d0d5f151>:20: RuntimeWarning: The training result may differ even with fixed seed if `workers` != 1.\n",
            "  model.train(n_iters)\n"
          ]
        },
        {
          "output_type": "stream",
          "name": "stdout",
          "text": [
            "  Fold 2 - AUC: 0.7397\n"
          ]
        },
        {
          "output_type": "stream",
          "name": "stderr",
          "text": [
            "<ipython-input-45-9154d0d5f151>:20: RuntimeWarning: The training result may differ even with fixed seed if `workers` != 1.\n",
            "  model.train(n_iters)\n"
          ]
        },
        {
          "output_type": "stream",
          "name": "stdout",
          "text": [
            "  Fold 3 - AUC: 0.7145\n"
          ]
        },
        {
          "output_type": "stream",
          "name": "stderr",
          "text": [
            "<ipython-input-45-9154d0d5f151>:20: RuntimeWarning: The training result may differ even with fixed seed if `workers` != 1.\n",
            "  model.train(n_iters)\n"
          ]
        },
        {
          "output_type": "stream",
          "name": "stdout",
          "text": [
            "  Fold 4 - AUC: 0.7414\n"
          ]
        },
        {
          "output_type": "stream",
          "name": "stderr",
          "text": [
            "<ipython-input-45-9154d0d5f151>:20: RuntimeWarning: The training result may differ even with fixed seed if `workers` != 1.\n",
            "  model.train(n_iters)\n"
          ]
        },
        {
          "output_type": "stream",
          "name": "stdout",
          "text": [
            "  Fold 5 - AUC: 0.7378\n",
            "Promedio AUC para k=12: 0.7326\n",
            "\n",
            "Evaluando k = 13\n"
          ]
        },
        {
          "output_type": "stream",
          "name": "stderr",
          "text": [
            "<ipython-input-45-9154d0d5f151>:20: RuntimeWarning: The training result may differ even with fixed seed if `workers` != 1.\n",
            "  model.train(n_iters)\n"
          ]
        },
        {
          "output_type": "stream",
          "name": "stdout",
          "text": [
            "  Fold 1 - AUC: 0.7228\n"
          ]
        },
        {
          "output_type": "stream",
          "name": "stderr",
          "text": [
            "<ipython-input-45-9154d0d5f151>:20: RuntimeWarning: The training result may differ even with fixed seed if `workers` != 1.\n",
            "  model.train(n_iters)\n"
          ]
        },
        {
          "output_type": "stream",
          "name": "stdout",
          "text": [
            "  Fold 2 - AUC: 0.7445\n"
          ]
        },
        {
          "output_type": "stream",
          "name": "stderr",
          "text": [
            "<ipython-input-45-9154d0d5f151>:20: RuntimeWarning: The training result may differ even with fixed seed if `workers` != 1.\n",
            "  model.train(n_iters)\n"
          ]
        },
        {
          "output_type": "stream",
          "name": "stdout",
          "text": [
            "  Fold 3 - AUC: 0.7132\n"
          ]
        },
        {
          "output_type": "stream",
          "name": "stderr",
          "text": [
            "<ipython-input-45-9154d0d5f151>:20: RuntimeWarning: The training result may differ even with fixed seed if `workers` != 1.\n",
            "  model.train(n_iters)\n"
          ]
        },
        {
          "output_type": "stream",
          "name": "stdout",
          "text": [
            "  Fold 4 - AUC: 0.7322\n"
          ]
        },
        {
          "output_type": "stream",
          "name": "stderr",
          "text": [
            "<ipython-input-45-9154d0d5f151>:20: RuntimeWarning: The training result may differ even with fixed seed if `workers` != 1.\n",
            "  model.train(n_iters)\n"
          ]
        },
        {
          "output_type": "stream",
          "name": "stdout",
          "text": [
            "  Fold 5 - AUC: 0.7484\n",
            "Promedio AUC para k=13: 0.7322\n",
            "\n",
            "Evaluando k = 14\n"
          ]
        },
        {
          "output_type": "stream",
          "name": "stderr",
          "text": [
            "<ipython-input-45-9154d0d5f151>:20: RuntimeWarning: The training result may differ even with fixed seed if `workers` != 1.\n",
            "  model.train(n_iters)\n"
          ]
        },
        {
          "output_type": "stream",
          "name": "stdout",
          "text": [
            "  Fold 1 - AUC: 0.7385\n"
          ]
        },
        {
          "output_type": "stream",
          "name": "stderr",
          "text": [
            "<ipython-input-45-9154d0d5f151>:20: RuntimeWarning: The training result may differ even with fixed seed if `workers` != 1.\n",
            "  model.train(n_iters)\n"
          ]
        },
        {
          "output_type": "stream",
          "name": "stdout",
          "text": [
            "  Fold 2 - AUC: 0.7435\n"
          ]
        },
        {
          "output_type": "stream",
          "name": "stderr",
          "text": [
            "<ipython-input-45-9154d0d5f151>:20: RuntimeWarning: The training result may differ even with fixed seed if `workers` != 1.\n",
            "  model.train(n_iters)\n"
          ]
        },
        {
          "output_type": "stream",
          "name": "stdout",
          "text": [
            "  Fold 3 - AUC: 0.7235\n"
          ]
        },
        {
          "output_type": "stream",
          "name": "stderr",
          "text": [
            "<ipython-input-45-9154d0d5f151>:20: RuntimeWarning: The training result may differ even with fixed seed if `workers` != 1.\n",
            "  model.train(n_iters)\n"
          ]
        },
        {
          "output_type": "stream",
          "name": "stdout",
          "text": [
            "  Fold 4 - AUC: 0.7532\n"
          ]
        },
        {
          "output_type": "stream",
          "name": "stderr",
          "text": [
            "<ipython-input-45-9154d0d5f151>:20: RuntimeWarning: The training result may differ even with fixed seed if `workers` != 1.\n",
            "  model.train(n_iters)\n"
          ]
        },
        {
          "output_type": "stream",
          "name": "stdout",
          "text": [
            "  Fold 5 - AUC: 0.7406\n",
            "Promedio AUC para k=14: 0.7399\n",
            "\n",
            "Evaluando k = 15\n"
          ]
        },
        {
          "output_type": "stream",
          "name": "stderr",
          "text": [
            "<ipython-input-45-9154d0d5f151>:20: RuntimeWarning: The training result may differ even with fixed seed if `workers` != 1.\n",
            "  model.train(n_iters)\n"
          ]
        },
        {
          "output_type": "stream",
          "name": "stdout",
          "text": [
            "  Fold 1 - AUC: 0.7471\n"
          ]
        },
        {
          "output_type": "stream",
          "name": "stderr",
          "text": [
            "<ipython-input-45-9154d0d5f151>:20: RuntimeWarning: The training result may differ even with fixed seed if `workers` != 1.\n",
            "  model.train(n_iters)\n"
          ]
        },
        {
          "output_type": "stream",
          "name": "stdout",
          "text": [
            "  Fold 2 - AUC: 0.7403\n"
          ]
        },
        {
          "output_type": "stream",
          "name": "stderr",
          "text": [
            "<ipython-input-45-9154d0d5f151>:20: RuntimeWarning: The training result may differ even with fixed seed if `workers` != 1.\n",
            "  model.train(n_iters)\n"
          ]
        },
        {
          "output_type": "stream",
          "name": "stdout",
          "text": [
            "  Fold 3 - AUC: 0.7181\n"
          ]
        },
        {
          "output_type": "stream",
          "name": "stderr",
          "text": [
            "<ipython-input-45-9154d0d5f151>:20: RuntimeWarning: The training result may differ even with fixed seed if `workers` != 1.\n",
            "  model.train(n_iters)\n"
          ]
        },
        {
          "output_type": "stream",
          "name": "stdout",
          "text": [
            "  Fold 4 - AUC: 0.7348\n"
          ]
        },
        {
          "output_type": "stream",
          "name": "stderr",
          "text": [
            "<ipython-input-45-9154d0d5f151>:20: RuntimeWarning: The training result may differ even with fixed seed if `workers` != 1.\n",
            "  model.train(n_iters)\n"
          ]
        },
        {
          "output_type": "stream",
          "name": "stdout",
          "text": [
            "  Fold 5 - AUC: 0.7404\n",
            "Promedio AUC para k=15: 0.7361\n",
            "\n",
            "Evaluando k = 16\n"
          ]
        },
        {
          "output_type": "stream",
          "name": "stderr",
          "text": [
            "<ipython-input-45-9154d0d5f151>:20: RuntimeWarning: The training result may differ even with fixed seed if `workers` != 1.\n",
            "  model.train(n_iters)\n"
          ]
        },
        {
          "output_type": "stream",
          "name": "stdout",
          "text": [
            "  Fold 1 - AUC: 0.7337\n"
          ]
        },
        {
          "output_type": "stream",
          "name": "stderr",
          "text": [
            "<ipython-input-45-9154d0d5f151>:20: RuntimeWarning: The training result may differ even with fixed seed if `workers` != 1.\n",
            "  model.train(n_iters)\n"
          ]
        },
        {
          "output_type": "stream",
          "name": "stdout",
          "text": [
            "  Fold 2 - AUC: 0.7488\n"
          ]
        },
        {
          "output_type": "stream",
          "name": "stderr",
          "text": [
            "<ipython-input-45-9154d0d5f151>:20: RuntimeWarning: The training result may differ even with fixed seed if `workers` != 1.\n",
            "  model.train(n_iters)\n"
          ]
        },
        {
          "output_type": "stream",
          "name": "stdout",
          "text": [
            "  Fold 3 - AUC: 0.7211\n"
          ]
        },
        {
          "output_type": "stream",
          "name": "stderr",
          "text": [
            "<ipython-input-45-9154d0d5f151>:20: RuntimeWarning: The training result may differ even with fixed seed if `workers` != 1.\n",
            "  model.train(n_iters)\n"
          ]
        },
        {
          "output_type": "stream",
          "name": "stdout",
          "text": [
            "  Fold 4 - AUC: 0.7481\n"
          ]
        },
        {
          "output_type": "stream",
          "name": "stderr",
          "text": [
            "<ipython-input-45-9154d0d5f151>:20: RuntimeWarning: The training result may differ even with fixed seed if `workers` != 1.\n",
            "  model.train(n_iters)\n"
          ]
        },
        {
          "output_type": "stream",
          "name": "stdout",
          "text": [
            "  Fold 5 - AUC: 0.7233\n",
            "Promedio AUC para k=16: 0.7350\n",
            "\n",
            "Evaluando k = 17\n"
          ]
        },
        {
          "output_type": "stream",
          "name": "stderr",
          "text": [
            "<ipython-input-45-9154d0d5f151>:20: RuntimeWarning: The training result may differ even with fixed seed if `workers` != 1.\n",
            "  model.train(n_iters)\n"
          ]
        },
        {
          "output_type": "stream",
          "name": "stdout",
          "text": [
            "  Fold 1 - AUC: 0.7463\n"
          ]
        },
        {
          "output_type": "stream",
          "name": "stderr",
          "text": [
            "<ipython-input-45-9154d0d5f151>:20: RuntimeWarning: The training result may differ even with fixed seed if `workers` != 1.\n",
            "  model.train(n_iters)\n"
          ]
        },
        {
          "output_type": "stream",
          "name": "stdout",
          "text": [
            "  Fold 2 - AUC: 0.7429\n"
          ]
        },
        {
          "output_type": "stream",
          "name": "stderr",
          "text": [
            "<ipython-input-45-9154d0d5f151>:20: RuntimeWarning: The training result may differ even with fixed seed if `workers` != 1.\n",
            "  model.train(n_iters)\n"
          ]
        },
        {
          "output_type": "stream",
          "name": "stdout",
          "text": [
            "  Fold 3 - AUC: 0.7277\n"
          ]
        },
        {
          "output_type": "stream",
          "name": "stderr",
          "text": [
            "<ipython-input-45-9154d0d5f151>:20: RuntimeWarning: The training result may differ even with fixed seed if `workers` != 1.\n",
            "  model.train(n_iters)\n"
          ]
        },
        {
          "output_type": "stream",
          "name": "stdout",
          "text": [
            "  Fold 4 - AUC: 0.7473\n"
          ]
        },
        {
          "output_type": "stream",
          "name": "stderr",
          "text": [
            "<ipython-input-45-9154d0d5f151>:20: RuntimeWarning: The training result may differ even with fixed seed if `workers` != 1.\n",
            "  model.train(n_iters)\n"
          ]
        },
        {
          "output_type": "stream",
          "name": "stdout",
          "text": [
            "  Fold 5 - AUC: 0.7408\n",
            "Promedio AUC para k=17: 0.7410\n",
            "\n",
            "Evaluando k = 18\n"
          ]
        },
        {
          "output_type": "stream",
          "name": "stderr",
          "text": [
            "<ipython-input-45-9154d0d5f151>:20: RuntimeWarning: The training result may differ even with fixed seed if `workers` != 1.\n",
            "  model.train(n_iters)\n"
          ]
        },
        {
          "output_type": "stream",
          "name": "stdout",
          "text": [
            "  Fold 1 - AUC: 0.7449\n"
          ]
        },
        {
          "output_type": "stream",
          "name": "stderr",
          "text": [
            "<ipython-input-45-9154d0d5f151>:20: RuntimeWarning: The training result may differ even with fixed seed if `workers` != 1.\n",
            "  model.train(n_iters)\n"
          ]
        },
        {
          "output_type": "stream",
          "name": "stdout",
          "text": [
            "  Fold 2 - AUC: 0.7685\n"
          ]
        },
        {
          "output_type": "stream",
          "name": "stderr",
          "text": [
            "<ipython-input-45-9154d0d5f151>:20: RuntimeWarning: The training result may differ even with fixed seed if `workers` != 1.\n",
            "  model.train(n_iters)\n"
          ]
        },
        {
          "output_type": "stream",
          "name": "stdout",
          "text": [
            "  Fold 3 - AUC: 0.7116\n"
          ]
        },
        {
          "output_type": "stream",
          "name": "stderr",
          "text": [
            "<ipython-input-45-9154d0d5f151>:20: RuntimeWarning: The training result may differ even with fixed seed if `workers` != 1.\n",
            "  model.train(n_iters)\n"
          ]
        },
        {
          "output_type": "stream",
          "name": "stdout",
          "text": [
            "  Fold 4 - AUC: 0.7466\n"
          ]
        },
        {
          "output_type": "stream",
          "name": "stderr",
          "text": [
            "<ipython-input-45-9154d0d5f151>:20: RuntimeWarning: The training result may differ even with fixed seed if `workers` != 1.\n",
            "  model.train(n_iters)\n"
          ]
        },
        {
          "output_type": "stream",
          "name": "stdout",
          "text": [
            "  Fold 5 - AUC: 0.7421\n",
            "Promedio AUC para k=18: 0.7428\n",
            "\n",
            "Evaluando k = 19\n"
          ]
        },
        {
          "output_type": "stream",
          "name": "stderr",
          "text": [
            "<ipython-input-45-9154d0d5f151>:20: RuntimeWarning: The training result may differ even with fixed seed if `workers` != 1.\n",
            "  model.train(n_iters)\n"
          ]
        },
        {
          "output_type": "stream",
          "name": "stdout",
          "text": [
            "  Fold 1 - AUC: 0.7417\n"
          ]
        },
        {
          "output_type": "stream",
          "name": "stderr",
          "text": [
            "<ipython-input-45-9154d0d5f151>:20: RuntimeWarning: The training result may differ even with fixed seed if `workers` != 1.\n",
            "  model.train(n_iters)\n"
          ]
        },
        {
          "output_type": "stream",
          "name": "stdout",
          "text": [
            "  Fold 2 - AUC: 0.7424\n"
          ]
        },
        {
          "output_type": "stream",
          "name": "stderr",
          "text": [
            "<ipython-input-45-9154d0d5f151>:20: RuntimeWarning: The training result may differ even with fixed seed if `workers` != 1.\n",
            "  model.train(n_iters)\n"
          ]
        },
        {
          "output_type": "stream",
          "name": "stdout",
          "text": [
            "  Fold 3 - AUC: 0.7308\n"
          ]
        },
        {
          "output_type": "stream",
          "name": "stderr",
          "text": [
            "<ipython-input-45-9154d0d5f151>:20: RuntimeWarning: The training result may differ even with fixed seed if `workers` != 1.\n",
            "  model.train(n_iters)\n"
          ]
        },
        {
          "output_type": "stream",
          "name": "stdout",
          "text": [
            "  Fold 4 - AUC: 0.7611\n"
          ]
        },
        {
          "output_type": "stream",
          "name": "stderr",
          "text": [
            "<ipython-input-45-9154d0d5f151>:20: RuntimeWarning: The training result may differ even with fixed seed if `workers` != 1.\n",
            "  model.train(n_iters)\n"
          ]
        },
        {
          "output_type": "stream",
          "name": "stdout",
          "text": [
            "  Fold 5 - AUC: 0.7576\n",
            "Promedio AUC para k=19: 0.7467\n",
            "\n",
            "Evaluando k = 20\n"
          ]
        },
        {
          "output_type": "stream",
          "name": "stderr",
          "text": [
            "<ipython-input-45-9154d0d5f151>:20: RuntimeWarning: The training result may differ even with fixed seed if `workers` != 1.\n",
            "  model.train(n_iters)\n"
          ]
        },
        {
          "output_type": "stream",
          "name": "stdout",
          "text": [
            "  Fold 1 - AUC: 0.7492\n"
          ]
        },
        {
          "output_type": "stream",
          "name": "stderr",
          "text": [
            "<ipython-input-45-9154d0d5f151>:20: RuntimeWarning: The training result may differ even with fixed seed if `workers` != 1.\n",
            "  model.train(n_iters)\n"
          ]
        },
        {
          "output_type": "stream",
          "name": "stdout",
          "text": [
            "  Fold 2 - AUC: 0.7429\n"
          ]
        },
        {
          "output_type": "stream",
          "name": "stderr",
          "text": [
            "<ipython-input-45-9154d0d5f151>:20: RuntimeWarning: The training result may differ even with fixed seed if `workers` != 1.\n",
            "  model.train(n_iters)\n"
          ]
        },
        {
          "output_type": "stream",
          "name": "stdout",
          "text": [
            "  Fold 3 - AUC: 0.7160\n"
          ]
        },
        {
          "output_type": "stream",
          "name": "stderr",
          "text": [
            "<ipython-input-45-9154d0d5f151>:20: RuntimeWarning: The training result may differ even with fixed seed if `workers` != 1.\n",
            "  model.train(n_iters)\n"
          ]
        },
        {
          "output_type": "stream",
          "name": "stdout",
          "text": [
            "  Fold 4 - AUC: 0.7574\n"
          ]
        },
        {
          "output_type": "stream",
          "name": "stderr",
          "text": [
            "<ipython-input-45-9154d0d5f151>:20: RuntimeWarning: The training result may differ even with fixed seed if `workers` != 1.\n",
            "  model.train(n_iters)\n"
          ]
        },
        {
          "output_type": "stream",
          "name": "stdout",
          "text": [
            "  Fold 5 - AUC: 0.7559\n",
            "Promedio AUC para k=20: 0.7443\n",
            "\n",
            "Resultados de AUC por k:\n",
            "  k=10: AUC=0.7295\n",
            "  k=11: AUC=0.7293\n",
            "  k=12: AUC=0.7326\n",
            "  k=13: AUC=0.7322\n",
            "  k=14: AUC=0.7399\n",
            "  k=15: AUC=0.7361\n",
            "  k=16: AUC=0.7350\n",
            "  k=17: AUC=0.7410\n",
            "  k=18: AUC=0.7428\n",
            "  k=19: AUC=0.7467\n",
            "  k=20: AUC=0.7443\n",
            "\n",
            "Mejor valor de k: 19 con AUC=0.7467\n"
          ]
        }
      ]
    },
    {
      "cell_type": "markdown",
      "source": [
        "La validación cruzada muestra que el mejor valor de k es 19 temas con un AUC=0.7467\n",
        "\n"
      ],
      "metadata": {
        "id": "Zsnd0b3gAY8Y"
      }
    },
    {
      "cell_type": "markdown",
      "source": [
        "## K-folds\n",
        "\n",
        "Repetimos el proceso ahora con k=10 folds\n",
        "\n",
        "\n"
      ],
      "metadata": {
        "id": "NWJD5sESAykT"
      }
    },
    {
      "cell_type": "code",
      "source": [
        "# Parámetros\n",
        "k_values = range(10, 21)  # Valores de k a evaluar\n",
        "n_folds = 10               # Número de folds\n",
        "n_iters = 50              # Número de iteraciones de entrenamiento\n",
        "\n",
        "# Guardar resultados de AUC para cada k\n",
        "auc_resultados = {}\n",
        "\n",
        "# Validación cruzada\n",
        "skf = StratifiedKFold(n_splits=n_folds, shuffle=True, random_state=42)\n",
        "\n",
        "for k in k_values:\n",
        "    print(f\"\\nEvaluando k = {k}\")\n",
        "    auc_folds = []\n",
        "\n",
        "    for fold_idx, (train_idx, test_idx) in enumerate(skf.split(docs, labels)):\n",
        "        # Crear modelo SLDA\n",
        "        model = tp.SLDAModel(k=k, seed=123, vars='b')\n",
        "\n",
        "        # Añadir documentos de entrenamiento\n",
        "        for idx in train_idx:\n",
        "            model.add_doc(words=docs[idx], y=[labels[idx]])\n",
        "\n",
        "        # Entrenar el modelo\n",
        "        model.train(n_iters)\n",
        "\n",
        "        # Predecir en los documentos de validación\n",
        "        y_true = []\n",
        "        y_scores = []\n",
        "\n",
        "        for idx in test_idx:\n",
        "            if docs[idx] != []:\n",
        "              doc_words = docs[idx]\n",
        "              label = labels[idx]\n",
        "              y_true.append(label)\n",
        "\n",
        "              #print(doc_words)\n",
        "\n",
        "              # Inferir el documento en el modelo entrenado\n",
        "              test_doc = model.make_doc(doc_words)\n",
        "              model.infer(test_doc)\n",
        "\n",
        "              # Obtener la probabilidad estimada de y=1\n",
        "              prob = model.estimate(test_doc)\n",
        "              y_scores.append(prob)\n",
        "\n",
        "        # Calcular AUC para este fold\n",
        "        auc = roc_auc_score(y_true, y_scores)\n",
        "        auc_folds.append(auc)\n",
        "        print(f\"  Fold {fold_idx+1} - AUC: {auc:.4f}\")\n",
        "\n",
        "    # Promediar AUC en los 5 folds\n",
        "    auc_medio = np.mean(auc_folds)\n",
        "    auc_resultados[k] = auc_medio\n",
        "    print(f\"Promedio AUC para k={k}: {auc_medio:.4f}\")\n",
        "\n",
        "# Mostrar los resultados y el mejor k\n",
        "mejor_k = max(auc_resultados, key=auc_resultados.get)\n",
        "print(\"\\nResultados de AUC por k:\")\n",
        "for k in sorted(auc_resultados):\n",
        "    print(f\"  k={k}: AUC={auc_resultados[k]:.4f}\")\n",
        "print(f\"\\nMejor valor de k: {mejor_k} con AUC={auc_resultados[mejor_k]:.4f}\")"
      ],
      "metadata": {
        "colab": {
          "base_uri": "https://localhost:8080/"
        },
        "id": "9lkAyK0ewVOS",
        "outputId": "478d3914-2f33-4d78-f0eb-cae9724b8edd"
      },
      "execution_count": 46,
      "outputs": [
        {
          "output_type": "stream",
          "name": "stdout",
          "text": [
            "\n",
            "Evaluando k = 10\n"
          ]
        },
        {
          "output_type": "stream",
          "name": "stderr",
          "text": [
            "<ipython-input-46-44676af2443f>:25: RuntimeWarning: The training result may differ even with fixed seed if `workers` != 1.\n",
            "  model.train(n_iters)\n"
          ]
        },
        {
          "output_type": "stream",
          "name": "stdout",
          "text": [
            "  Fold 1 - AUC: 0.7194\n"
          ]
        },
        {
          "output_type": "stream",
          "name": "stderr",
          "text": [
            "<ipython-input-46-44676af2443f>:25: RuntimeWarning: The training result may differ even with fixed seed if `workers` != 1.\n",
            "  model.train(n_iters)\n"
          ]
        },
        {
          "output_type": "stream",
          "name": "stdout",
          "text": [
            "  Fold 2 - AUC: 0.7123\n"
          ]
        },
        {
          "output_type": "stream",
          "name": "stderr",
          "text": [
            "<ipython-input-46-44676af2443f>:25: RuntimeWarning: The training result may differ even with fixed seed if `workers` != 1.\n",
            "  model.train(n_iters)\n"
          ]
        },
        {
          "output_type": "stream",
          "name": "stdout",
          "text": [
            "  Fold 3 - AUC: 0.7426\n"
          ]
        },
        {
          "output_type": "stream",
          "name": "stderr",
          "text": [
            "<ipython-input-46-44676af2443f>:25: RuntimeWarning: The training result may differ even with fixed seed if `workers` != 1.\n",
            "  model.train(n_iters)\n"
          ]
        },
        {
          "output_type": "stream",
          "name": "stdout",
          "text": [
            "  Fold 4 - AUC: 0.7246\n"
          ]
        },
        {
          "output_type": "stream",
          "name": "stderr",
          "text": [
            "<ipython-input-46-44676af2443f>:25: RuntimeWarning: The training result may differ even with fixed seed if `workers` != 1.\n",
            "  model.train(n_iters)\n"
          ]
        },
        {
          "output_type": "stream",
          "name": "stdout",
          "text": [
            "  Fold 5 - AUC: 0.7166\n"
          ]
        },
        {
          "output_type": "stream",
          "name": "stderr",
          "text": [
            "<ipython-input-46-44676af2443f>:25: RuntimeWarning: The training result may differ even with fixed seed if `workers` != 1.\n",
            "  model.train(n_iters)\n"
          ]
        },
        {
          "output_type": "stream",
          "name": "stdout",
          "text": [
            "  Fold 6 - AUC: 0.7610\n"
          ]
        },
        {
          "output_type": "stream",
          "name": "stderr",
          "text": [
            "<ipython-input-46-44676af2443f>:25: RuntimeWarning: The training result may differ even with fixed seed if `workers` != 1.\n",
            "  model.train(n_iters)\n"
          ]
        },
        {
          "output_type": "stream",
          "name": "stdout",
          "text": [
            "  Fold 7 - AUC: 0.7300\n"
          ]
        },
        {
          "output_type": "stream",
          "name": "stderr",
          "text": [
            "<ipython-input-46-44676af2443f>:25: RuntimeWarning: The training result may differ even with fixed seed if `workers` != 1.\n",
            "  model.train(n_iters)\n"
          ]
        },
        {
          "output_type": "stream",
          "name": "stdout",
          "text": [
            "  Fold 8 - AUC: 0.7396\n"
          ]
        },
        {
          "output_type": "stream",
          "name": "stderr",
          "text": [
            "<ipython-input-46-44676af2443f>:25: RuntimeWarning: The training result may differ even with fixed seed if `workers` != 1.\n",
            "  model.train(n_iters)\n"
          ]
        },
        {
          "output_type": "stream",
          "name": "stdout",
          "text": [
            "  Fold 9 - AUC: 0.7624\n"
          ]
        },
        {
          "output_type": "stream",
          "name": "stderr",
          "text": [
            "<ipython-input-46-44676af2443f>:25: RuntimeWarning: The training result may differ even with fixed seed if `workers` != 1.\n",
            "  model.train(n_iters)\n"
          ]
        },
        {
          "output_type": "stream",
          "name": "stdout",
          "text": [
            "  Fold 10 - AUC: 0.7211\n",
            "Promedio AUC para k=10: 0.7330\n",
            "\n",
            "Evaluando k = 11\n"
          ]
        },
        {
          "output_type": "stream",
          "name": "stderr",
          "text": [
            "<ipython-input-46-44676af2443f>:25: RuntimeWarning: The training result may differ even with fixed seed if `workers` != 1.\n",
            "  model.train(n_iters)\n"
          ]
        },
        {
          "output_type": "stream",
          "name": "stdout",
          "text": [
            "  Fold 1 - AUC: 0.7678\n"
          ]
        },
        {
          "output_type": "stream",
          "name": "stderr",
          "text": [
            "<ipython-input-46-44676af2443f>:25: RuntimeWarning: The training result may differ even with fixed seed if `workers` != 1.\n",
            "  model.train(n_iters)\n"
          ]
        },
        {
          "output_type": "stream",
          "name": "stdout",
          "text": [
            "  Fold 2 - AUC: 0.7398\n"
          ]
        },
        {
          "output_type": "stream",
          "name": "stderr",
          "text": [
            "<ipython-input-46-44676af2443f>:25: RuntimeWarning: The training result may differ even with fixed seed if `workers` != 1.\n",
            "  model.train(n_iters)\n"
          ]
        },
        {
          "output_type": "stream",
          "name": "stdout",
          "text": [
            "  Fold 3 - AUC: 0.7245\n"
          ]
        },
        {
          "output_type": "stream",
          "name": "stderr",
          "text": [
            "<ipython-input-46-44676af2443f>:25: RuntimeWarning: The training result may differ even with fixed seed if `workers` != 1.\n",
            "  model.train(n_iters)\n"
          ]
        },
        {
          "output_type": "stream",
          "name": "stdout",
          "text": [
            "  Fold 4 - AUC: 0.7533\n"
          ]
        },
        {
          "output_type": "stream",
          "name": "stderr",
          "text": [
            "<ipython-input-46-44676af2443f>:25: RuntimeWarning: The training result may differ even with fixed seed if `workers` != 1.\n",
            "  model.train(n_iters)\n"
          ]
        },
        {
          "output_type": "stream",
          "name": "stdout",
          "text": [
            "  Fold 5 - AUC: 0.7425\n"
          ]
        },
        {
          "output_type": "stream",
          "name": "stderr",
          "text": [
            "<ipython-input-46-44676af2443f>:25: RuntimeWarning: The training result may differ even with fixed seed if `workers` != 1.\n",
            "  model.train(n_iters)\n"
          ]
        },
        {
          "output_type": "stream",
          "name": "stdout",
          "text": [
            "  Fold 6 - AUC: 0.7445\n"
          ]
        },
        {
          "output_type": "stream",
          "name": "stderr",
          "text": [
            "<ipython-input-46-44676af2443f>:25: RuntimeWarning: The training result may differ even with fixed seed if `workers` != 1.\n",
            "  model.train(n_iters)\n"
          ]
        },
        {
          "output_type": "stream",
          "name": "stdout",
          "text": [
            "  Fold 7 - AUC: 0.7330\n"
          ]
        },
        {
          "output_type": "stream",
          "name": "stderr",
          "text": [
            "<ipython-input-46-44676af2443f>:25: RuntimeWarning: The training result may differ even with fixed seed if `workers` != 1.\n",
            "  model.train(n_iters)\n"
          ]
        },
        {
          "output_type": "stream",
          "name": "stdout",
          "text": [
            "  Fold 8 - AUC: 0.7327\n"
          ]
        },
        {
          "output_type": "stream",
          "name": "stderr",
          "text": [
            "<ipython-input-46-44676af2443f>:25: RuntimeWarning: The training result may differ even with fixed seed if `workers` != 1.\n",
            "  model.train(n_iters)\n"
          ]
        },
        {
          "output_type": "stream",
          "name": "stdout",
          "text": [
            "  Fold 9 - AUC: 0.7809\n"
          ]
        },
        {
          "output_type": "stream",
          "name": "stderr",
          "text": [
            "<ipython-input-46-44676af2443f>:25: RuntimeWarning: The training result may differ even with fixed seed if `workers` != 1.\n",
            "  model.train(n_iters)\n"
          ]
        },
        {
          "output_type": "stream",
          "name": "stdout",
          "text": [
            "  Fold 10 - AUC: 0.7276\n",
            "Promedio AUC para k=11: 0.7447\n",
            "\n",
            "Evaluando k = 12\n"
          ]
        },
        {
          "output_type": "stream",
          "name": "stderr",
          "text": [
            "<ipython-input-46-44676af2443f>:25: RuntimeWarning: The training result may differ even with fixed seed if `workers` != 1.\n",
            "  model.train(n_iters)\n"
          ]
        },
        {
          "output_type": "stream",
          "name": "stdout",
          "text": [
            "  Fold 1 - AUC: 0.7427\n"
          ]
        },
        {
          "output_type": "stream",
          "name": "stderr",
          "text": [
            "<ipython-input-46-44676af2443f>:25: RuntimeWarning: The training result may differ even with fixed seed if `workers` != 1.\n",
            "  model.train(n_iters)\n"
          ]
        },
        {
          "output_type": "stream",
          "name": "stdout",
          "text": [
            "  Fold 2 - AUC: 0.7251\n"
          ]
        },
        {
          "output_type": "stream",
          "name": "stderr",
          "text": [
            "<ipython-input-46-44676af2443f>:25: RuntimeWarning: The training result may differ even with fixed seed if `workers` != 1.\n",
            "  model.train(n_iters)\n"
          ]
        },
        {
          "output_type": "stream",
          "name": "stdout",
          "text": [
            "  Fold 3 - AUC: 0.7556\n"
          ]
        },
        {
          "output_type": "stream",
          "name": "stderr",
          "text": [
            "<ipython-input-46-44676af2443f>:25: RuntimeWarning: The training result may differ even with fixed seed if `workers` != 1.\n",
            "  model.train(n_iters)\n"
          ]
        },
        {
          "output_type": "stream",
          "name": "stdout",
          "text": [
            "  Fold 4 - AUC: 0.7488\n"
          ]
        },
        {
          "output_type": "stream",
          "name": "stderr",
          "text": [
            "<ipython-input-46-44676af2443f>:25: RuntimeWarning: The training result may differ even with fixed seed if `workers` != 1.\n",
            "  model.train(n_iters)\n"
          ]
        },
        {
          "output_type": "stream",
          "name": "stdout",
          "text": [
            "  Fold 5 - AUC: 0.7368\n"
          ]
        },
        {
          "output_type": "stream",
          "name": "stderr",
          "text": [
            "<ipython-input-46-44676af2443f>:25: RuntimeWarning: The training result may differ even with fixed seed if `workers` != 1.\n",
            "  model.train(n_iters)\n"
          ]
        },
        {
          "output_type": "stream",
          "name": "stdout",
          "text": [
            "  Fold 6 - AUC: 0.7331\n"
          ]
        },
        {
          "output_type": "stream",
          "name": "stderr",
          "text": [
            "<ipython-input-46-44676af2443f>:25: RuntimeWarning: The training result may differ even with fixed seed if `workers` != 1.\n",
            "  model.train(n_iters)\n"
          ]
        },
        {
          "output_type": "stream",
          "name": "stdout",
          "text": [
            "  Fold 7 - AUC: 0.7364\n"
          ]
        },
        {
          "output_type": "stream",
          "name": "stderr",
          "text": [
            "<ipython-input-46-44676af2443f>:25: RuntimeWarning: The training result may differ even with fixed seed if `workers` != 1.\n",
            "  model.train(n_iters)\n"
          ]
        },
        {
          "output_type": "stream",
          "name": "stdout",
          "text": [
            "  Fold 8 - AUC: 0.7504\n"
          ]
        },
        {
          "output_type": "stream",
          "name": "stderr",
          "text": [
            "<ipython-input-46-44676af2443f>:25: RuntimeWarning: The training result may differ even with fixed seed if `workers` != 1.\n",
            "  model.train(n_iters)\n"
          ]
        },
        {
          "output_type": "stream",
          "name": "stdout",
          "text": [
            "  Fold 9 - AUC: 0.7664\n"
          ]
        },
        {
          "output_type": "stream",
          "name": "stderr",
          "text": [
            "<ipython-input-46-44676af2443f>:25: RuntimeWarning: The training result may differ even with fixed seed if `workers` != 1.\n",
            "  model.train(n_iters)\n"
          ]
        },
        {
          "output_type": "stream",
          "name": "stdout",
          "text": [
            "  Fold 10 - AUC: 0.7272\n",
            "Promedio AUC para k=12: 0.7423\n",
            "\n",
            "Evaluando k = 13\n"
          ]
        },
        {
          "output_type": "stream",
          "name": "stderr",
          "text": [
            "<ipython-input-46-44676af2443f>:25: RuntimeWarning: The training result may differ even with fixed seed if `workers` != 1.\n",
            "  model.train(n_iters)\n"
          ]
        },
        {
          "output_type": "stream",
          "name": "stdout",
          "text": [
            "  Fold 1 - AUC: 0.7566\n"
          ]
        },
        {
          "output_type": "stream",
          "name": "stderr",
          "text": [
            "<ipython-input-46-44676af2443f>:25: RuntimeWarning: The training result may differ even with fixed seed if `workers` != 1.\n",
            "  model.train(n_iters)\n"
          ]
        },
        {
          "output_type": "stream",
          "name": "stdout",
          "text": [
            "  Fold 2 - AUC: 0.7213\n"
          ]
        },
        {
          "output_type": "stream",
          "name": "stderr",
          "text": [
            "<ipython-input-46-44676af2443f>:25: RuntimeWarning: The training result may differ even with fixed seed if `workers` != 1.\n",
            "  model.train(n_iters)\n"
          ]
        },
        {
          "output_type": "stream",
          "name": "stdout",
          "text": [
            "  Fold 3 - AUC: 0.7572\n"
          ]
        },
        {
          "output_type": "stream",
          "name": "stderr",
          "text": [
            "<ipython-input-46-44676af2443f>:25: RuntimeWarning: The training result may differ even with fixed seed if `workers` != 1.\n",
            "  model.train(n_iters)\n"
          ]
        },
        {
          "output_type": "stream",
          "name": "stdout",
          "text": [
            "  Fold 4 - AUC: 0.7391\n"
          ]
        },
        {
          "output_type": "stream",
          "name": "stderr",
          "text": [
            "<ipython-input-46-44676af2443f>:25: RuntimeWarning: The training result may differ even with fixed seed if `workers` != 1.\n",
            "  model.train(n_iters)\n"
          ]
        },
        {
          "output_type": "stream",
          "name": "stdout",
          "text": [
            "  Fold 5 - AUC: 0.7063\n"
          ]
        },
        {
          "output_type": "stream",
          "name": "stderr",
          "text": [
            "<ipython-input-46-44676af2443f>:25: RuntimeWarning: The training result may differ even with fixed seed if `workers` != 1.\n",
            "  model.train(n_iters)\n"
          ]
        },
        {
          "output_type": "stream",
          "name": "stdout",
          "text": [
            "  Fold 6 - AUC: 0.7502\n"
          ]
        },
        {
          "output_type": "stream",
          "name": "stderr",
          "text": [
            "<ipython-input-46-44676af2443f>:25: RuntimeWarning: The training result may differ even with fixed seed if `workers` != 1.\n",
            "  model.train(n_iters)\n"
          ]
        },
        {
          "output_type": "stream",
          "name": "stdout",
          "text": [
            "  Fold 7 - AUC: 0.7416\n"
          ]
        },
        {
          "output_type": "stream",
          "name": "stderr",
          "text": [
            "<ipython-input-46-44676af2443f>:25: RuntimeWarning: The training result may differ even with fixed seed if `workers` != 1.\n",
            "  model.train(n_iters)\n"
          ]
        },
        {
          "output_type": "stream",
          "name": "stdout",
          "text": [
            "  Fold 8 - AUC: 0.7357\n"
          ]
        },
        {
          "output_type": "stream",
          "name": "stderr",
          "text": [
            "<ipython-input-46-44676af2443f>:25: RuntimeWarning: The training result may differ even with fixed seed if `workers` != 1.\n",
            "  model.train(n_iters)\n"
          ]
        },
        {
          "output_type": "stream",
          "name": "stdout",
          "text": [
            "  Fold 9 - AUC: 0.7675\n"
          ]
        },
        {
          "output_type": "stream",
          "name": "stderr",
          "text": [
            "<ipython-input-46-44676af2443f>:25: RuntimeWarning: The training result may differ even with fixed seed if `workers` != 1.\n",
            "  model.train(n_iters)\n"
          ]
        },
        {
          "output_type": "stream",
          "name": "stdout",
          "text": [
            "  Fold 10 - AUC: 0.7062\n",
            "Promedio AUC para k=13: 0.7382\n",
            "\n",
            "Evaluando k = 14\n"
          ]
        },
        {
          "output_type": "stream",
          "name": "stderr",
          "text": [
            "<ipython-input-46-44676af2443f>:25: RuntimeWarning: The training result may differ even with fixed seed if `workers` != 1.\n",
            "  model.train(n_iters)\n"
          ]
        },
        {
          "output_type": "stream",
          "name": "stdout",
          "text": [
            "  Fold 1 - AUC: 0.7460\n"
          ]
        },
        {
          "output_type": "stream",
          "name": "stderr",
          "text": [
            "<ipython-input-46-44676af2443f>:25: RuntimeWarning: The training result may differ even with fixed seed if `workers` != 1.\n",
            "  model.train(n_iters)\n"
          ]
        },
        {
          "output_type": "stream",
          "name": "stdout",
          "text": [
            "  Fold 2 - AUC: 0.7433\n"
          ]
        },
        {
          "output_type": "stream",
          "name": "stderr",
          "text": [
            "<ipython-input-46-44676af2443f>:25: RuntimeWarning: The training result may differ even with fixed seed if `workers` != 1.\n",
            "  model.train(n_iters)\n"
          ]
        },
        {
          "output_type": "stream",
          "name": "stdout",
          "text": [
            "  Fold 3 - AUC: 0.7583\n"
          ]
        },
        {
          "output_type": "stream",
          "name": "stderr",
          "text": [
            "<ipython-input-46-44676af2443f>:25: RuntimeWarning: The training result may differ even with fixed seed if `workers` != 1.\n",
            "  model.train(n_iters)\n"
          ]
        },
        {
          "output_type": "stream",
          "name": "stdout",
          "text": [
            "  Fold 4 - AUC: 0.7250\n"
          ]
        },
        {
          "output_type": "stream",
          "name": "stderr",
          "text": [
            "<ipython-input-46-44676af2443f>:25: RuntimeWarning: The training result may differ even with fixed seed if `workers` != 1.\n",
            "  model.train(n_iters)\n"
          ]
        },
        {
          "output_type": "stream",
          "name": "stdout",
          "text": [
            "  Fold 5 - AUC: 0.7164\n"
          ]
        },
        {
          "output_type": "stream",
          "name": "stderr",
          "text": [
            "<ipython-input-46-44676af2443f>:25: RuntimeWarning: The training result may differ even with fixed seed if `workers` != 1.\n",
            "  model.train(n_iters)\n"
          ]
        },
        {
          "output_type": "stream",
          "name": "stdout",
          "text": [
            "  Fold 6 - AUC: 0.7424\n"
          ]
        },
        {
          "output_type": "stream",
          "name": "stderr",
          "text": [
            "<ipython-input-46-44676af2443f>:25: RuntimeWarning: The training result may differ even with fixed seed if `workers` != 1.\n",
            "  model.train(n_iters)\n"
          ]
        },
        {
          "output_type": "stream",
          "name": "stdout",
          "text": [
            "  Fold 7 - AUC: 0.7433\n"
          ]
        },
        {
          "output_type": "stream",
          "name": "stderr",
          "text": [
            "<ipython-input-46-44676af2443f>:25: RuntimeWarning: The training result may differ even with fixed seed if `workers` != 1.\n",
            "  model.train(n_iters)\n"
          ]
        },
        {
          "output_type": "stream",
          "name": "stdout",
          "text": [
            "  Fold 8 - AUC: 0.7406\n"
          ]
        },
        {
          "output_type": "stream",
          "name": "stderr",
          "text": [
            "<ipython-input-46-44676af2443f>:25: RuntimeWarning: The training result may differ even with fixed seed if `workers` != 1.\n",
            "  model.train(n_iters)\n"
          ]
        },
        {
          "output_type": "stream",
          "name": "stdout",
          "text": [
            "  Fold 9 - AUC: 0.7774\n"
          ]
        },
        {
          "output_type": "stream",
          "name": "stderr",
          "text": [
            "<ipython-input-46-44676af2443f>:25: RuntimeWarning: The training result may differ even with fixed seed if `workers` != 1.\n",
            "  model.train(n_iters)\n"
          ]
        },
        {
          "output_type": "stream",
          "name": "stdout",
          "text": [
            "  Fold 10 - AUC: 0.7356\n",
            "Promedio AUC para k=14: 0.7428\n",
            "\n",
            "Evaluando k = 15\n"
          ]
        },
        {
          "output_type": "stream",
          "name": "stderr",
          "text": [
            "<ipython-input-46-44676af2443f>:25: RuntimeWarning: The training result may differ even with fixed seed if `workers` != 1.\n",
            "  model.train(n_iters)\n"
          ]
        },
        {
          "output_type": "stream",
          "name": "stdout",
          "text": [
            "  Fold 1 - AUC: 0.7687\n"
          ]
        },
        {
          "output_type": "stream",
          "name": "stderr",
          "text": [
            "<ipython-input-46-44676af2443f>:25: RuntimeWarning: The training result may differ even with fixed seed if `workers` != 1.\n",
            "  model.train(n_iters)\n"
          ]
        },
        {
          "output_type": "stream",
          "name": "stdout",
          "text": [
            "  Fold 2 - AUC: 0.7369\n"
          ]
        },
        {
          "output_type": "stream",
          "name": "stderr",
          "text": [
            "<ipython-input-46-44676af2443f>:25: RuntimeWarning: The training result may differ even with fixed seed if `workers` != 1.\n",
            "  model.train(n_iters)\n"
          ]
        },
        {
          "output_type": "stream",
          "name": "stdout",
          "text": [
            "  Fold 3 - AUC: 0.7419\n"
          ]
        },
        {
          "output_type": "stream",
          "name": "stderr",
          "text": [
            "<ipython-input-46-44676af2443f>:25: RuntimeWarning: The training result may differ even with fixed seed if `workers` != 1.\n",
            "  model.train(n_iters)\n"
          ]
        },
        {
          "output_type": "stream",
          "name": "stdout",
          "text": [
            "  Fold 4 - AUC: 0.7572\n"
          ]
        },
        {
          "output_type": "stream",
          "name": "stderr",
          "text": [
            "<ipython-input-46-44676af2443f>:25: RuntimeWarning: The training result may differ even with fixed seed if `workers` != 1.\n",
            "  model.train(n_iters)\n"
          ]
        },
        {
          "output_type": "stream",
          "name": "stdout",
          "text": [
            "  Fold 5 - AUC: 0.7166\n"
          ]
        },
        {
          "output_type": "stream",
          "name": "stderr",
          "text": [
            "<ipython-input-46-44676af2443f>:25: RuntimeWarning: The training result may differ even with fixed seed if `workers` != 1.\n",
            "  model.train(n_iters)\n"
          ]
        },
        {
          "output_type": "stream",
          "name": "stdout",
          "text": [
            "  Fold 6 - AUC: 0.7400\n"
          ]
        },
        {
          "output_type": "stream",
          "name": "stderr",
          "text": [
            "<ipython-input-46-44676af2443f>:25: RuntimeWarning: The training result may differ even with fixed seed if `workers` != 1.\n",
            "  model.train(n_iters)\n"
          ]
        },
        {
          "output_type": "stream",
          "name": "stdout",
          "text": [
            "  Fold 7 - AUC: 0.7457\n"
          ]
        },
        {
          "output_type": "stream",
          "name": "stderr",
          "text": [
            "<ipython-input-46-44676af2443f>:25: RuntimeWarning: The training result may differ even with fixed seed if `workers` != 1.\n",
            "  model.train(n_iters)\n"
          ]
        },
        {
          "output_type": "stream",
          "name": "stdout",
          "text": [
            "  Fold 8 - AUC: 0.7278\n"
          ]
        },
        {
          "output_type": "stream",
          "name": "stderr",
          "text": [
            "<ipython-input-46-44676af2443f>:25: RuntimeWarning: The training result may differ even with fixed seed if `workers` != 1.\n",
            "  model.train(n_iters)\n"
          ]
        },
        {
          "output_type": "stream",
          "name": "stdout",
          "text": [
            "  Fold 9 - AUC: 0.7802\n"
          ]
        },
        {
          "output_type": "stream",
          "name": "stderr",
          "text": [
            "<ipython-input-46-44676af2443f>:25: RuntimeWarning: The training result may differ even with fixed seed if `workers` != 1.\n",
            "  model.train(n_iters)\n"
          ]
        },
        {
          "output_type": "stream",
          "name": "stdout",
          "text": [
            "  Fold 10 - AUC: 0.7313\n",
            "Promedio AUC para k=15: 0.7446\n",
            "\n",
            "Evaluando k = 16\n"
          ]
        },
        {
          "output_type": "stream",
          "name": "stderr",
          "text": [
            "<ipython-input-46-44676af2443f>:25: RuntimeWarning: The training result may differ even with fixed seed if `workers` != 1.\n",
            "  model.train(n_iters)\n"
          ]
        },
        {
          "output_type": "stream",
          "name": "stdout",
          "text": [
            "  Fold 1 - AUC: 0.7728\n"
          ]
        },
        {
          "output_type": "stream",
          "name": "stderr",
          "text": [
            "<ipython-input-46-44676af2443f>:25: RuntimeWarning: The training result may differ even with fixed seed if `workers` != 1.\n",
            "  model.train(n_iters)\n"
          ]
        },
        {
          "output_type": "stream",
          "name": "stdout",
          "text": [
            "  Fold 2 - AUC: 0.7329\n"
          ]
        },
        {
          "output_type": "stream",
          "name": "stderr",
          "text": [
            "<ipython-input-46-44676af2443f>:25: RuntimeWarning: The training result may differ even with fixed seed if `workers` != 1.\n",
            "  model.train(n_iters)\n"
          ]
        },
        {
          "output_type": "stream",
          "name": "stdout",
          "text": [
            "  Fold 3 - AUC: 0.7385\n"
          ]
        },
        {
          "output_type": "stream",
          "name": "stderr",
          "text": [
            "<ipython-input-46-44676af2443f>:25: RuntimeWarning: The training result may differ even with fixed seed if `workers` != 1.\n",
            "  model.train(n_iters)\n"
          ]
        },
        {
          "output_type": "stream",
          "name": "stdout",
          "text": [
            "  Fold 4 - AUC: 0.7379\n"
          ]
        },
        {
          "output_type": "stream",
          "name": "stderr",
          "text": [
            "<ipython-input-46-44676af2443f>:25: RuntimeWarning: The training result may differ even with fixed seed if `workers` != 1.\n",
            "  model.train(n_iters)\n"
          ]
        },
        {
          "output_type": "stream",
          "name": "stdout",
          "text": [
            "  Fold 5 - AUC: 0.7339\n"
          ]
        },
        {
          "output_type": "stream",
          "name": "stderr",
          "text": [
            "<ipython-input-46-44676af2443f>:25: RuntimeWarning: The training result may differ even with fixed seed if `workers` != 1.\n",
            "  model.train(n_iters)\n"
          ]
        },
        {
          "output_type": "stream",
          "name": "stdout",
          "text": [
            "  Fold 6 - AUC: 0.7467\n"
          ]
        },
        {
          "output_type": "stream",
          "name": "stderr",
          "text": [
            "<ipython-input-46-44676af2443f>:25: RuntimeWarning: The training result may differ even with fixed seed if `workers` != 1.\n",
            "  model.train(n_iters)\n"
          ]
        },
        {
          "output_type": "stream",
          "name": "stdout",
          "text": [
            "  Fold 7 - AUC: 0.7251\n"
          ]
        },
        {
          "output_type": "stream",
          "name": "stderr",
          "text": [
            "<ipython-input-46-44676af2443f>:25: RuntimeWarning: The training result may differ even with fixed seed if `workers` != 1.\n",
            "  model.train(n_iters)\n"
          ]
        },
        {
          "output_type": "stream",
          "name": "stdout",
          "text": [
            "  Fold 8 - AUC: 0.7400\n"
          ]
        },
        {
          "output_type": "stream",
          "name": "stderr",
          "text": [
            "<ipython-input-46-44676af2443f>:25: RuntimeWarning: The training result may differ even with fixed seed if `workers` != 1.\n",
            "  model.train(n_iters)\n"
          ]
        },
        {
          "output_type": "stream",
          "name": "stdout",
          "text": [
            "  Fold 9 - AUC: 0.7545\n"
          ]
        },
        {
          "output_type": "stream",
          "name": "stderr",
          "text": [
            "<ipython-input-46-44676af2443f>:25: RuntimeWarning: The training result may differ even with fixed seed if `workers` != 1.\n",
            "  model.train(n_iters)\n"
          ]
        },
        {
          "output_type": "stream",
          "name": "stdout",
          "text": [
            "  Fold 10 - AUC: 0.7249\n",
            "Promedio AUC para k=16: 0.7407\n",
            "\n",
            "Evaluando k = 17\n"
          ]
        },
        {
          "output_type": "stream",
          "name": "stderr",
          "text": [
            "<ipython-input-46-44676af2443f>:25: RuntimeWarning: The training result may differ even with fixed seed if `workers` != 1.\n",
            "  model.train(n_iters)\n"
          ]
        },
        {
          "output_type": "stream",
          "name": "stdout",
          "text": [
            "  Fold 1 - AUC: 0.7649\n"
          ]
        },
        {
          "output_type": "stream",
          "name": "stderr",
          "text": [
            "<ipython-input-46-44676af2443f>:25: RuntimeWarning: The training result may differ even with fixed seed if `workers` != 1.\n",
            "  model.train(n_iters)\n"
          ]
        },
        {
          "output_type": "stream",
          "name": "stdout",
          "text": [
            "  Fold 2 - AUC: 0.7485\n"
          ]
        },
        {
          "output_type": "stream",
          "name": "stderr",
          "text": [
            "<ipython-input-46-44676af2443f>:25: RuntimeWarning: The training result may differ even with fixed seed if `workers` != 1.\n",
            "  model.train(n_iters)\n"
          ]
        },
        {
          "output_type": "stream",
          "name": "stdout",
          "text": [
            "  Fold 3 - AUC: 0.7435\n"
          ]
        },
        {
          "output_type": "stream",
          "name": "stderr",
          "text": [
            "<ipython-input-46-44676af2443f>:25: RuntimeWarning: The training result may differ even with fixed seed if `workers` != 1.\n",
            "  model.train(n_iters)\n"
          ]
        },
        {
          "output_type": "stream",
          "name": "stdout",
          "text": [
            "  Fold 4 - AUC: 0.7245\n"
          ]
        },
        {
          "output_type": "stream",
          "name": "stderr",
          "text": [
            "<ipython-input-46-44676af2443f>:25: RuntimeWarning: The training result may differ even with fixed seed if `workers` != 1.\n",
            "  model.train(n_iters)\n"
          ]
        },
        {
          "output_type": "stream",
          "name": "stdout",
          "text": [
            "  Fold 5 - AUC: 0.7256\n"
          ]
        },
        {
          "output_type": "stream",
          "name": "stderr",
          "text": [
            "<ipython-input-46-44676af2443f>:25: RuntimeWarning: The training result may differ even with fixed seed if `workers` != 1.\n",
            "  model.train(n_iters)\n"
          ]
        },
        {
          "output_type": "stream",
          "name": "stdout",
          "text": [
            "  Fold 6 - AUC: 0.7326\n"
          ]
        },
        {
          "output_type": "stream",
          "name": "stderr",
          "text": [
            "<ipython-input-46-44676af2443f>:25: RuntimeWarning: The training result may differ even with fixed seed if `workers` != 1.\n",
            "  model.train(n_iters)\n"
          ]
        },
        {
          "output_type": "stream",
          "name": "stdout",
          "text": [
            "  Fold 7 - AUC: 0.7486\n"
          ]
        },
        {
          "output_type": "stream",
          "name": "stderr",
          "text": [
            "<ipython-input-46-44676af2443f>:25: RuntimeWarning: The training result may differ even with fixed seed if `workers` != 1.\n",
            "  model.train(n_iters)\n"
          ]
        },
        {
          "output_type": "stream",
          "name": "stdout",
          "text": [
            "  Fold 8 - AUC: 0.7356\n"
          ]
        },
        {
          "output_type": "stream",
          "name": "stderr",
          "text": [
            "<ipython-input-46-44676af2443f>:25: RuntimeWarning: The training result may differ even with fixed seed if `workers` != 1.\n",
            "  model.train(n_iters)\n"
          ]
        },
        {
          "output_type": "stream",
          "name": "stdout",
          "text": [
            "  Fold 9 - AUC: 0.7478\n"
          ]
        },
        {
          "output_type": "stream",
          "name": "stderr",
          "text": [
            "<ipython-input-46-44676af2443f>:25: RuntimeWarning: The training result may differ even with fixed seed if `workers` != 1.\n",
            "  model.train(n_iters)\n"
          ]
        },
        {
          "output_type": "stream",
          "name": "stdout",
          "text": [
            "  Fold 10 - AUC: 0.7321\n",
            "Promedio AUC para k=17: 0.7404\n",
            "\n",
            "Evaluando k = 18\n"
          ]
        },
        {
          "output_type": "stream",
          "name": "stderr",
          "text": [
            "<ipython-input-46-44676af2443f>:25: RuntimeWarning: The training result may differ even with fixed seed if `workers` != 1.\n",
            "  model.train(n_iters)\n"
          ]
        },
        {
          "output_type": "stream",
          "name": "stdout",
          "text": [
            "  Fold 1 - AUC: 0.7576\n"
          ]
        },
        {
          "output_type": "stream",
          "name": "stderr",
          "text": [
            "<ipython-input-46-44676af2443f>:25: RuntimeWarning: The training result may differ even with fixed seed if `workers` != 1.\n",
            "  model.train(n_iters)\n"
          ]
        },
        {
          "output_type": "stream",
          "name": "stdout",
          "text": [
            "  Fold 2 - AUC: 0.7271\n"
          ]
        },
        {
          "output_type": "stream",
          "name": "stderr",
          "text": [
            "<ipython-input-46-44676af2443f>:25: RuntimeWarning: The training result may differ even with fixed seed if `workers` != 1.\n",
            "  model.train(n_iters)\n"
          ]
        },
        {
          "output_type": "stream",
          "name": "stdout",
          "text": [
            "  Fold 3 - AUC: 0.7517\n"
          ]
        },
        {
          "output_type": "stream",
          "name": "stderr",
          "text": [
            "<ipython-input-46-44676af2443f>:25: RuntimeWarning: The training result may differ even with fixed seed if `workers` != 1.\n",
            "  model.train(n_iters)\n"
          ]
        },
        {
          "output_type": "stream",
          "name": "stdout",
          "text": [
            "  Fold 4 - AUC: 0.7558\n"
          ]
        },
        {
          "output_type": "stream",
          "name": "stderr",
          "text": [
            "<ipython-input-46-44676af2443f>:25: RuntimeWarning: The training result may differ even with fixed seed if `workers` != 1.\n",
            "  model.train(n_iters)\n"
          ]
        },
        {
          "output_type": "stream",
          "name": "stdout",
          "text": [
            "  Fold 5 - AUC: 0.7094\n"
          ]
        },
        {
          "output_type": "stream",
          "name": "stderr",
          "text": [
            "<ipython-input-46-44676af2443f>:25: RuntimeWarning: The training result may differ even with fixed seed if `workers` != 1.\n",
            "  model.train(n_iters)\n"
          ]
        },
        {
          "output_type": "stream",
          "name": "stdout",
          "text": [
            "  Fold 6 - AUC: 0.7472\n"
          ]
        },
        {
          "output_type": "stream",
          "name": "stderr",
          "text": [
            "<ipython-input-46-44676af2443f>:25: RuntimeWarning: The training result may differ even with fixed seed if `workers` != 1.\n",
            "  model.train(n_iters)\n"
          ]
        },
        {
          "output_type": "stream",
          "name": "stdout",
          "text": [
            "  Fold 7 - AUC: 0.7443\n"
          ]
        },
        {
          "output_type": "stream",
          "name": "stderr",
          "text": [
            "<ipython-input-46-44676af2443f>:25: RuntimeWarning: The training result may differ even with fixed seed if `workers` != 1.\n",
            "  model.train(n_iters)\n"
          ]
        },
        {
          "output_type": "stream",
          "name": "stdout",
          "text": [
            "  Fold 8 - AUC: 0.7368\n"
          ]
        },
        {
          "output_type": "stream",
          "name": "stderr",
          "text": [
            "<ipython-input-46-44676af2443f>:25: RuntimeWarning: The training result may differ even with fixed seed if `workers` != 1.\n",
            "  model.train(n_iters)\n"
          ]
        },
        {
          "output_type": "stream",
          "name": "stdout",
          "text": [
            "  Fold 9 - AUC: 0.7752\n"
          ]
        },
        {
          "output_type": "stream",
          "name": "stderr",
          "text": [
            "<ipython-input-46-44676af2443f>:25: RuntimeWarning: The training result may differ even with fixed seed if `workers` != 1.\n",
            "  model.train(n_iters)\n"
          ]
        },
        {
          "output_type": "stream",
          "name": "stdout",
          "text": [
            "  Fold 10 - AUC: 0.7367\n",
            "Promedio AUC para k=18: 0.7442\n",
            "\n",
            "Evaluando k = 19\n"
          ]
        },
        {
          "output_type": "stream",
          "name": "stderr",
          "text": [
            "<ipython-input-46-44676af2443f>:25: RuntimeWarning: The training result may differ even with fixed seed if `workers` != 1.\n",
            "  model.train(n_iters)\n"
          ]
        },
        {
          "output_type": "stream",
          "name": "stdout",
          "text": [
            "  Fold 1 - AUC: 0.7578\n"
          ]
        },
        {
          "output_type": "stream",
          "name": "stderr",
          "text": [
            "<ipython-input-46-44676af2443f>:25: RuntimeWarning: The training result may differ even with fixed seed if `workers` != 1.\n",
            "  model.train(n_iters)\n"
          ]
        },
        {
          "output_type": "stream",
          "name": "stdout",
          "text": [
            "  Fold 2 - AUC: 0.7413\n"
          ]
        },
        {
          "output_type": "stream",
          "name": "stderr",
          "text": [
            "<ipython-input-46-44676af2443f>:25: RuntimeWarning: The training result may differ even with fixed seed if `workers` != 1.\n",
            "  model.train(n_iters)\n"
          ]
        },
        {
          "output_type": "stream",
          "name": "stdout",
          "text": [
            "  Fold 3 - AUC: 0.7512\n"
          ]
        },
        {
          "output_type": "stream",
          "name": "stderr",
          "text": [
            "<ipython-input-46-44676af2443f>:25: RuntimeWarning: The training result may differ even with fixed seed if `workers` != 1.\n",
            "  model.train(n_iters)\n"
          ]
        },
        {
          "output_type": "stream",
          "name": "stdout",
          "text": [
            "  Fold 4 - AUC: 0.7430\n"
          ]
        },
        {
          "output_type": "stream",
          "name": "stderr",
          "text": [
            "<ipython-input-46-44676af2443f>:25: RuntimeWarning: The training result may differ even with fixed seed if `workers` != 1.\n",
            "  model.train(n_iters)\n"
          ]
        },
        {
          "output_type": "stream",
          "name": "stdout",
          "text": [
            "  Fold 5 - AUC: 0.7275\n"
          ]
        },
        {
          "output_type": "stream",
          "name": "stderr",
          "text": [
            "<ipython-input-46-44676af2443f>:25: RuntimeWarning: The training result may differ even with fixed seed if `workers` != 1.\n",
            "  model.train(n_iters)\n"
          ]
        },
        {
          "output_type": "stream",
          "name": "stdout",
          "text": [
            "  Fold 6 - AUC: 0.7476\n"
          ]
        },
        {
          "output_type": "stream",
          "name": "stderr",
          "text": [
            "<ipython-input-46-44676af2443f>:25: RuntimeWarning: The training result may differ even with fixed seed if `workers` != 1.\n",
            "  model.train(n_iters)\n"
          ]
        },
        {
          "output_type": "stream",
          "name": "stdout",
          "text": [
            "  Fold 7 - AUC: 0.7575\n"
          ]
        },
        {
          "output_type": "stream",
          "name": "stderr",
          "text": [
            "<ipython-input-46-44676af2443f>:25: RuntimeWarning: The training result may differ even with fixed seed if `workers` != 1.\n",
            "  model.train(n_iters)\n"
          ]
        },
        {
          "output_type": "stream",
          "name": "stdout",
          "text": [
            "  Fold 8 - AUC: 0.7427\n"
          ]
        },
        {
          "output_type": "stream",
          "name": "stderr",
          "text": [
            "<ipython-input-46-44676af2443f>:25: RuntimeWarning: The training result may differ even with fixed seed if `workers` != 1.\n",
            "  model.train(n_iters)\n"
          ]
        },
        {
          "output_type": "stream",
          "name": "stdout",
          "text": [
            "  Fold 9 - AUC: 0.7376\n"
          ]
        },
        {
          "output_type": "stream",
          "name": "stderr",
          "text": [
            "<ipython-input-46-44676af2443f>:25: RuntimeWarning: The training result may differ even with fixed seed if `workers` != 1.\n",
            "  model.train(n_iters)\n"
          ]
        },
        {
          "output_type": "stream",
          "name": "stdout",
          "text": [
            "  Fold 10 - AUC: 0.7321\n",
            "Promedio AUC para k=19: 0.7438\n",
            "\n",
            "Evaluando k = 20\n"
          ]
        },
        {
          "output_type": "stream",
          "name": "stderr",
          "text": [
            "<ipython-input-46-44676af2443f>:25: RuntimeWarning: The training result may differ even with fixed seed if `workers` != 1.\n",
            "  model.train(n_iters)\n"
          ]
        },
        {
          "output_type": "stream",
          "name": "stdout",
          "text": [
            "  Fold 1 - AUC: 0.7661\n"
          ]
        },
        {
          "output_type": "stream",
          "name": "stderr",
          "text": [
            "<ipython-input-46-44676af2443f>:25: RuntimeWarning: The training result may differ even with fixed seed if `workers` != 1.\n",
            "  model.train(n_iters)\n"
          ]
        },
        {
          "output_type": "stream",
          "name": "stdout",
          "text": [
            "  Fold 2 - AUC: 0.7224\n"
          ]
        },
        {
          "output_type": "stream",
          "name": "stderr",
          "text": [
            "<ipython-input-46-44676af2443f>:25: RuntimeWarning: The training result may differ even with fixed seed if `workers` != 1.\n",
            "  model.train(n_iters)\n"
          ]
        },
        {
          "output_type": "stream",
          "name": "stdout",
          "text": [
            "  Fold 3 - AUC: 0.7348\n"
          ]
        },
        {
          "output_type": "stream",
          "name": "stderr",
          "text": [
            "<ipython-input-46-44676af2443f>:25: RuntimeWarning: The training result may differ even with fixed seed if `workers` != 1.\n",
            "  model.train(n_iters)\n"
          ]
        },
        {
          "output_type": "stream",
          "name": "stdout",
          "text": [
            "  Fold 4 - AUC: 0.7390\n"
          ]
        },
        {
          "output_type": "stream",
          "name": "stderr",
          "text": [
            "<ipython-input-46-44676af2443f>:25: RuntimeWarning: The training result may differ even with fixed seed if `workers` != 1.\n",
            "  model.train(n_iters)\n"
          ]
        },
        {
          "output_type": "stream",
          "name": "stdout",
          "text": [
            "  Fold 5 - AUC: 0.7223\n"
          ]
        },
        {
          "output_type": "stream",
          "name": "stderr",
          "text": [
            "<ipython-input-46-44676af2443f>:25: RuntimeWarning: The training result may differ even with fixed seed if `workers` != 1.\n",
            "  model.train(n_iters)\n"
          ]
        },
        {
          "output_type": "stream",
          "name": "stdout",
          "text": [
            "  Fold 6 - AUC: 0.7425\n"
          ]
        },
        {
          "output_type": "stream",
          "name": "stderr",
          "text": [
            "<ipython-input-46-44676af2443f>:25: RuntimeWarning: The training result may differ even with fixed seed if `workers` != 1.\n",
            "  model.train(n_iters)\n"
          ]
        },
        {
          "output_type": "stream",
          "name": "stdout",
          "text": [
            "  Fold 7 - AUC: 0.7627\n"
          ]
        },
        {
          "output_type": "stream",
          "name": "stderr",
          "text": [
            "<ipython-input-46-44676af2443f>:25: RuntimeWarning: The training result may differ even with fixed seed if `workers` != 1.\n",
            "  model.train(n_iters)\n"
          ]
        },
        {
          "output_type": "stream",
          "name": "stdout",
          "text": [
            "  Fold 8 - AUC: 0.7638\n"
          ]
        },
        {
          "output_type": "stream",
          "name": "stderr",
          "text": [
            "<ipython-input-46-44676af2443f>:25: RuntimeWarning: The training result may differ even with fixed seed if `workers` != 1.\n",
            "  model.train(n_iters)\n"
          ]
        },
        {
          "output_type": "stream",
          "name": "stdout",
          "text": [
            "  Fold 9 - AUC: 0.7607\n"
          ]
        },
        {
          "output_type": "stream",
          "name": "stderr",
          "text": [
            "<ipython-input-46-44676af2443f>:25: RuntimeWarning: The training result may differ even with fixed seed if `workers` != 1.\n",
            "  model.train(n_iters)\n"
          ]
        },
        {
          "output_type": "stream",
          "name": "stdout",
          "text": [
            "  Fold 10 - AUC: 0.7276\n",
            "Promedio AUC para k=20: 0.7442\n",
            "\n",
            "Resultados de AUC por k:\n",
            "  k=10: AUC=0.7330\n",
            "  k=11: AUC=0.7447\n",
            "  k=12: AUC=0.7423\n",
            "  k=13: AUC=0.7382\n",
            "  k=14: AUC=0.7428\n",
            "  k=15: AUC=0.7446\n",
            "  k=16: AUC=0.7407\n",
            "  k=17: AUC=0.7404\n",
            "  k=18: AUC=0.7442\n",
            "  k=19: AUC=0.7438\n",
            "  k=20: AUC=0.7442\n",
            "\n",
            "Mejor valor de k: 11 con AUC=0.7447\n"
          ]
        }
      ]
    },
    {
      "cell_type": "markdown",
      "source": [
        "Con k=10 folds nos recomienda usar 11 temas."
      ],
      "metadata": {
        "id": "MGl7DIVGebxS"
      }
    },
    {
      "cell_type": "markdown",
      "source": [
        "### Analisis de Resultados\n",
        "\n",
        "Por la recomendación de la validación cruzada usando k=5 y k=10 folds decidimos usar un modelo con 11 temas."
      ],
      "metadata": {
        "id": "hvcztyVzBIE2"
      }
    },
    {
      "cell_type": "code",
      "source": [
        "modelo_final = tp.SLDAModel(k=11, seed=123,vars='b')\n",
        "\n",
        "\n",
        "# Añadir documentos con sus etiquetas de sentimiento correspondientes\n",
        "for i in range(len(docs)):\n",
        "    modelo_final.add_doc(words = docs[i], y=[labels[i]])\n",
        "\n",
        "# Entrenar el modelo\n",
        "modelo_final.train(100)"
      ],
      "metadata": {
        "colab": {
          "base_uri": "https://localhost:8080/"
        },
        "id": "esT7sNO0tMLo",
        "outputId": "006ddcf5-15c8-41cf-ba35-48ed87635786"
      },
      "execution_count": 47,
      "outputs": [
        {
          "output_type": "stream",
          "name": "stderr",
          "text": [
            "<ipython-input-47-8297b657db6a>:9: RuntimeWarning: The training result may differ even with fixed seed if `workers` != 1.\n",
            "  modelo_final.train(100)\n"
          ]
        }
      ]
    },
    {
      "cell_type": "markdown",
      "source": [
        "### Interpretación del vector de regresión"
      ],
      "metadata": {
        "id": "jxN16otjHacK"
      }
    },
    {
      "cell_type": "code",
      "source": [
        "# Obtener los coeficientes de regresión para la respuesta binaria (log-odds)\n",
        "coeficientes_regresion_binario = modelo_final.get_regression_coef(0)\n",
        "print(\"\\nCoeficientes de Regresión para Sentimiento (Log-Odds):\")\n",
        "for i, coef in enumerate(coeficientes_regresion_binario):\n",
        "    print(f\"Tema #{i}: {coef:.4f}\")"
      ],
      "metadata": {
        "colab": {
          "base_uri": "https://localhost:8080/"
        },
        "id": "MZQKTHkRHZDD",
        "outputId": "f27ae1cf-fbca-45fd-a7f3-522b70e66269"
      },
      "execution_count": 51,
      "outputs": [
        {
          "output_type": "stream",
          "name": "stdout",
          "text": [
            "\n",
            "Coeficientes de Regresión para Sentimiento (Log-Odds):\n",
            "Tema #0: 4.2624\n",
            "Tema #1: -3.6531\n",
            "Tema #2: 3.8736\n",
            "Tema #3: -0.8699\n",
            "Tema #4: -1.9062\n",
            "Tema #5: -3.9992\n",
            "Tema #6: 0.0252\n",
            "Tema #7: -1.8815\n",
            "Tema #8: -2.0482\n",
            "Tema #9: -0.8353\n",
            "Tema #10: -3.4998\n"
          ]
        }
      ]
    },
    {
      "cell_type": "markdown",
      "source": [
        "### Nuevas Sinopsis"
      ],
      "metadata": {
        "id": "FMGxKQcEMiM1"
      }
    },
    {
      "cell_type": "code",
      "source": [
        "drama_movies = {\n",
        "    \"Sirât\": {\n",
        "        \"overview\": (\n",
        "            \"A father and his son arrive at a rave deep in the mountains of southern Morocco. \"\n",
        "            \"They’re searching for Mar — daughter and sister — who vanished months ago at one of these endless, sleepless parties. \"\n",
        "            \"Surrounded by electronic music and a raw, unfamiliar sense of freedom, they hand out her photo again and again. \"\n",
        "            \"Hope is fading but they push through and follow a group of ravers heading to one last party in the desert. \"\n",
        "            \"As they venture deeper into the burning wilderness, the journey forces them to confront their own limits.\"\n",
        "        ),\n",
        "        \"genre_code\": 1\n",
        "    },\n",
        "    \"The Girl with the Needle\": {\n",
        "        \"overview\": (\n",
        "            \"Copenhagen 1919: A young worker finds herself unemployed and pregnant. \"\n",
        "            \"She meets Dagmar, who runs an underground adoption agency. \"\n",
        "            \"A strong connection grows but her world shatters when she stumbles on the shocking truth behind her work.\"\n",
        "        ),\n",
        "        \"genre_code\": 1\n",
        "    },\n",
        "    \"The Drama\": {\n",
        "        \"overview\": (\n",
        "            \"A couple, in the days leading up to their wedding, faces a crisis when unexpected revelations derail what one of them thought they knew about the other.\"\n",
        "        ),\n",
        "        \"genre_code\": 1\n",
        "    }\n",
        "}\n",
        "df_new = pd.DataFrame.from_dict(drama_movies, orient='index')\n",
        "df_new\n",
        "\n",
        "\n",
        "nlp = spacy.load(\"en_core_web_sm\")\n",
        "\n",
        "df_new['texto_procesado'] = df_new['overview'].apply(preprocesar_texto)\n",
        "\n"
      ],
      "metadata": {
        "id": "5X33xcoaMf81"
      },
      "execution_count": 52,
      "outputs": []
    },
    {
      "cell_type": "code",
      "source": [
        "df_new"
      ],
      "metadata": {
        "colab": {
          "base_uri": "https://localhost:8080/",
          "height": 143
        },
        "id": "sBLY_BCRMus2",
        "outputId": "c8f13ddf-ae7f-4cdd-f3c8-628711a081f4"
      },
      "execution_count": 53,
      "outputs": [
        {
          "output_type": "execute_result",
          "data": {
            "text/plain": [
              "                                                                   overview  \\\n",
              "Sirât                     A father and his son arrive at a rave deep in ...   \n",
              "The Girl with the Needle  Copenhagen 1919: A young worker finds herself ...   \n",
              "The Drama                 A couple, in the days leading up to their wedd...   \n",
              "\n",
              "                          genre_code  \\\n",
              "Sirât                              1   \n",
              "The Girl with the Needle           1   \n",
              "The Drama                          1   \n",
              "\n",
              "                                                            texto_procesado  \n",
              "Sirât                     [father, son, arrive, rave, mountain, southern...  \n",
              "The Girl with the Needle  [young, worker, find, unemployed, pregnant, me...  \n",
              "The Drama                 [couple, day, lead, wedding, face, crisis, une...  "
            ],
            "text/html": [
              "\n",
              "  <div id=\"df-a22bc9c6-43fb-4f4c-8a99-b5431e7de985\" class=\"colab-df-container\">\n",
              "    <div>\n",
              "<style scoped>\n",
              "    .dataframe tbody tr th:only-of-type {\n",
              "        vertical-align: middle;\n",
              "    }\n",
              "\n",
              "    .dataframe tbody tr th {\n",
              "        vertical-align: top;\n",
              "    }\n",
              "\n",
              "    .dataframe thead th {\n",
              "        text-align: right;\n",
              "    }\n",
              "</style>\n",
              "<table border=\"1\" class=\"dataframe\">\n",
              "  <thead>\n",
              "    <tr style=\"text-align: right;\">\n",
              "      <th></th>\n",
              "      <th>overview</th>\n",
              "      <th>genre_code</th>\n",
              "      <th>texto_procesado</th>\n",
              "    </tr>\n",
              "  </thead>\n",
              "  <tbody>\n",
              "    <tr>\n",
              "      <th>Sirât</th>\n",
              "      <td>A father and his son arrive at a rave deep in ...</td>\n",
              "      <td>1</td>\n",
              "      <td>[father, son, arrive, rave, mountain, southern...</td>\n",
              "    </tr>\n",
              "    <tr>\n",
              "      <th>The Girl with the Needle</th>\n",
              "      <td>Copenhagen 1919: A young worker finds herself ...</td>\n",
              "      <td>1</td>\n",
              "      <td>[young, worker, find, unemployed, pregnant, me...</td>\n",
              "    </tr>\n",
              "    <tr>\n",
              "      <th>The Drama</th>\n",
              "      <td>A couple, in the days leading up to their wedd...</td>\n",
              "      <td>1</td>\n",
              "      <td>[couple, day, lead, wedding, face, crisis, une...</td>\n",
              "    </tr>\n",
              "  </tbody>\n",
              "</table>\n",
              "</div>\n",
              "    <div class=\"colab-df-buttons\">\n",
              "\n",
              "  <div class=\"colab-df-container\">\n",
              "    <button class=\"colab-df-convert\" onclick=\"convertToInteractive('df-a22bc9c6-43fb-4f4c-8a99-b5431e7de985')\"\n",
              "            title=\"Convert this dataframe to an interactive table.\"\n",
              "            style=\"display:none;\">\n",
              "\n",
              "  <svg xmlns=\"http://www.w3.org/2000/svg\" height=\"24px\" viewBox=\"0 -960 960 960\">\n",
              "    <path d=\"M120-120v-720h720v720H120Zm60-500h600v-160H180v160Zm220 220h160v-160H400v160Zm0 220h160v-160H400v160ZM180-400h160v-160H180v160Zm440 0h160v-160H620v160ZM180-180h160v-160H180v160Zm440 0h160v-160H620v160Z\"/>\n",
              "  </svg>\n",
              "    </button>\n",
              "\n",
              "  <style>\n",
              "    .colab-df-container {\n",
              "      display:flex;\n",
              "      gap: 12px;\n",
              "    }\n",
              "\n",
              "    .colab-df-convert {\n",
              "      background-color: #E8F0FE;\n",
              "      border: none;\n",
              "      border-radius: 50%;\n",
              "      cursor: pointer;\n",
              "      display: none;\n",
              "      fill: #1967D2;\n",
              "      height: 32px;\n",
              "      padding: 0 0 0 0;\n",
              "      width: 32px;\n",
              "    }\n",
              "\n",
              "    .colab-df-convert:hover {\n",
              "      background-color: #E2EBFA;\n",
              "      box-shadow: 0px 1px 2px rgba(60, 64, 67, 0.3), 0px 1px 3px 1px rgba(60, 64, 67, 0.15);\n",
              "      fill: #174EA6;\n",
              "    }\n",
              "\n",
              "    .colab-df-buttons div {\n",
              "      margin-bottom: 4px;\n",
              "    }\n",
              "\n",
              "    [theme=dark] .colab-df-convert {\n",
              "      background-color: #3B4455;\n",
              "      fill: #D2E3FC;\n",
              "    }\n",
              "\n",
              "    [theme=dark] .colab-df-convert:hover {\n",
              "      background-color: #434B5C;\n",
              "      box-shadow: 0px 1px 3px 1px rgba(0, 0, 0, 0.15);\n",
              "      filter: drop-shadow(0px 1px 2px rgba(0, 0, 0, 0.3));\n",
              "      fill: #FFFFFF;\n",
              "    }\n",
              "  </style>\n",
              "\n",
              "    <script>\n",
              "      const buttonEl =\n",
              "        document.querySelector('#df-a22bc9c6-43fb-4f4c-8a99-b5431e7de985 button.colab-df-convert');\n",
              "      buttonEl.style.display =\n",
              "        google.colab.kernel.accessAllowed ? 'block' : 'none';\n",
              "\n",
              "      async function convertToInteractive(key) {\n",
              "        const element = document.querySelector('#df-a22bc9c6-43fb-4f4c-8a99-b5431e7de985');\n",
              "        const dataTable =\n",
              "          await google.colab.kernel.invokeFunction('convertToInteractive',\n",
              "                                                    [key], {});\n",
              "        if (!dataTable) return;\n",
              "\n",
              "        const docLinkHtml = 'Like what you see? Visit the ' +\n",
              "          '<a target=\"_blank\" href=https://colab.research.google.com/notebooks/data_table.ipynb>data table notebook</a>'\n",
              "          + ' to learn more about interactive tables.';\n",
              "        element.innerHTML = '';\n",
              "        dataTable['output_type'] = 'display_data';\n",
              "        await google.colab.output.renderOutput(dataTable, element);\n",
              "        const docLink = document.createElement('div');\n",
              "        docLink.innerHTML = docLinkHtml;\n",
              "        element.appendChild(docLink);\n",
              "      }\n",
              "    </script>\n",
              "  </div>\n",
              "\n",
              "\n",
              "    <div id=\"df-ee5cf58a-1fcb-409d-9fd0-32bfa9f93a1c\">\n",
              "      <button class=\"colab-df-quickchart\" onclick=\"quickchart('df-ee5cf58a-1fcb-409d-9fd0-32bfa9f93a1c')\"\n",
              "                title=\"Suggest charts\"\n",
              "                style=\"display:none;\">\n",
              "\n",
              "<svg xmlns=\"http://www.w3.org/2000/svg\" height=\"24px\"viewBox=\"0 0 24 24\"\n",
              "     width=\"24px\">\n",
              "    <g>\n",
              "        <path d=\"M19 3H5c-1.1 0-2 .9-2 2v14c0 1.1.9 2 2 2h14c1.1 0 2-.9 2-2V5c0-1.1-.9-2-2-2zM9 17H7v-7h2v7zm4 0h-2V7h2v10zm4 0h-2v-4h2v4z\"/>\n",
              "    </g>\n",
              "</svg>\n",
              "      </button>\n",
              "\n",
              "<style>\n",
              "  .colab-df-quickchart {\n",
              "      --bg-color: #E8F0FE;\n",
              "      --fill-color: #1967D2;\n",
              "      --hover-bg-color: #E2EBFA;\n",
              "      --hover-fill-color: #174EA6;\n",
              "      --disabled-fill-color: #AAA;\n",
              "      --disabled-bg-color: #DDD;\n",
              "  }\n",
              "\n",
              "  [theme=dark] .colab-df-quickchart {\n",
              "      --bg-color: #3B4455;\n",
              "      --fill-color: #D2E3FC;\n",
              "      --hover-bg-color: #434B5C;\n",
              "      --hover-fill-color: #FFFFFF;\n",
              "      --disabled-bg-color: #3B4455;\n",
              "      --disabled-fill-color: #666;\n",
              "  }\n",
              "\n",
              "  .colab-df-quickchart {\n",
              "    background-color: var(--bg-color);\n",
              "    border: none;\n",
              "    border-radius: 50%;\n",
              "    cursor: pointer;\n",
              "    display: none;\n",
              "    fill: var(--fill-color);\n",
              "    height: 32px;\n",
              "    padding: 0;\n",
              "    width: 32px;\n",
              "  }\n",
              "\n",
              "  .colab-df-quickchart:hover {\n",
              "    background-color: var(--hover-bg-color);\n",
              "    box-shadow: 0 1px 2px rgba(60, 64, 67, 0.3), 0 1px 3px 1px rgba(60, 64, 67, 0.15);\n",
              "    fill: var(--button-hover-fill-color);\n",
              "  }\n",
              "\n",
              "  .colab-df-quickchart-complete:disabled,\n",
              "  .colab-df-quickchart-complete:disabled:hover {\n",
              "    background-color: var(--disabled-bg-color);\n",
              "    fill: var(--disabled-fill-color);\n",
              "    box-shadow: none;\n",
              "  }\n",
              "\n",
              "  .colab-df-spinner {\n",
              "    border: 2px solid var(--fill-color);\n",
              "    border-color: transparent;\n",
              "    border-bottom-color: var(--fill-color);\n",
              "    animation:\n",
              "      spin 1s steps(1) infinite;\n",
              "  }\n",
              "\n",
              "  @keyframes spin {\n",
              "    0% {\n",
              "      border-color: transparent;\n",
              "      border-bottom-color: var(--fill-color);\n",
              "      border-left-color: var(--fill-color);\n",
              "    }\n",
              "    20% {\n",
              "      border-color: transparent;\n",
              "      border-left-color: var(--fill-color);\n",
              "      border-top-color: var(--fill-color);\n",
              "    }\n",
              "    30% {\n",
              "      border-color: transparent;\n",
              "      border-left-color: var(--fill-color);\n",
              "      border-top-color: var(--fill-color);\n",
              "      border-right-color: var(--fill-color);\n",
              "    }\n",
              "    40% {\n",
              "      border-color: transparent;\n",
              "      border-right-color: var(--fill-color);\n",
              "      border-top-color: var(--fill-color);\n",
              "    }\n",
              "    60% {\n",
              "      border-color: transparent;\n",
              "      border-right-color: var(--fill-color);\n",
              "    }\n",
              "    80% {\n",
              "      border-color: transparent;\n",
              "      border-right-color: var(--fill-color);\n",
              "      border-bottom-color: var(--fill-color);\n",
              "    }\n",
              "    90% {\n",
              "      border-color: transparent;\n",
              "      border-bottom-color: var(--fill-color);\n",
              "    }\n",
              "  }\n",
              "</style>\n",
              "\n",
              "      <script>\n",
              "        async function quickchart(key) {\n",
              "          const quickchartButtonEl =\n",
              "            document.querySelector('#' + key + ' button');\n",
              "          quickchartButtonEl.disabled = true;  // To prevent multiple clicks.\n",
              "          quickchartButtonEl.classList.add('colab-df-spinner');\n",
              "          try {\n",
              "            const charts = await google.colab.kernel.invokeFunction(\n",
              "                'suggestCharts', [key], {});\n",
              "          } catch (error) {\n",
              "            console.error('Error during call to suggestCharts:', error);\n",
              "          }\n",
              "          quickchartButtonEl.classList.remove('colab-df-spinner');\n",
              "          quickchartButtonEl.classList.add('colab-df-quickchart-complete');\n",
              "        }\n",
              "        (() => {\n",
              "          let quickchartButtonEl =\n",
              "            document.querySelector('#df-ee5cf58a-1fcb-409d-9fd0-32bfa9f93a1c button');\n",
              "          quickchartButtonEl.style.display =\n",
              "            google.colab.kernel.accessAllowed ? 'block' : 'none';\n",
              "        })();\n",
              "      </script>\n",
              "    </div>\n",
              "\n",
              "  <div id=\"id_de185adc-024a-4eba-894a-aa8199d0eafa\">\n",
              "    <style>\n",
              "      .colab-df-generate {\n",
              "        background-color: #E8F0FE;\n",
              "        border: none;\n",
              "        border-radius: 50%;\n",
              "        cursor: pointer;\n",
              "        display: none;\n",
              "        fill: #1967D2;\n",
              "        height: 32px;\n",
              "        padding: 0 0 0 0;\n",
              "        width: 32px;\n",
              "      }\n",
              "\n",
              "      .colab-df-generate:hover {\n",
              "        background-color: #E2EBFA;\n",
              "        box-shadow: 0px 1px 2px rgba(60, 64, 67, 0.3), 0px 1px 3px 1px rgba(60, 64, 67, 0.15);\n",
              "        fill: #174EA6;\n",
              "      }\n",
              "\n",
              "      [theme=dark] .colab-df-generate {\n",
              "        background-color: #3B4455;\n",
              "        fill: #D2E3FC;\n",
              "      }\n",
              "\n",
              "      [theme=dark] .colab-df-generate:hover {\n",
              "        background-color: #434B5C;\n",
              "        box-shadow: 0px 1px 3px 1px rgba(0, 0, 0, 0.15);\n",
              "        filter: drop-shadow(0px 1px 2px rgba(0, 0, 0, 0.3));\n",
              "        fill: #FFFFFF;\n",
              "      }\n",
              "    </style>\n",
              "    <button class=\"colab-df-generate\" onclick=\"generateWithVariable('df_new')\"\n",
              "            title=\"Generate code using this dataframe.\"\n",
              "            style=\"display:none;\">\n",
              "\n",
              "  <svg xmlns=\"http://www.w3.org/2000/svg\" height=\"24px\"viewBox=\"0 0 24 24\"\n",
              "       width=\"24px\">\n",
              "    <path d=\"M7,19H8.4L18.45,9,17,7.55,7,17.6ZM5,21V16.75L18.45,3.32a2,2,0,0,1,2.83,0l1.4,1.43a1.91,1.91,0,0,1,.58,1.4,1.91,1.91,0,0,1-.58,1.4L9.25,21ZM18.45,9,17,7.55Zm-12,3A5.31,5.31,0,0,0,4.9,8.1,5.31,5.31,0,0,0,1,6.5,5.31,5.31,0,0,0,4.9,4.9,5.31,5.31,0,0,0,6.5,1,5.31,5.31,0,0,0,8.1,4.9,5.31,5.31,0,0,0,12,6.5,5.46,5.46,0,0,0,6.5,12Z\"/>\n",
              "  </svg>\n",
              "    </button>\n",
              "    <script>\n",
              "      (() => {\n",
              "      const buttonEl =\n",
              "        document.querySelector('#id_de185adc-024a-4eba-894a-aa8199d0eafa button.colab-df-generate');\n",
              "      buttonEl.style.display =\n",
              "        google.colab.kernel.accessAllowed ? 'block' : 'none';\n",
              "\n",
              "      buttonEl.onclick = () => {\n",
              "        google.colab.notebook.generateWithVariable('df_new');\n",
              "      }\n",
              "      })();\n",
              "    </script>\n",
              "  </div>\n",
              "\n",
              "    </div>\n",
              "  </div>\n"
            ],
            "application/vnd.google.colaboratory.intrinsic+json": {
              "type": "dataframe",
              "variable_name": "df_new",
              "summary": "{\n  \"name\": \"df_new\",\n  \"rows\": 3,\n  \"fields\": [\n    {\n      \"column\": \"overview\",\n      \"properties\": {\n        \"dtype\": \"string\",\n        \"num_unique_values\": 3,\n        \"samples\": [\n          \"A father and his son arrive at a rave deep in the mountains of southern Morocco. They\\u2019re searching for Mar \\u2014 daughter and sister \\u2014 who vanished months ago at one of these endless, sleepless parties. Surrounded by electronic music and a raw, unfamiliar sense of freedom, they hand out her photo again and again. Hope is fading but they push through and follow a group of ravers heading to one last party in the desert. As they venture deeper into the burning wilderness, the journey forces them to confront their own limits.\",\n          \"Copenhagen 1919: A young worker finds herself unemployed and pregnant. She meets Dagmar, who runs an underground adoption agency. A strong connection grows but her world shatters when she stumbles on the shocking truth behind her work.\",\n          \"A couple, in the days leading up to their wedding, faces a crisis when unexpected revelations derail what one of them thought they knew about the other.\"\n        ],\n        \"semantic_type\": \"\",\n        \"description\": \"\"\n      }\n    },\n    {\n      \"column\": \"genre_code\",\n      \"properties\": {\n        \"dtype\": \"number\",\n        \"std\": 0,\n        \"min\": 1,\n        \"max\": 1,\n        \"num_unique_values\": 1,\n        \"samples\": [\n          1\n        ],\n        \"semantic_type\": \"\",\n        \"description\": \"\"\n      }\n    },\n    {\n      \"column\": \"texto_procesado\",\n      \"properties\": {\n        \"dtype\": \"object\",\n        \"semantic_type\": \"\",\n        \"description\": \"\"\n      }\n    }\n  ]\n}"
            }
          },
          "metadata": {},
          "execution_count": 53
        }
      ]
    },
    {
      "cell_type": "code",
      "source": [
        "for i in range(0,3):\n",
        "\n",
        "  doc_inst = modelo_final.make_doc(df_new['texto_procesado'][i])\n",
        "  topic_dist, _ = modelo_final.infer(doc_inst)\n",
        "  print(\"Distribución de los temas\", topic_dist)\n",
        "\n",
        "  prob_dist = modelo_final.estimate(doc_inst)\n",
        "  print(\"P(Y=1|texto) con Y=1 -> Positivo\", prob_dist)"
      ],
      "metadata": {
        "colab": {
          "base_uri": "https://localhost:8080/"
        },
        "id": "-lUhmsv_SEdC",
        "outputId": "45993934-1fc9-41c8-a485-62e0bf4fd97c"
      },
      "execution_count": 54,
      "outputs": [
        {
          "output_type": "stream",
          "name": "stdout",
          "text": [
            "Distribución de los temas [0.22314441 0.03505515 0.03432328 0.19234486 0.01154179 0.12608656\n",
            " 0.15446094 0.00966374 0.07716232 0.00943771 0.12677926]\n",
            "P(Y=1|texto) con Y=1 -> Positivo [0.4225638]\n",
            "Distribución de los temas [0.15102118 0.10331837 0.02007046 0.09624451 0.26636583 0.01937793\n",
            " 0.02886832 0.05816001 0.01431296 0.2216506  0.02060988]\n",
            "P(Y=1|texto) con Y=1 -> Positivo [0.32653633]\n",
            "Distribución de los temas [0.22466208 0.03179353 0.0298572  0.02127031 0.1524412  0.02882699\n",
            " 0.28675488 0.02556752 0.02129224 0.08592196 0.09161212]\n",
            "P(Y=1|texto) con Y=1 -> Positivo [0.60610354]\n"
          ]
        },
        {
          "output_type": "stream",
          "name": "stderr",
          "text": [
            "<ipython-input-54-a0ab1eeee5ce>:3: FutureWarning: Series.__getitem__ treating keys as positions is deprecated. In a future version, integer keys will always be treated as labels (consistent with DataFrame behavior). To access a value by position, use `ser.iloc[pos]`\n",
            "  doc_inst = modelo_final.make_doc(df_new['texto_procesado'][i])\n"
          ]
        }
      ]
    },
    {
      "cell_type": "code",
      "source": [],
      "metadata": {
        "id": "J8B20TRUSsie"
      },
      "execution_count": null,
      "outputs": []
    }
  ]
}